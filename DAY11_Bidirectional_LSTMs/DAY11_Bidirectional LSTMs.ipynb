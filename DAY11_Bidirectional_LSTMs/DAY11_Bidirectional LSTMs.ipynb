{
 "cells": [
  {
   "cell_type": "code",
   "execution_count": 2,
   "id": "bef32610",
   "metadata": {},
   "outputs": [],
   "source": [
    "import torch\n",
    "from torchvision import datasets, "
   ]
  },
  {
   "cell_type": "code",
   "execution_count": null,
   "id": "0b5261db",
   "metadata": {},
   "outputs": [],
   "source": [
    "train_transform = [transforms.ToTensor()]\n",
    "train_transform=transforms.Compose(train_transform)\n",
    "\n",
    "num_workers = 0\n",
    "batch_size = 40\n",
    "train_data = datasets.MNIST(root='data', train= True, download=True, transform=train_transform)\n",
    "valid_data = datasets.MNIST(root='data', train= True, download=True, transform=train_transform)\n",
    "test_data = datasets.MNIST(root='data', train= False, download=True, transform=train_transform)"
   ]
  }
 ],
 "metadata": {
  "kernelspec": {
   "display_name": "Python 3",
   "language": "python",
   "name": "python3"
  },
  "language_info": {
   "codemirror_mode": {
    "name": "ipython",
    "version": 3
   },
   "file_extension": ".py",
   "mimetype": "text/x-python",
   "name": "python",
   "nbconvert_exporter": "python",
   "pygments_lexer": "ipython3",
   "version": "3.9.5"
  }
 },
 "nbformat": 4,
 "nbformat_minor": 5
}
