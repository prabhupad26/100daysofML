{
 "cells": [
  {
   "cell_type": "code",
   "execution_count": 1,
   "metadata": {
    "colab": {
     "base_uri": "https://localhost:8080/"
    },
    "id": "Ay6UI0tjvWa_",
    "outputId": "e79b25ba-b1f2-43e8-f5cb-c21949ec4012"
   },
   "outputs": [
    {
     "name": "stdout",
     "output_type": "stream",
     "text": [
      "Requirement already satisfied: datasets==1.11.0 in /usr/local/lib/python3.7/dist-packages (1.11.0)\n",
      "Requirement already satisfied: dill in /usr/local/lib/python3.7/dist-packages (from datasets==1.11.0) (0.3.4)\n",
      "Requirement already satisfied: importlib-metadata in /usr/local/lib/python3.7/dist-packages (from datasets==1.11.0) (4.6.4)\n",
      "Requirement already satisfied: requests>=2.19.0 in /usr/local/lib/python3.7/dist-packages (from datasets==1.11.0) (2.23.0)\n",
      "Requirement already satisfied: fsspec>=2021.05.0 in /usr/local/lib/python3.7/dist-packages (from datasets==1.11.0) (2021.8.1)\n",
      "Requirement already satisfied: tqdm>=4.42 in /usr/local/lib/python3.7/dist-packages (from datasets==1.11.0) (4.49.0)\n",
      "Requirement already satisfied: pyarrow!=4.0.0,>=1.0.0 in /usr/local/lib/python3.7/dist-packages (from datasets==1.11.0) (3.0.0)\n",
      "Requirement already satisfied: huggingface-hub<0.1.0 in /usr/local/lib/python3.7/dist-packages (from datasets==1.11.0) (0.0.2)\n",
      "Requirement already satisfied: multiprocess in /usr/local/lib/python3.7/dist-packages (from datasets==1.11.0) (0.70.12.2)\n",
      "Requirement already satisfied: xxhash in /usr/local/lib/python3.7/dist-packages (from datasets==1.11.0) (2.0.2)\n",
      "Requirement already satisfied: numpy>=1.17 in /usr/local/lib/python3.7/dist-packages (from datasets==1.11.0) (1.19.5)\n",
      "Requirement already satisfied: packaging in /usr/local/lib/python3.7/dist-packages (from datasets==1.11.0) (21.0)\n",
      "Requirement already satisfied: pandas in /usr/local/lib/python3.7/dist-packages (from datasets==1.11.0) (1.1.5)\n",
      "Requirement already satisfied: filelock in /usr/local/lib/python3.7/dist-packages (from huggingface-hub<0.1.0->datasets==1.11.0) (3.0.12)\n",
      "Requirement already satisfied: chardet<4,>=3.0.2 in /usr/local/lib/python3.7/dist-packages (from requests>=2.19.0->datasets==1.11.0) (3.0.4)\n",
      "Requirement already satisfied: idna<3,>=2.5 in /usr/local/lib/python3.7/dist-packages (from requests>=2.19.0->datasets==1.11.0) (2.10)\n",
      "Requirement already satisfied: urllib3!=1.25.0,!=1.25.1,<1.26,>=1.21.1 in /usr/local/lib/python3.7/dist-packages (from requests>=2.19.0->datasets==1.11.0) (1.24.3)\n",
      "Requirement already satisfied: certifi>=2017.4.17 in /usr/local/lib/python3.7/dist-packages (from requests>=2.19.0->datasets==1.11.0) (2021.5.30)\n",
      "Requirement already satisfied: typing-extensions>=3.6.4 in /usr/local/lib/python3.7/dist-packages (from importlib-metadata->datasets==1.11.0) (3.7.4.3)\n",
      "Requirement already satisfied: zipp>=0.5 in /usr/local/lib/python3.7/dist-packages (from importlib-metadata->datasets==1.11.0) (3.5.0)\n",
      "Requirement already satisfied: pyparsing>=2.0.2 in /usr/local/lib/python3.7/dist-packages (from packaging->datasets==1.11.0) (2.4.7)\n",
      "Requirement already satisfied: pytz>=2017.2 in /usr/local/lib/python3.7/dist-packages (from pandas->datasets==1.11.0) (2018.9)\n",
      "Requirement already satisfied: python-dateutil>=2.7.3 in /usr/local/lib/python3.7/dist-packages (from pandas->datasets==1.11.0) (2.8.2)\n",
      "Requirement already satisfied: six>=1.5 in /usr/local/lib/python3.7/dist-packages (from python-dateutil>=2.7.3->pandas->datasets==1.11.0) (1.15.0)\n",
      "Requirement already satisfied: transformers==4.4.0 in /usr/local/lib/python3.7/dist-packages (4.4.0)\n",
      "Requirement already satisfied: packaging in /usr/local/lib/python3.7/dist-packages (from transformers==4.4.0) (21.0)\n",
      "Requirement already satisfied: tokenizers<0.11,>=0.10.1 in /usr/local/lib/python3.7/dist-packages (from transformers==4.4.0) (0.10.3)\n",
      "Requirement already satisfied: regex!=2019.12.17 in /usr/local/lib/python3.7/dist-packages (from transformers==4.4.0) (2019.12.20)\n",
      "Requirement already satisfied: sacremoses in /usr/local/lib/python3.7/dist-packages (from transformers==4.4.0) (0.0.45)\n",
      "Requirement already satisfied: filelock in /usr/local/lib/python3.7/dist-packages (from transformers==4.4.0) (3.0.12)\n",
      "Requirement already satisfied: tqdm>=4.27 in /usr/local/lib/python3.7/dist-packages (from transformers==4.4.0) (4.49.0)\n",
      "Requirement already satisfied: importlib-metadata in /usr/local/lib/python3.7/dist-packages (from transformers==4.4.0) (4.6.4)\n",
      "Requirement already satisfied: requests in /usr/local/lib/python3.7/dist-packages (from transformers==4.4.0) (2.23.0)\n",
      "Requirement already satisfied: numpy>=1.17 in /usr/local/lib/python3.7/dist-packages (from transformers==4.4.0) (1.19.5)\n",
      "Requirement already satisfied: typing-extensions>=3.6.4 in /usr/local/lib/python3.7/dist-packages (from importlib-metadata->transformers==4.4.0) (3.7.4.3)\n",
      "Requirement already satisfied: zipp>=0.5 in /usr/local/lib/python3.7/dist-packages (from importlib-metadata->transformers==4.4.0) (3.5.0)\n",
      "Requirement already satisfied: pyparsing>=2.0.2 in /usr/local/lib/python3.7/dist-packages (from packaging->transformers==4.4.0) (2.4.7)\n",
      "Requirement already satisfied: urllib3!=1.25.0,!=1.25.1,<1.26,>=1.21.1 in /usr/local/lib/python3.7/dist-packages (from requests->transformers==4.4.0) (1.24.3)\n",
      "Requirement already satisfied: idna<3,>=2.5 in /usr/local/lib/python3.7/dist-packages (from requests->transformers==4.4.0) (2.10)\n",
      "Requirement already satisfied: chardet<4,>=3.0.2 in /usr/local/lib/python3.7/dist-packages (from requests->transformers==4.4.0) (3.0.4)\n",
      "Requirement already satisfied: certifi>=2017.4.17 in /usr/local/lib/python3.7/dist-packages (from requests->transformers==4.4.0) (2021.5.30)\n",
      "Requirement already satisfied: six in /usr/local/lib/python3.7/dist-packages (from sacremoses->transformers==4.4.0) (1.15.0)\n",
      "Requirement already satisfied: click in /usr/local/lib/python3.7/dist-packages (from sacremoses->transformers==4.4.0) (7.1.2)\n",
      "Requirement already satisfied: joblib in /usr/local/lib/python3.7/dist-packages (from sacremoses->transformers==4.4.0) (1.0.1)\n",
      "Requirement already satisfied: soundfile in /usr/local/lib/python3.7/dist-packages (0.10.3.post1)\n",
      "Requirement already satisfied: cffi>=1.0 in /usr/local/lib/python3.7/dist-packages (from soundfile) (1.14.6)\n",
      "Requirement already satisfied: pycparser in /usr/local/lib/python3.7/dist-packages (from cffi>=1.0->soundfile) (2.20)\n",
      "Requirement already satisfied: jiwer in /usr/local/lib/python3.7/dist-packages (2.2.0)\n",
      "Requirement already satisfied: python-Levenshtein in /usr/local/lib/python3.7/dist-packages (from jiwer) (0.12.2)\n",
      "Requirement already satisfied: numpy in /usr/local/lib/python3.7/dist-packages (from jiwer) (1.19.5)\n",
      "Requirement already satisfied: setuptools in /usr/local/lib/python3.7/dist-packages (from python-Levenshtein->jiwer) (57.4.0)\n"
     ]
    }
   ],
   "source": [
    "!pip install datasets==1.11.0\n",
    "!pip install transformers==4.4.0\n",
    "!pip install soundfile\n",
    "!pip install jiwer"
   ]
  },
  {
   "cell_type": "code",
   "execution_count": 2,
   "metadata": {
    "id": "_4XUQOf7vbuS"
   },
   "outputs": [],
   "source": [
    "from datasets import load_dataset, load_metric\n",
    "from tqdm import tqdm"
   ]
  },
  {
   "cell_type": "code",
   "execution_count": 3,
   "metadata": {
    "colab": {
     "base_uri": "https://localhost:8080/",
     "height": 339,
     "referenced_widgets": [
      "19a9b2d62f3742f1a2b800027e65b1a3",
      "fc1eb7f99eec416fbab00a82e003a83b",
      "1ee4072a9fb148cba207b7a4925b8db1",
      "1c0c3c07d1c14280a19b3e19e526ee0d",
      "b1775d3b699d4e85a0ba1b50a7bf953f",
      "21ba063bb45e4126af4eb9d28e07ccbd",
      "5b43fbf988bf42dcab7ecb79a64ab7df",
      "217075bc4b294a4f90eebea749ace7ae",
      "f8349118aed141578c37ae550f07e067",
      "838e20b0fe914168beaa39f8bf52f33a",
      "02564341266243b9a21a7def935d8deb",
      "2e106522da6e4c5cbf1056f7090ba71f",
      "6da8214c91fc494da0f681efa61c4681",
      "5a1ee1bef4314a84b5cda055c8bf6170",
      "ecf63f0246bd49229119eaa099f9f606",
      "ce9530f8b2b74611bb3a4ac0ed775ce2",
      "95ee7967976d4787bdae3d512611c55f",
      "4efc9961d10141b899b2f4c66c59e6b8",
      "0860d9300f044ad0b9ae5c02be6dc7b2",
      "bfd7e6c7dab348128ff1252f4c4343ae",
      "c83137079a014e6ea0e430679d9e76d2",
      "1c8e2db0b6774e0787140cb24280861c",
      "8a34732a484c4db1a14d31e489006924",
      "499481df0ecd41108f36f87cf4f435e0",
      "af602d53ae2d447fa690281c04d766bb",
      "5807cddb736f4dea8fa5ff5ab8872124",
      "338f6823511f40f380e8082a65482314",
      "34d6f4df0ab34e7ba8bbef07498cb252",
      "6eba878216c14e86ad46f2596717b64b",
      "235f56c7b6cf4406bcfd3e421f1dd828",
      "e052f35dc7d24d9dbb8dbe96796a93b4",
      "e03b518b4d484fc7a3ad3b9bf6441df7"
     ]
    },
    "id": "d3T7i4n4_swB",
    "outputId": "65da58a7-f98b-4b84-ab00-4503bdbbdd10"
   },
   "outputs": [
    {
     "data": {
      "application/vnd.jupyter.widget-view+json": {
       "model_id": "19a9b2d62f3742f1a2b800027e65b1a3",
       "version_major": 2,
       "version_minor": 0
      },
      "text/plain": [
       "HBox(children=(FloatProgress(value=0.0, description='Downloading', max=2369.0, style=ProgressStyle(description…"
      ]
     },
     "metadata": {},
     "output_type": "display_data"
    },
    {
     "name": "stdout",
     "output_type": "stream",
     "text": [
      "\n"
     ]
    },
    {
     "data": {
      "application/vnd.jupyter.widget-view+json": {
       "model_id": "f8349118aed141578c37ae550f07e067",
       "version_major": 2,
       "version_minor": 0
      },
      "text/plain": [
       "HBox(children=(FloatProgress(value=0.0, description='Downloading', max=1060.0, style=ProgressStyle(description…"
      ]
     },
     "metadata": {},
     "output_type": "display_data"
    },
    {
     "name": "stdout",
     "output_type": "stream",
     "text": [
      "\n",
      "Downloading and preparing dataset timit_asr/clean (download: 828.75 MiB, generated: 7.90 MiB, post-processed: Unknown size, total: 836.65 MiB) to /root/.cache/huggingface/datasets/timit_asr/clean/2.0.1/66d672b7070257726bc9e76100d06d3e342aa6c37aed742803302c293540e96d...\n"
     ]
    },
    {
     "data": {
      "application/vnd.jupyter.widget-view+json": {
       "model_id": "95ee7967976d4787bdae3d512611c55f",
       "version_major": 2,
       "version_minor": 0
      },
      "text/plain": [
       "HBox(children=(FloatProgress(value=1.0, bar_style='info', layout=Layout(width='20px'), max=1.0), HTML(value=''…"
      ]
     },
     "metadata": {},
     "output_type": "display_data"
    },
    {
     "data": {
      "application/vnd.jupyter.widget-view+json": {
       "model_id": "af602d53ae2d447fa690281c04d766bb",
       "version_major": 2,
       "version_minor": 0
      },
      "text/plain": [
       "HBox(children=(FloatProgress(value=1.0, bar_style='info', layout=Layout(width='20px'), max=1.0), HTML(value=''…"
      ]
     },
     "metadata": {},
     "output_type": "display_data"
    },
    {
     "name": "stdout",
     "output_type": "stream",
     "text": [
      "Dataset timit_asr downloaded and prepared to /root/.cache/huggingface/datasets/timit_asr/clean/2.0.1/66d672b7070257726bc9e76100d06d3e342aa6c37aed742803302c293540e96d. Subsequent calls will reuse this data.\n"
     ]
    },
    {
     "data": {
      "text/plain": [
       "DatasetDict({\n",
       "    train: Dataset({\n",
       "        features: ['file', 'text', 'phonetic_detail', 'word_detail', 'dialect_region', 'sentence_type', 'speaker_id', 'id'],\n",
       "        num_rows: 4620\n",
       "    })\n",
       "    test: Dataset({\n",
       "        features: ['file', 'text', 'phonetic_detail', 'word_detail', 'dialect_region', 'sentence_type', 'speaker_id', 'id'],\n",
       "        num_rows: 1680\n",
       "    })\n",
       "})"
      ]
     },
     "execution_count": 3,
     "metadata": {},
     "output_type": "execute_result"
    }
   ],
   "source": [
    "timit = load_dataset(\"timit_asr\")\n",
    "timit"
   ]
  },
  {
   "cell_type": "code",
   "execution_count": null,
   "metadata": {
    "id": "rLo9iEZEvf8J"
   },
   "outputs": [],
   "source": [
    "set(timit['train']['text'])"
   ]
  },
  {
   "cell_type": "code",
   "execution_count": 5,
   "metadata": {
    "id": "81s_UUJdvgvI"
   },
   "outputs": [],
   "source": [
    "timit = timit.remove_columns([\"phonetic_detail\", \"word_detail\", \"dialect_region\", \"id\", \"sentence_type\", \"speaker_id\"])"
   ]
  },
  {
   "cell_type": "code",
   "execution_count": 6,
   "metadata": {
    "id": "Pez-EMSJwF5X"
   },
   "outputs": [],
   "source": [
    "from datasets import ClassLabel\n",
    "import random\n",
    "import pandas as pd\n",
    "from IPython.display import display, HTML"
   ]
  },
  {
   "cell_type": "code",
   "execution_count": 7,
   "metadata": {
    "id": "HCPS5qozwK8P"
   },
   "outputs": [],
   "source": [
    "def show_random_elements(dataset, num_examples=10):\n",
    "    assert num_examples <= len(dataset), \"Can't pick more elements than there are in the dataset.\"\n",
    "    picks = []\n",
    "    for _ in range(num_examples):\n",
    "        pick = random.randint(0, len(dataset)-1)\n",
    "        while pick in picks:\n",
    "            pick = random.randint(0, len(dataset)-1)\n",
    "        picks.append(pick)\n",
    "\n",
    "    df = pd.DataFrame(dataset[picks])\n",
    "    display(HTML(df.to_html()))"
   ]
  },
  {
   "cell_type": "code",
   "execution_count": 8,
   "metadata": {
    "colab": {
     "base_uri": "https://localhost:8080/",
     "height": 359
    },
    "id": "b3G1AJhVwOhu",
    "outputId": "8ca0fa35-db84-482b-a86c-831198966bb4"
   },
   "outputs": [
    {
     "data": {
      "text/html": [
       "<table border=\"1\" class=\"dataframe\">\n",
       "  <thead>\n",
       "    <tr style=\"text-align: right;\">\n",
       "      <th></th>\n",
       "      <th>text</th>\n",
       "    </tr>\n",
       "  </thead>\n",
       "  <tbody>\n",
       "    <tr>\n",
       "      <th>0</th>\n",
       "      <td>She had your dark suit in greasy wash water all year.</td>\n",
       "    </tr>\n",
       "    <tr>\n",
       "      <th>1</th>\n",
       "      <td>Often you'll get back more than you put in.</td>\n",
       "    </tr>\n",
       "    <tr>\n",
       "      <th>2</th>\n",
       "      <td>She always could sense the shag end of a woolly day.</td>\n",
       "    </tr>\n",
       "    <tr>\n",
       "      <th>3</th>\n",
       "      <td>Now if you'll pardon me, I won't keep him waiting.</td>\n",
       "    </tr>\n",
       "    <tr>\n",
       "      <th>4</th>\n",
       "      <td>Will you please confirm government policy regarding waste removal?</td>\n",
       "    </tr>\n",
       "    <tr>\n",
       "      <th>5</th>\n",
       "      <td>We are open every Monday evening.</td>\n",
       "    </tr>\n",
       "    <tr>\n",
       "      <th>6</th>\n",
       "      <td>She had your dark suit in greasy wash water all year.</td>\n",
       "    </tr>\n",
       "    <tr>\n",
       "      <th>7</th>\n",
       "      <td>This birth length seems to be typical.</td>\n",
       "    </tr>\n",
       "    <tr>\n",
       "      <th>8</th>\n",
       "      <td>And so he walked, aimless again.</td>\n",
       "    </tr>\n",
       "    <tr>\n",
       "      <th>9</th>\n",
       "      <td>Gus saw pine trees and redwoods on his walk through Sequoia National Forest.</td>\n",
       "    </tr>\n",
       "  </tbody>\n",
       "</table>"
      ],
      "text/plain": [
       "<IPython.core.display.HTML object>"
      ]
     },
     "metadata": {},
     "output_type": "display_data"
    }
   ],
   "source": [
    "show_random_elements(timit[\"train\"].remove_columns([\"file\"]))"
   ]
  },
  {
   "cell_type": "code",
   "execution_count": 9,
   "metadata": {
    "colab": {
     "base_uri": "https://localhost:8080/",
     "height": 115,
     "referenced_widgets": [
      "e08826ac67af4587b94faa02a55aa7c4",
      "74a85bcedf3340d9920b025ceb4ed13f",
      "40f31ceb0e7242eeac858953dfb655da",
      "09cd6ea098394eb9bc9d7d2e1c87be7c",
      "e85f2fac7545406d83393213e7020370",
      "a0a66b38a7f244eba650205c593dba9b",
      "4e12c75f59a84199b79c6c537e7da136",
      "71911afc014d467bbbe608a4decaeb64",
      "68c9cbcbd50a422f9bf80346d1d881d4",
      "e0ef7e5bb3084a0b93a13c60d224fd53",
      "4476317b0cef4a16b275a8b3903a8924",
      "f6baf7dff073439aa4d44fed75ed923e",
      "c02f6e2cca9045e1985a97bf7b46f7fc",
      "696c6ea90993421d9a2ea808da9c1573",
      "7dda26aec18340329c3bdf916f820439",
      "6fc3bcd76162428bb5b09bd8fab8fdbb"
     ]
    },
    "id": "1ZBKnlZewQNo",
    "outputId": "7670dd56-c260-47ff-f6ad-b06cac5f74c8"
   },
   "outputs": [
    {
     "data": {
      "application/vnd.jupyter.widget-view+json": {
       "model_id": "e08826ac67af4587b94faa02a55aa7c4",
       "version_major": 2,
       "version_minor": 0
      },
      "text/plain": [
       "HBox(children=(FloatProgress(value=0.0, max=4620.0), HTML(value='')))"
      ]
     },
     "metadata": {},
     "output_type": "display_data"
    },
    {
     "name": "stdout",
     "output_type": "stream",
     "text": [
      "\n"
     ]
    },
    {
     "data": {
      "application/vnd.jupyter.widget-view+json": {
       "model_id": "68c9cbcbd50a422f9bf80346d1d881d4",
       "version_major": 2,
       "version_minor": 0
      },
      "text/plain": [
       "HBox(children=(FloatProgress(value=0.0, max=1680.0), HTML(value='')))"
      ]
     },
     "metadata": {},
     "output_type": "display_data"
    },
    {
     "name": "stdout",
     "output_type": "stream",
     "text": [
      "\n"
     ]
    }
   ],
   "source": [
    "import re\n",
    "chars_to_ignore_regex = '[\\,\\?\\.\\!\\-\\;\\:\\\"]'\n",
    "\n",
    "def remove_special_characters(batch):\n",
    "    batch[\"text\"] = re.sub(chars_to_ignore_regex, '', batch[\"text\"]).lower()\n",
    "    return batch\n",
    "\n",
    "timit = timit.map(remove_special_characters)"
   ]
  },
  {
   "cell_type": "code",
   "execution_count": 10,
   "metadata": {
    "colab": {
     "base_uri": "https://localhost:8080/",
     "height": 359
    },
    "id": "uFOiBo6CBtyc",
    "outputId": "a9220564-9f91-4d0d-8b57-877ea9205be3"
   },
   "outputs": [
    {
     "data": {
      "text/html": [
       "<table border=\"1\" class=\"dataframe\">\n",
       "  <thead>\n",
       "    <tr style=\"text-align: right;\">\n",
       "      <th></th>\n",
       "      <th>text</th>\n",
       "    </tr>\n",
       "  </thead>\n",
       "  <tbody>\n",
       "    <tr>\n",
       "      <th>0</th>\n",
       "      <td>it's never wrong if love is real</td>\n",
       "    </tr>\n",
       "    <tr>\n",
       "      <th>1</th>\n",
       "      <td>george seldom watches daytime movies</td>\n",
       "    </tr>\n",
       "    <tr>\n",
       "      <th>2</th>\n",
       "      <td>one even gave my little dog a biscuit</td>\n",
       "    </tr>\n",
       "    <tr>\n",
       "      <th>3</th>\n",
       "      <td>half slyly he enjoyed seeing her stoop to lift the things</td>\n",
       "    </tr>\n",
       "    <tr>\n",
       "      <th>4</th>\n",
       "      <td>nonprofit organizations have frequent fund raisers</td>\n",
       "    </tr>\n",
       "    <tr>\n",
       "      <th>5</th>\n",
       "      <td>she had your dark suit in greasy wash water all year</td>\n",
       "    </tr>\n",
       "    <tr>\n",
       "      <th>6</th>\n",
       "      <td>then the telephoning began</td>\n",
       "    </tr>\n",
       "    <tr>\n",
       "      <th>7</th>\n",
       "      <td>in the winter hibachi in the kitchen or grill over the logs of the fireplace</td>\n",
       "    </tr>\n",
       "    <tr>\n",
       "      <th>8</th>\n",
       "      <td>don't ask me to carry an oily rag like that</td>\n",
       "    </tr>\n",
       "    <tr>\n",
       "      <th>9</th>\n",
       "      <td>eat your raisins outdoors on the porch steps</td>\n",
       "    </tr>\n",
       "  </tbody>\n",
       "</table>"
      ],
      "text/plain": [
       "<IPython.core.display.HTML object>"
      ]
     },
     "metadata": {},
     "output_type": "display_data"
    }
   ],
   "source": [
    "show_random_elements(timit[\"train\"].remove_columns([\"file\"]))"
   ]
  },
  {
   "cell_type": "code",
   "execution_count": 11,
   "metadata": {
    "colab": {
     "base_uri": "https://localhost:8080/",
     "height": 115,
     "referenced_widgets": [
      "66b8702bf84f4077a80c9fd35875873b",
      "45cf8afac16944a58d06c19f99fe4476",
      "5644a9c7f52f4abab7ff9c51118e083a",
      "b8bf59ae3c1047d3b35d1644a4e4be80",
      "2379a23951e04c5e83c31496160857d9",
      "717805756a1d45bb97f35550ce640b50",
      "52137dc0a9ff4a39a2cee3cb6207c0c3",
      "229e63e910e04d6b86d4cb2c5665bbb7",
      "243102452bd442d5a82ff6873cfdbfa5",
      "8289f2561b0e40fa845935c50ff7e6ff",
      "cdc2bb5bec8840f7b51a3f3cf2096ae9",
      "590af8d291aa4d68bd63f4356dcbd85b",
      "90e6805dcc624aa2a5bc5f78c105b6da",
      "ab4723b68cb14912959fbab1ee21a634",
      "0a00cb68ef50452d97b913b3c2abbd80",
      "9257ffc744044fb99f7a6e2a70bef6a5"
     ]
    },
    "id": "lQYgCQ5uCXTL",
    "outputId": "10a12dd0-dec1-47d3-953e-afe6bbbb905d"
   },
   "outputs": [
    {
     "data": {
      "application/vnd.jupyter.widget-view+json": {
       "model_id": "66b8702bf84f4077a80c9fd35875873b",
       "version_major": 2,
       "version_minor": 0
      },
      "text/plain": [
       "HBox(children=(FloatProgress(value=0.0, max=1.0), HTML(value='')))"
      ]
     },
     "metadata": {},
     "output_type": "display_data"
    },
    {
     "name": "stdout",
     "output_type": "stream",
     "text": [
      "\n"
     ]
    },
    {
     "data": {
      "application/vnd.jupyter.widget-view+json": {
       "model_id": "243102452bd442d5a82ff6873cfdbfa5",
       "version_major": 2,
       "version_minor": 0
      },
      "text/plain": [
       "HBox(children=(FloatProgress(value=0.0, max=1.0), HTML(value='')))"
      ]
     },
     "metadata": {},
     "output_type": "display_data"
    },
    {
     "name": "stdout",
     "output_type": "stream",
     "text": [
      "\n"
     ]
    }
   ],
   "source": [
    "def extract_all_chars(batch):\n",
    "  all_text = \" \".join(batch[\"text\"])\n",
    "  vocab = list(set(all_text))\n",
    "  return {\"vocab\": [vocab], \"all_text\": [all_text]}\n",
    "\n",
    "vocabs = timit.map(extract_all_chars, batched=True, batch_size=-1, keep_in_memory=True, remove_columns=timit.column_names[\"train\"])"
   ]
  },
  {
   "cell_type": "code",
   "execution_count": 12,
   "metadata": {
    "colab": {
     "base_uri": "https://localhost:8080/"
    },
    "id": "5kCPxaXbCeVb",
    "outputId": "461e829b-92dc-400f-aac5-52e3a3935b2a"
   },
   "outputs": [
    {
     "data": {
      "text/plain": [
       "{' ': 23,\n",
       " \"'\": 10,\n",
       " 'a': 19,\n",
       " 'b': 11,\n",
       " 'c': 16,\n",
       " 'd': 4,\n",
       " 'e': 24,\n",
       " 'f': 14,\n",
       " 'g': 25,\n",
       " 'h': 15,\n",
       " 'i': 20,\n",
       " 'j': 12,\n",
       " 'k': 13,\n",
       " 'l': 26,\n",
       " 'm': 18,\n",
       " 'n': 2,\n",
       " 'o': 8,\n",
       " 'p': 3,\n",
       " 'q': 0,\n",
       " 'r': 22,\n",
       " 's': 6,\n",
       " 't': 1,\n",
       " 'u': 7,\n",
       " 'v': 9,\n",
       " 'w': 27,\n",
       " 'x': 21,\n",
       " 'y': 17,\n",
       " 'z': 5}"
      ]
     },
     "execution_count": 12,
     "metadata": {},
     "output_type": "execute_result"
    }
   ],
   "source": [
    "vocab_list = list(set(vocabs[\"train\"][\"vocab\"][0]) | set(vocabs[\"test\"][\"vocab\"][0]))\n",
    "\n",
    "vocab_dict = {v: k for k, v in enumerate(vocab_list)}\n",
    "vocab_dict"
   ]
  },
  {
   "cell_type": "code",
   "execution_count": 13,
   "metadata": {
    "id": "TizJLcc3CiTq"
   },
   "outputs": [],
   "source": [
    "vocab_dict[\"|\"] = vocab_dict[\" \"]\n",
    "del vocab_dict[\" \"]"
   ]
  },
  {
   "cell_type": "code",
   "execution_count": 14,
   "metadata": {
    "colab": {
     "base_uri": "https://localhost:8080/"
    },
    "id": "icTtuqFWCmfq",
    "outputId": "ab080363-ba50-460a-e551-405df00a5a1a"
   },
   "outputs": [
    {
     "name": "stdout",
     "output_type": "stream",
     "text": [
      "30\n"
     ]
    }
   ],
   "source": [
    "vocab_dict[\"[UNK]\"] = len(vocab_dict)\n",
    "vocab_dict[\"[PAD]\"] = len(vocab_dict)\n",
    "print(len(vocab_dict))"
   ]
  },
  {
   "cell_type": "code",
   "execution_count": 15,
   "metadata": {
    "id": "eVddtDSSCorC"
   },
   "outputs": [],
   "source": [
    "import json\n",
    "with open('vocab.json', 'w') as vocab_file:\n",
    "    json.dump(vocab_dict, vocab_file)"
   ]
  },
  {
   "cell_type": "code",
   "execution_count": 16,
   "metadata": {
    "id": "o3WIeQ9fCqwJ"
   },
   "outputs": [],
   "source": [
    "from transformers import Wav2Vec2CTCTokenizer\n",
    "\n",
    "tokenizer = Wav2Vec2CTCTokenizer(\"./vocab.json\", unk_token=\"[UNK]\", pad_token=\"[PAD]\", word_delimiter_token=\"|\")"
   ]
  },
  {
   "cell_type": "code",
   "execution_count": 17,
   "metadata": {
    "id": "z6TjJ4VgCtTa"
   },
   "outputs": [],
   "source": [
    "from transformers import Wav2Vec2FeatureExtractor\n",
    "\n",
    "feature_extractor = Wav2Vec2FeatureExtractor(feature_size=1, sampling_rate=16000, padding_value=0.0, do_normalize=True, return_attention_mask=False)"
   ]
  },
  {
   "cell_type": "code",
   "execution_count": 18,
   "metadata": {
    "id": "Wm3hR_EhCy3i"
   },
   "outputs": [],
   "source": [
    "from transformers import Wav2Vec2Processor\n",
    "\n",
    "processor = Wav2Vec2Processor(feature_extractor=feature_extractor, tokenizer=tokenizer)"
   ]
  },
  {
   "cell_type": "code",
   "execution_count": 20,
   "metadata": {
    "id": "em1OA6VgC2Zi"
   },
   "outputs": [],
   "source": [
    "processor.save_pretrained(\"/content/wav2vec2-base-timit-demo\")"
   ]
  },
  {
   "cell_type": "code",
   "execution_count": 21,
   "metadata": {
    "colab": {
     "base_uri": "https://localhost:8080/"
    },
    "id": "mo4e85GMC8qR",
    "outputId": "9a6a0e7d-986a-47fa-cc2b-6c1f2da01eb6"
   },
   "outputs": [
    {
     "name": "stdout",
     "output_type": "stream",
     "text": [
      "{'file': '/root/.cache/huggingface/datasets/downloads/extracted/404950a46da14eac65eb4e2a8317b1372fb3971d980d91d5d5b221275b1fd7e0/data/TRAIN/DR4/MMDM0/SI681.WAV', 'text': 'would such an act of refusal be useful'}\n"
     ]
    }
   ],
   "source": [
    "print(timit[\"train\"][0])"
   ]
  },
  {
   "cell_type": "code",
   "execution_count": 22,
   "metadata": {
    "colab": {
     "base_uri": "https://localhost:8080/"
    },
    "id": "f9D0UYZ1DilY",
    "outputId": "8beca7cd-3059-4559-b29e-fed1f56bf9fa"
   },
   "outputs": [
    {
     "name": "stdout",
     "output_type": "stream",
     "text": [
      "\n",
      "\n",
      "\n",
      "\n",
      "\n",
      "\n",
      "\n",
      "\n"
     ]
    }
   ],
   "source": [
    "import soundfile as sf\n",
    "\n",
    "def speech_file_to_array_fn(batch):\n",
    "    speech_array, sampling_rate = sf.read(batch[\"file\"])\n",
    "    batch[\"speech\"] = speech_array\n",
    "    batch[\"sampling_rate\"] = sampling_rate\n",
    "    batch[\"target_text\"] = batch[\"text\"]\n",
    "    return batch\n",
    "\n",
    "timit = timit.map(speech_file_to_array_fn, remove_columns=timit.column_names[\"train\"], num_proc=4)"
   ]
  },
  {
   "cell_type": "code",
   "execution_count": 23,
   "metadata": {
    "colab": {
     "base_uri": "https://localhost:8080/",
     "height": 75
    },
    "id": "TRH9kKTODluB",
    "outputId": "cf68ef94-bfa7-4b0a-e4fd-2705292d60b3"
   },
   "outputs": [
    {
     "data": {
      "text/html": [
       "\n",
       "                <audio controls=\"controls\" autoplay=\"autoplay\">\n",
       "                    <source src=\"data:audio/wav;base64,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\" type=\"audio/wav\" />\n",
       "                    Your browser does not support the audio element.\n",
       "                </audio>\n",
       "              "
      ],
      "text/plain": [
       "<IPython.lib.display.Audio object>"
      ]
     },
     "execution_count": 23,
     "metadata": {},
     "output_type": "execute_result"
    }
   ],
   "source": [
    "import IPython.display as ipd\n",
    "import numpy as np\n",
    "import random\n",
    "\n",
    "rand_int = random.randint(0, len(timit[\"train\"]))\n",
    "\n",
    "ipd.Audio(data=np.asarray(timit[\"train\"][rand_int][\"speech\"]), autoplay=True, rate=16000)"
   ]
  },
  {
   "cell_type": "code",
   "execution_count": 24,
   "metadata": {
    "colab": {
     "base_uri": "https://localhost:8080/"
    },
    "id": "i8PNQPsqDr-3",
    "outputId": "5dff1948-b496-46b6-a7f4-776f981e3846"
   },
   "outputs": [
    {
     "name": "stdout",
     "output_type": "stream",
     "text": [
      "Target text: as a precaution the outlaws bought gunpowder for their stronghold\n",
      "Input array shape: (58880,)\n",
      "Sampling rate: 16000\n"
     ]
    }
   ],
   "source": [
    "rand_int = random.randint(0, len(timit[\"train\"]))\n",
    "\n",
    "print(\"Target text:\", timit[\"train\"][rand_int][\"target_text\"])\n",
    "print(\"Input array shape:\", np.asarray(timit[\"train\"][rand_int][\"speech\"]).shape)\n",
    "print(\"Sampling rate:\", timit[\"train\"][rand_int][\"sampling_rate\"])"
   ]
  },
  {
   "cell_type": "code",
   "execution_count": 25,
   "metadata": {
    "colab": {
     "base_uri": "https://localhost:8080/"
    },
    "id": "ZqMQwPEFD26w",
    "outputId": "5e43173c-96b6-41c0-af0c-f4c6b3e86e01"
   },
   "outputs": [
    {
     "name": "stderr",
     "output_type": "stream",
     "text": [
      "/usr/local/lib/python3.7/dist-packages/numpy/core/_asarray.py:83: VisibleDeprecationWarning: Creating an ndarray from ragged nested sequences (which is a list-or-tuple of lists-or-tuples-or ndarrays with different lengths or shapes) is deprecated. If you meant to do this, you must specify 'dtype=object' when creating the ndarray\n",
      "  return array(a, dtype, copy=False, order=order)\n",
      "/usr/local/lib/python3.7/dist-packages/numpy/core/_asarray.py:83: VisibleDeprecationWarning: Creating an ndarray from ragged nested sequences (which is a list-or-tuple of lists-or-tuples-or ndarrays with different lengths or shapes) is deprecated. If you meant to do this, you must specify 'dtype=object' when creating the ndarray\n",
      "  return array(a, dtype, copy=False, order=order)\n",
      "/usr/local/lib/python3.7/dist-packages/numpy/core/_asarray.py:83: VisibleDeprecationWarning: Creating an ndarray from ragged nested sequences (which is a list-or-tuple of lists-or-tuples-or ndarrays with different lengths or shapes) is deprecated. If you meant to do this, you must specify 'dtype=object' when creating the ndarray\n",
      "  return array(a, dtype, copy=False, order=order)\n",
      "/usr/local/lib/python3.7/dist-packages/numpy/core/_asarray.py:83: VisibleDeprecationWarning: Creating an ndarray from ragged nested sequences (which is a list-or-tuple of lists-or-tuples-or ndarrays with different lengths or shapes) is deprecated. If you meant to do this, you must specify 'dtype=object' when creating the ndarray\n",
      "  return array(a, dtype, copy=False, order=order)\n"
     ]
    },
    {
     "name": "stdout",
     "output_type": "stream",
     "text": [
      "\n",
      "\n",
      "\n",
      "\n"
     ]
    },
    {
     "name": "stderr",
     "output_type": "stream",
     "text": [
      "/usr/local/lib/python3.7/dist-packages/numpy/core/_asarray.py:83: VisibleDeprecationWarning: Creating an ndarray from ragged nested sequences (which is a list-or-tuple of lists-or-tuples-or ndarrays with different lengths or shapes) is deprecated. If you meant to do this, you must specify 'dtype=object' when creating the ndarray\n",
      "  return array(a, dtype, copy=False, order=order)\n",
      "/usr/local/lib/python3.7/dist-packages/numpy/core/_asarray.py:83: VisibleDeprecationWarning: Creating an ndarray from ragged nested sequences (which is a list-or-tuple of lists-or-tuples-or ndarrays with different lengths or shapes) is deprecated. If you meant to do this, you must specify 'dtype=object' when creating the ndarray\n",
      "  return array(a, dtype, copy=False, order=order)\n",
      "/usr/local/lib/python3.7/dist-packages/numpy/core/_asarray.py:83: VisibleDeprecationWarning: Creating an ndarray from ragged nested sequences (which is a list-or-tuple of lists-or-tuples-or ndarrays with different lengths or shapes) is deprecated. If you meant to do this, you must specify 'dtype=object' when creating the ndarray\n",
      "  return array(a, dtype, copy=False, order=order)\n",
      "/usr/local/lib/python3.7/dist-packages/numpy/core/_asarray.py:83: VisibleDeprecationWarning: Creating an ndarray from ragged nested sequences (which is a list-or-tuple of lists-or-tuples-or ndarrays with different lengths or shapes) is deprecated. If you meant to do this, you must specify 'dtype=object' when creating the ndarray\n",
      "  return array(a, dtype, copy=False, order=order)\n"
     ]
    },
    {
     "name": "stdout",
     "output_type": "stream",
     "text": [
      "\n",
      "\n",
      "\n",
      "\n"
     ]
    }
   ],
   "source": [
    "def prepare_dataset(batch):\n",
    "    # check that all files have the correct sampling rate\n",
    "    assert (\n",
    "        len(set(batch[\"sampling_rate\"])) == 1\n",
    "    ), f\"Make sure all inputs have the same sampling rate of {processor.feature_extractor.sampling_rate}.\"\n",
    "\n",
    "    batch[\"input_values\"] = processor(batch[\"speech\"], sampling_rate=batch[\"sampling_rate\"][0]).input_values\n",
    "\n",
    "    with processor.as_target_processor():\n",
    "        batch[\"labels\"] = processor(batch[\"target_text\"]).input_ids\n",
    "    return batch\n",
    "\n",
    "timit_prepared = timit.map(prepare_dataset, remove_columns=timit.column_names[\"train\"], batch_size=8, num_proc=4, batched=True)"
   ]
  },
  {
   "cell_type": "code",
   "execution_count": 26,
   "metadata": {
    "id": "ceKVI7BhD6R_"
   },
   "outputs": [],
   "source": [
    "import torch\n",
    "\n",
    "from dataclasses import dataclass, field\n",
    "from typing import Any, Dict, List, Optional, Union\n",
    "\n",
    "@dataclass\n",
    "class DataCollatorCTCWithPadding:\n",
    "    \"\"\"\n",
    "    Data collator that will dynamically pad the inputs received.\n",
    "    Args:\n",
    "        processor (:class:`~transformers.Wav2Vec2Processor`)\n",
    "            The processor used for proccessing the data.\n",
    "        padding (:obj:`bool`, :obj:`str` or :class:`~transformers.tokenization_utils_base.PaddingStrategy`, `optional`, defaults to :obj:`True`):\n",
    "            Select a strategy to pad the returned sequences (according to the model's padding side and padding index)\n",
    "            among:\n",
    "            * :obj:`True` or :obj:`'longest'`: Pad to the longest sequence in the batch (or no padding if only a single\n",
    "              sequence if provided).\n",
    "            * :obj:`'max_length'`: Pad to a maximum length specified with the argument :obj:`max_length` or to the\n",
    "              maximum acceptable input length for the model if that argument is not provided.\n",
    "            * :obj:`False` or :obj:`'do_not_pad'` (default): No padding (i.e., can output a batch with sequences of\n",
    "              different lengths).\n",
    "        max_length (:obj:`int`, `optional`):\n",
    "            Maximum length of the ``input_values`` of the returned list and optionally padding length (see above).\n",
    "        max_length_labels (:obj:`int`, `optional`):\n",
    "            Maximum length of the ``labels`` returned list and optionally padding length (see above).\n",
    "        pad_to_multiple_of (:obj:`int`, `optional`):\n",
    "            If set will pad the sequence to a multiple of the provided value.\n",
    "            This is especially useful to enable the use of Tensor Cores on NVIDIA hardware with compute capability >=\n",
    "            7.5 (Volta).\n",
    "    \"\"\"\n",
    "\n",
    "    processor: Wav2Vec2Processor\n",
    "    padding: Union[bool, str] = True\n",
    "    max_length: Optional[int] = None\n",
    "    max_length_labels: Optional[int] = None\n",
    "    pad_to_multiple_of: Optional[int] = None\n",
    "    pad_to_multiple_of_labels: Optional[int] = None\n",
    "\n",
    "    def __call__(self, features: List[Dict[str, Union[List[int], torch.Tensor]]]) -> Dict[str, torch.Tensor]:\n",
    "        # split inputs and labels since they have to be of different lenghts and need\n",
    "        # different padding methods\n",
    "        input_features = [{\"input_values\": feature[\"input_values\"]} for feature in features]\n",
    "        label_features = [{\"input_ids\": feature[\"labels\"]} for feature in features]\n",
    "\n",
    "        batch = self.processor.pad(\n",
    "            input_features,\n",
    "            padding=self.padding,\n",
    "            max_length=self.max_length,\n",
    "            pad_to_multiple_of=self.pad_to_multiple_of,\n",
    "            return_tensors=\"pt\",\n",
    "        )\n",
    "        with self.processor.as_target_processor():\n",
    "            labels_batch = self.processor.pad(\n",
    "                label_features,\n",
    "                padding=self.padding,\n",
    "                max_length=self.max_length_labels,\n",
    "                pad_to_multiple_of=self.pad_to_multiple_of_labels,\n",
    "                return_tensors=\"pt\",\n",
    "            )\n",
    "\n",
    "        # replace padding with -100 to ignore loss correctly\n",
    "        labels = labels_batch[\"input_ids\"].masked_fill(labels_batch.attention_mask.ne(1), -100)\n",
    "\n",
    "        batch[\"labels\"] = labels\n",
    "\n",
    "        return batch"
   ]
  },
  {
   "cell_type": "code",
   "execution_count": 27,
   "metadata": {
    "id": "ICofaJ55EHEn"
   },
   "outputs": [],
   "source": [
    "data_collator = DataCollatorCTCWithPadding(processor=processor, padding=True)"
   ]
  },
  {
   "cell_type": "code",
   "execution_count": 28,
   "metadata": {
    "colab": {
     "base_uri": "https://localhost:8080/",
     "height": 66,
     "referenced_widgets": [
      "56cc1d358e894cb6b614bea3ae906f3e",
      "145ef9aa5ef949069cab4099c9ab1cef",
      "0bdd5108820745b5882e583b128d9956",
      "c5001101b14341bbb171eaf2529ee8e2",
      "26c3979507104f6297938067efcecce0",
      "ff876bc849e74606abb5ffa090819e34",
      "474bdf11c56940ed9025450d257fabdd",
      "d00030e7b51e490da2b9f6396b13ce72"
     ]
    },
    "id": "pE6Dyxw4EJIO",
    "outputId": "f5c4f5f3-2ece-4d69-88bb-d7560ab372c9"
   },
   "outputs": [
    {
     "data": {
      "application/vnd.jupyter.widget-view+json": {
       "model_id": "56cc1d358e894cb6b614bea3ae906f3e",
       "version_major": 2,
       "version_minor": 0
      },
      "text/plain": [
       "HBox(children=(FloatProgress(value=0.0, description='Downloading', max=1947.0, style=ProgressStyle(description…"
      ]
     },
     "metadata": {},
     "output_type": "display_data"
    },
    {
     "name": "stdout",
     "output_type": "stream",
     "text": [
      "\n"
     ]
    }
   ],
   "source": [
    "wer_metric = load_metric(\"wer\")"
   ]
  },
  {
   "cell_type": "code",
   "execution_count": 29,
   "metadata": {
    "id": "G0oBtxw_EK_e"
   },
   "outputs": [],
   "source": [
    "def compute_metrics(pred):\n",
    "    pred_logits = pred.predictions\n",
    "    pred_ids = np.argmax(pred_logits, axis=-1)\n",
    "\n",
    "    pred.label_ids[pred.label_ids == -100] = processor.tokenizer.pad_token_id\n",
    "\n",
    "    pred_str = processor.batch_decode(pred_ids)\n",
    "    # we do not want to group tokens when computing the metrics\n",
    "    label_str = processor.batch_decode(pred.label_ids, group_tokens=False)\n",
    "\n",
    "    wer = wer_metric.compute(predictions=pred_str, references=label_str)\n",
    "\n",
    "    return {\"wer\": wer}"
   ]
  },
  {
   "cell_type": "code",
   "execution_count": 30,
   "metadata": {
    "colab": {
     "base_uri": "https://localhost:8080/",
     "height": 220,
     "referenced_widgets": [
      "7fcc976fe61148c0a2b4f97fb6709d1a",
      "2e9daa0c271249e6b60dd1e99d427cbe",
      "3ddd7573a9754283abc02566ebd6eb46",
      "105f6cbdf38c4be79252f93d6be0543d",
      "c23ac7ca7ebf46dda72519b297b674ed",
      "6f88ae7d73754bdbb26f97881de0316a",
      "0185b24a476d407993f52a1941b586d1",
      "5a1de8ceb9274d4bba7c0bfe1496077f",
      "b2529cc554da477ba7f6739e3c119413",
      "07d337f6bd28466eb2be73792cf56cab",
      "77999e854dbd43da94cc56854758f334",
      "961a16f4b3294dbe81e830416b9c39c4",
      "b76f7d5eb66f4779bcec5e805fc6876c",
      "6fe248aa323647caa2e0884c6e359daf",
      "a570c49c442041619c5a5756fdd3d064",
      "d9fa815c1e6647eea1826bc178f2b696"
     ]
    },
    "id": "J9QBEEkZEMt2",
    "outputId": "9d2e6f4d-eb73-467f-a77c-ea55123eb4fb"
   },
   "outputs": [
    {
     "data": {
      "application/vnd.jupyter.widget-view+json": {
       "model_id": "7fcc976fe61148c0a2b4f97fb6709d1a",
       "version_major": 2,
       "version_minor": 0
      },
      "text/plain": [
       "HBox(children=(FloatProgress(value=0.0, description='Downloading', max=1843.0, style=ProgressStyle(description…"
      ]
     },
     "metadata": {},
     "output_type": "display_data"
    },
    {
     "name": "stdout",
     "output_type": "stream",
     "text": [
      "\n"
     ]
    },
    {
     "data": {
      "application/vnd.jupyter.widget-view+json": {
       "model_id": "b2529cc554da477ba7f6739e3c119413",
       "version_major": 2,
       "version_minor": 0
      },
      "text/plain": [
       "HBox(children=(FloatProgress(value=0.0, description='Downloading', max=380267417.0, style=ProgressStyle(descri…"
      ]
     },
     "metadata": {},
     "output_type": "display_data"
    },
    {
     "name": "stdout",
     "output_type": "stream",
     "text": [
      "\n"
     ]
    },
    {
     "name": "stderr",
     "output_type": "stream",
     "text": [
      "Some weights of the model checkpoint at facebook/wav2vec2-base were not used when initializing Wav2Vec2ForCTC: ['quantizer.codevectors', 'quantizer.weight_proj.weight', 'quantizer.weight_proj.bias', 'project_q.weight', 'project_q.bias', 'project_hid.weight', 'project_hid.bias']\n",
      "- This IS expected if you are initializing Wav2Vec2ForCTC from the checkpoint of a model trained on another task or with another architecture (e.g. initializing a BertForSequenceClassification model from a BertForPreTraining model).\n",
      "- This IS NOT expected if you are initializing Wav2Vec2ForCTC from the checkpoint of a model that you expect to be exactly identical (initializing a BertForSequenceClassification model from a BertForSequenceClassification model).\n",
      "Some weights of Wav2Vec2ForCTC were not initialized from the model checkpoint at facebook/wav2vec2-base and are newly initialized: ['lm_head.weight', 'lm_head.bias']\n",
      "You should probably TRAIN this model on a down-stream task to be able to use it for predictions and inference.\n"
     ]
    }
   ],
   "source": [
    "from transformers import Wav2Vec2ForCTC\n",
    "\n",
    "model = Wav2Vec2ForCTC.from_pretrained(\n",
    "    \"facebook/wav2vec2-base\", \n",
    "    gradient_checkpointing=True, \n",
    "    ctc_loss_reduction=\"mean\", \n",
    "    pad_token_id=processor.tokenizer.pad_token_id,\n",
    ")"
   ]
  },
  {
   "cell_type": "code",
   "execution_count": 31,
   "metadata": {
    "id": "gURHhMvYEOlW"
   },
   "outputs": [],
   "source": [
    "model.freeze_feature_extractor()\n"
   ]
  },
  {
   "cell_type": "code",
   "execution_count": 32,
   "metadata": {
    "id": "-KvbUxBhEQMm"
   },
   "outputs": [],
   "source": [
    "from transformers import TrainingArguments\n",
    "\n",
    "training_args = TrainingArguments(\n",
    "  # output_dir=\"/content/gdrive/MyDrive/wav2vec2-base-timit-demo\",\n",
    "  output_dir=\"./wav2vec2-base-timit-demo\",\n",
    "  group_by_length=True,\n",
    "  per_device_train_batch_size=32,\n",
    "  evaluation_strategy=\"steps\",\n",
    "  num_train_epochs=30,\n",
    "  fp16=True,\n",
    "  save_steps=500,\n",
    "  eval_steps=500,\n",
    "  logging_steps=500,\n",
    "  learning_rate=1e-4,\n",
    "  weight_decay=0.005,\n",
    "  warmup_steps=1000,\n",
    "  save_total_limit=2,\n",
    ")"
   ]
  },
  {
   "cell_type": "code",
   "execution_count": 33,
   "metadata": {
    "id": "4ygPs2grESQP"
   },
   "outputs": [],
   "source": [
    "from transformers import Trainer\n",
    "\n",
    "trainer = Trainer(\n",
    "    model=model,\n",
    "    data_collator=data_collator,\n",
    "    args=training_args,\n",
    "    compute_metrics=compute_metrics,\n",
    "    train_dataset=timit_prepared[\"train\"],\n",
    "    eval_dataset=timit_prepared[\"test\"],\n",
    "    tokenizer=processor.feature_extractor,\n",
    ")"
   ]
  },
  {
   "cell_type": "code",
   "execution_count": 36,
   "metadata": {
    "colab": {
     "base_uri": "https://localhost:8080/",
     "height": 591
    },
    "collapsed": true,
    "id": "dlL6Ek3ZEZd3",
    "outputId": "1866389c-75a7-4b78-cf1a-5409bbb855e6"
   },
   "outputs": [
    {
     "name": "stderr",
     "output_type": "stream",
     "text": [
      "/usr/local/lib/python3.7/dist-packages/torch/_tensor.py:575: UserWarning: floor_divide is deprecated, and will be removed in a future version of pytorch. It currently rounds toward 0 (like the 'trunc' function NOT 'floor'). This results in incorrect rounding for negative values.\n",
      "To keep the current behavior, use torch.div(a, b, rounding_mode='trunc'), or for actual floor division, use torch.div(a, b, rounding_mode='floor'). (Triggered internally at  /pytorch/aten/src/ATen/native/BinaryOps.cpp:467.)\n",
      "  return torch.floor_divide(self, other)\n",
      "/usr/local/lib/python3.7/dist-packages/transformers/trainer.py:1083: FutureWarning: Non-finite norm encountered in torch.nn.utils.clip_grad_norm_; continuing anyway. Note that the default behavior will change in a future release to error out if a non-finite total norm is encountered. At that point, setting error_if_nonfinite=false will be required to retain the old behavior.\n",
      "  self.args.max_grad_norm,\n",
      "/usr/local/lib/python3.7/dist-packages/torch/optim/lr_scheduler.py:134: UserWarning: Detected call of `lr_scheduler.step()` before `optimizer.step()`. In PyTorch 1.1.0 and later, you should call them in the opposite order: `optimizer.step()` before `lr_scheduler.step()`.  Failure to do this will result in PyTorch skipping the first value of the learning rate schedule. See more details at https://pytorch.org/docs/stable/optim.html#how-to-adjust-learning-rate\n",
      "  \"https://pytorch.org/docs/stable/optim.html#how-to-adjust-learning-rate\", UserWarning)\n"
     ]
    },
    {
     "data": {
      "text/html": [
       "\n",
       "    <div>\n",
       "        <style>\n",
       "            /* Turns off some styling */\n",
       "            progress {\n",
       "                /* gets rid of default border in Firefox and Opera. */\n",
       "                border: none;\n",
       "                /* Needs to be in here for Safari polyfill so background images work as expected. */\n",
       "                background-size: auto;\n",
       "            }\n",
       "        </style>\n",
       "      \n",
       "      <progress value='501' max='4350' style='width:300px; height:20px; vertical-align: middle;'></progress>\n",
       "      [ 501/4350 51:59 < 6:41:03, 0.16 it/s, Epoch 3.45/30]\n",
       "    </div>\n",
       "    <table border=\"1\" class=\"dataframe\">\n",
       "  <thead>\n",
       "    <tr style=\"text-align: left;\">\n",
       "      <th>Step</th>\n",
       "      <th>Training Loss</th>\n",
       "      <th>Validation Loss</th>\n",
       "    </tr>\n",
       "  </thead>\n",
       "  <tbody>\n",
       "  </tbody>\n",
       "</table><p>\n",
       "    <div>\n",
       "        <style>\n",
       "            /* Turns off some styling */\n",
       "            progress {\n",
       "                /* gets rid of default border in Firefox and Opera. */\n",
       "                border: none;\n",
       "                /* Needs to be in here for Safari polyfill so background images work as expected. */\n",
       "                background-size: auto;\n",
       "            }\n",
       "        </style>\n",
       "      \n",
       "      <progress value='150' max='210' style='width:300px; height:20px; vertical-align: middle;'></progress>\n",
       "      [150/210 02:02 < 00:49, 1.22 it/s]\n",
       "    </div>\n",
       "    "
      ],
      "text/plain": [
       "<IPython.core.display.HTML object>"
      ]
     },
     "metadata": {},
     "output_type": "display_data"
    },
    {
     "ename": "KeyboardInterrupt",
     "evalue": "ignored",
     "output_type": "error",
     "traceback": [
      "\u001b[0;31m---------------------------------------------------------------------------\u001b[0m",
      "\u001b[0;31mKeyboardInterrupt\u001b[0m                         Traceback (most recent call last)",
      "\u001b[0;32m<ipython-input-36-3435b262f1ae>\u001b[0m in \u001b[0;36m<module>\u001b[0;34m()\u001b[0m\n\u001b[0;32m----> 1\u001b[0;31m \u001b[0mtrainer\u001b[0m\u001b[0;34m.\u001b[0m\u001b[0mtrain\u001b[0m\u001b[0;34m(\u001b[0m\u001b[0;34m)\u001b[0m\u001b[0;34m\u001b[0m\u001b[0;34m\u001b[0m\u001b[0m\n\u001b[0m",
      "\u001b[0;32m/usr/local/lib/python3.7/dist-packages/transformers/trainer.py\u001b[0m in \u001b[0;36mtrain\u001b[0;34m(self, resume_from_checkpoint, trial, **kwargs)\u001b[0m\n\u001b[1;32m   1103\u001b[0m                     \u001b[0mself\u001b[0m\u001b[0;34m.\u001b[0m\u001b[0mcontrol\u001b[0m \u001b[0;34m=\u001b[0m \u001b[0mself\u001b[0m\u001b[0;34m.\u001b[0m\u001b[0mcallback_handler\u001b[0m\u001b[0;34m.\u001b[0m\u001b[0mon_step_end\u001b[0m\u001b[0;34m(\u001b[0m\u001b[0mself\u001b[0m\u001b[0;34m.\u001b[0m\u001b[0margs\u001b[0m\u001b[0;34m,\u001b[0m \u001b[0mself\u001b[0m\u001b[0;34m.\u001b[0m\u001b[0mstate\u001b[0m\u001b[0;34m,\u001b[0m \u001b[0mself\u001b[0m\u001b[0;34m.\u001b[0m\u001b[0mcontrol\u001b[0m\u001b[0;34m)\u001b[0m\u001b[0;34m\u001b[0m\u001b[0;34m\u001b[0m\u001b[0m\n\u001b[1;32m   1104\u001b[0m \u001b[0;34m\u001b[0m\u001b[0m\n\u001b[0;32m-> 1105\u001b[0;31m                     \u001b[0mself\u001b[0m\u001b[0;34m.\u001b[0m\u001b[0m_maybe_log_save_evaluate\u001b[0m\u001b[0;34m(\u001b[0m\u001b[0mtr_loss\u001b[0m\u001b[0;34m,\u001b[0m \u001b[0mmodel\u001b[0m\u001b[0;34m,\u001b[0m \u001b[0mtrial\u001b[0m\u001b[0;34m,\u001b[0m \u001b[0mepoch\u001b[0m\u001b[0;34m)\u001b[0m\u001b[0;34m\u001b[0m\u001b[0;34m\u001b[0m\u001b[0m\n\u001b[0m\u001b[1;32m   1106\u001b[0m \u001b[0;34m\u001b[0m\u001b[0m\n\u001b[1;32m   1107\u001b[0m                 \u001b[0;32mif\u001b[0m \u001b[0mself\u001b[0m\u001b[0;34m.\u001b[0m\u001b[0mcontrol\u001b[0m\u001b[0;34m.\u001b[0m\u001b[0mshould_epoch_stop\u001b[0m \u001b[0;32mor\u001b[0m \u001b[0mself\u001b[0m\u001b[0;34m.\u001b[0m\u001b[0mcontrol\u001b[0m\u001b[0;34m.\u001b[0m\u001b[0mshould_training_stop\u001b[0m\u001b[0;34m:\u001b[0m\u001b[0;34m\u001b[0m\u001b[0;34m\u001b[0m\u001b[0m\n",
      "\u001b[0;32m/usr/local/lib/python3.7/dist-packages/transformers/trainer.py\u001b[0m in \u001b[0;36m_maybe_log_save_evaluate\u001b[0;34m(self, tr_loss, model, trial, epoch)\u001b[0m\n\u001b[1;32m   1196\u001b[0m         \u001b[0mmetrics\u001b[0m \u001b[0;34m=\u001b[0m \u001b[0;32mNone\u001b[0m\u001b[0;34m\u001b[0m\u001b[0;34m\u001b[0m\u001b[0m\n\u001b[1;32m   1197\u001b[0m         \u001b[0;32mif\u001b[0m \u001b[0mself\u001b[0m\u001b[0;34m.\u001b[0m\u001b[0mcontrol\u001b[0m\u001b[0;34m.\u001b[0m\u001b[0mshould_evaluate\u001b[0m\u001b[0;34m:\u001b[0m\u001b[0;34m\u001b[0m\u001b[0;34m\u001b[0m\u001b[0m\n\u001b[0;32m-> 1198\u001b[0;31m             \u001b[0mmetrics\u001b[0m \u001b[0;34m=\u001b[0m \u001b[0mself\u001b[0m\u001b[0;34m.\u001b[0m\u001b[0mevaluate\u001b[0m\u001b[0;34m(\u001b[0m\u001b[0;34m)\u001b[0m\u001b[0;34m\u001b[0m\u001b[0;34m\u001b[0m\u001b[0m\n\u001b[0m\u001b[1;32m   1199\u001b[0m             \u001b[0mself\u001b[0m\u001b[0;34m.\u001b[0m\u001b[0m_report_to_hp_search\u001b[0m\u001b[0;34m(\u001b[0m\u001b[0mtrial\u001b[0m\u001b[0;34m,\u001b[0m \u001b[0mepoch\u001b[0m\u001b[0;34m,\u001b[0m \u001b[0mmetrics\u001b[0m\u001b[0;34m)\u001b[0m\u001b[0;34m\u001b[0m\u001b[0;34m\u001b[0m\u001b[0m\n\u001b[1;32m   1200\u001b[0m \u001b[0;34m\u001b[0m\u001b[0m\n",
      "\u001b[0;32m/usr/local/lib/python3.7/dist-packages/transformers/trainer.py\u001b[0m in \u001b[0;36mevaluate\u001b[0;34m(self, eval_dataset, ignore_keys, metric_key_prefix)\u001b[0m\n\u001b[1;32m   1672\u001b[0m             \u001b[0mprediction_loss_only\u001b[0m\u001b[0;34m=\u001b[0m\u001b[0;32mTrue\u001b[0m \u001b[0;32mif\u001b[0m \u001b[0mself\u001b[0m\u001b[0;34m.\u001b[0m\u001b[0mcompute_metrics\u001b[0m \u001b[0;32mis\u001b[0m \u001b[0;32mNone\u001b[0m \u001b[0;32melse\u001b[0m \u001b[0;32mNone\u001b[0m\u001b[0;34m,\u001b[0m\u001b[0;34m\u001b[0m\u001b[0;34m\u001b[0m\u001b[0m\n\u001b[1;32m   1673\u001b[0m             \u001b[0mignore_keys\u001b[0m\u001b[0;34m=\u001b[0m\u001b[0mignore_keys\u001b[0m\u001b[0;34m,\u001b[0m\u001b[0;34m\u001b[0m\u001b[0;34m\u001b[0m\u001b[0m\n\u001b[0;32m-> 1674\u001b[0;31m             \u001b[0mmetric_key_prefix\u001b[0m\u001b[0;34m=\u001b[0m\u001b[0mmetric_key_prefix\u001b[0m\u001b[0;34m,\u001b[0m\u001b[0;34m\u001b[0m\u001b[0;34m\u001b[0m\u001b[0m\n\u001b[0m\u001b[1;32m   1675\u001b[0m         )\n\u001b[1;32m   1676\u001b[0m \u001b[0;34m\u001b[0m\u001b[0m\n",
      "\u001b[0;32m/usr/local/lib/python3.7/dist-packages/transformers/trainer.py\u001b[0m in \u001b[0;36mprediction_loop\u001b[0;34m(self, dataloader, description, prediction_loss_only, ignore_keys, metric_key_prefix)\u001b[0m\n\u001b[1;32m   1798\u001b[0m \u001b[0;34m\u001b[0m\u001b[0m\n\u001b[1;32m   1799\u001b[0m         \u001b[0;32mfor\u001b[0m \u001b[0mstep\u001b[0m\u001b[0;34m,\u001b[0m \u001b[0minputs\u001b[0m \u001b[0;32min\u001b[0m \u001b[0menumerate\u001b[0m\u001b[0;34m(\u001b[0m\u001b[0mdataloader\u001b[0m\u001b[0;34m)\u001b[0m\u001b[0;34m:\u001b[0m\u001b[0;34m\u001b[0m\u001b[0;34m\u001b[0m\u001b[0m\n\u001b[0;32m-> 1800\u001b[0;31m             \u001b[0mloss\u001b[0m\u001b[0;34m,\u001b[0m \u001b[0mlogits\u001b[0m\u001b[0;34m,\u001b[0m \u001b[0mlabels\u001b[0m \u001b[0;34m=\u001b[0m \u001b[0mself\u001b[0m\u001b[0;34m.\u001b[0m\u001b[0mprediction_step\u001b[0m\u001b[0;34m(\u001b[0m\u001b[0mmodel\u001b[0m\u001b[0;34m,\u001b[0m \u001b[0minputs\u001b[0m\u001b[0;34m,\u001b[0m \u001b[0mprediction_loss_only\u001b[0m\u001b[0;34m,\u001b[0m \u001b[0mignore_keys\u001b[0m\u001b[0;34m=\u001b[0m\u001b[0mignore_keys\u001b[0m\u001b[0;34m)\u001b[0m\u001b[0;34m\u001b[0m\u001b[0;34m\u001b[0m\u001b[0m\n\u001b[0m\u001b[1;32m   1801\u001b[0m             \u001b[0;32mif\u001b[0m \u001b[0mloss\u001b[0m \u001b[0;32mis\u001b[0m \u001b[0;32mnot\u001b[0m \u001b[0;32mNone\u001b[0m\u001b[0;34m:\u001b[0m\u001b[0;34m\u001b[0m\u001b[0;34m\u001b[0m\u001b[0m\n\u001b[1;32m   1802\u001b[0m                 \u001b[0mlosses\u001b[0m \u001b[0;34m=\u001b[0m \u001b[0mloss\u001b[0m\u001b[0;34m.\u001b[0m\u001b[0mrepeat\u001b[0m\u001b[0;34m(\u001b[0m\u001b[0mbatch_size\u001b[0m\u001b[0;34m)\u001b[0m\u001b[0;34m\u001b[0m\u001b[0;34m\u001b[0m\u001b[0m\n",
      "\u001b[0;32m/usr/local/lib/python3.7/dist-packages/transformers/trainer.py\u001b[0m in \u001b[0;36mprediction_step\u001b[0;34m(self, model, inputs, prediction_loss_only, ignore_keys)\u001b[0m\n\u001b[1;32m   1912\u001b[0m         \u001b[0;32mwith\u001b[0m \u001b[0mtorch\u001b[0m\u001b[0;34m.\u001b[0m\u001b[0mno_grad\u001b[0m\u001b[0;34m(\u001b[0m\u001b[0;34m)\u001b[0m\u001b[0;34m:\u001b[0m\u001b[0;34m\u001b[0m\u001b[0;34m\u001b[0m\u001b[0m\n\u001b[1;32m   1913\u001b[0m             \u001b[0;32mif\u001b[0m \u001b[0mhas_labels\u001b[0m\u001b[0;34m:\u001b[0m\u001b[0;34m\u001b[0m\u001b[0;34m\u001b[0m\u001b[0m\n\u001b[0;32m-> 1914\u001b[0;31m                 \u001b[0mloss\u001b[0m\u001b[0;34m,\u001b[0m \u001b[0moutputs\u001b[0m \u001b[0;34m=\u001b[0m \u001b[0mself\u001b[0m\u001b[0;34m.\u001b[0m\u001b[0mcompute_loss\u001b[0m\u001b[0;34m(\u001b[0m\u001b[0mmodel\u001b[0m\u001b[0;34m,\u001b[0m \u001b[0minputs\u001b[0m\u001b[0;34m,\u001b[0m \u001b[0mreturn_outputs\u001b[0m\u001b[0;34m=\u001b[0m\u001b[0;32mTrue\u001b[0m\u001b[0;34m)\u001b[0m\u001b[0;34m\u001b[0m\u001b[0;34m\u001b[0m\u001b[0m\n\u001b[0m\u001b[1;32m   1915\u001b[0m                 \u001b[0mloss\u001b[0m \u001b[0;34m=\u001b[0m \u001b[0mloss\u001b[0m\u001b[0;34m.\u001b[0m\u001b[0mmean\u001b[0m\u001b[0;34m(\u001b[0m\u001b[0;34m)\u001b[0m\u001b[0;34m.\u001b[0m\u001b[0mdetach\u001b[0m\u001b[0;34m(\u001b[0m\u001b[0;34m)\u001b[0m\u001b[0;34m\u001b[0m\u001b[0;34m\u001b[0m\u001b[0m\n\u001b[1;32m   1916\u001b[0m                 \u001b[0;32mif\u001b[0m \u001b[0misinstance\u001b[0m\u001b[0;34m(\u001b[0m\u001b[0moutputs\u001b[0m\u001b[0;34m,\u001b[0m \u001b[0mdict\u001b[0m\u001b[0;34m)\u001b[0m\u001b[0;34m:\u001b[0m\u001b[0;34m\u001b[0m\u001b[0;34m\u001b[0m\u001b[0m\n",
      "\u001b[0;32m/usr/local/lib/python3.7/dist-packages/transformers/trainer.py\u001b[0m in \u001b[0;36mcompute_loss\u001b[0;34m(self, model, inputs, return_outputs)\u001b[0m\n\u001b[1;32m   1473\u001b[0m         \u001b[0;32melse\u001b[0m\u001b[0;34m:\u001b[0m\u001b[0;34m\u001b[0m\u001b[0;34m\u001b[0m\u001b[0m\n\u001b[1;32m   1474\u001b[0m             \u001b[0mlabels\u001b[0m \u001b[0;34m=\u001b[0m \u001b[0;32mNone\u001b[0m\u001b[0;34m\u001b[0m\u001b[0;34m\u001b[0m\u001b[0m\n\u001b[0;32m-> 1475\u001b[0;31m         \u001b[0moutputs\u001b[0m \u001b[0;34m=\u001b[0m \u001b[0mmodel\u001b[0m\u001b[0;34m(\u001b[0m\u001b[0;34m**\u001b[0m\u001b[0minputs\u001b[0m\u001b[0;34m)\u001b[0m\u001b[0;34m\u001b[0m\u001b[0;34m\u001b[0m\u001b[0m\n\u001b[0m\u001b[1;32m   1476\u001b[0m         \u001b[0;31m# Save past state if it exists\u001b[0m\u001b[0;34m\u001b[0m\u001b[0;34m\u001b[0m\u001b[0;34m\u001b[0m\u001b[0m\n\u001b[1;32m   1477\u001b[0m         \u001b[0;31m# TODO: this needs to be fixed and made cleaner later.\u001b[0m\u001b[0;34m\u001b[0m\u001b[0;34m\u001b[0m\u001b[0;34m\u001b[0m\u001b[0m\n",
      "\u001b[0;32m/usr/local/lib/python3.7/dist-packages/torch/nn/modules/module.py\u001b[0m in \u001b[0;36m_call_impl\u001b[0;34m(self, *input, **kwargs)\u001b[0m\n\u001b[1;32m   1049\u001b[0m         if not (self._backward_hooks or self._forward_hooks or self._forward_pre_hooks or _global_backward_hooks\n\u001b[1;32m   1050\u001b[0m                 or _global_forward_hooks or _global_forward_pre_hooks):\n\u001b[0;32m-> 1051\u001b[0;31m             \u001b[0;32mreturn\u001b[0m \u001b[0mforward_call\u001b[0m\u001b[0;34m(\u001b[0m\u001b[0;34m*\u001b[0m\u001b[0minput\u001b[0m\u001b[0;34m,\u001b[0m \u001b[0;34m**\u001b[0m\u001b[0mkwargs\u001b[0m\u001b[0;34m)\u001b[0m\u001b[0;34m\u001b[0m\u001b[0;34m\u001b[0m\u001b[0m\n\u001b[0m\u001b[1;32m   1052\u001b[0m         \u001b[0;31m# Do not call functions when jit is used\u001b[0m\u001b[0;34m\u001b[0m\u001b[0;34m\u001b[0m\u001b[0;34m\u001b[0m\u001b[0m\n\u001b[1;32m   1053\u001b[0m         \u001b[0mfull_backward_hooks\u001b[0m\u001b[0;34m,\u001b[0m \u001b[0mnon_full_backward_hooks\u001b[0m \u001b[0;34m=\u001b[0m \u001b[0;34m[\u001b[0m\u001b[0;34m]\u001b[0m\u001b[0;34m,\u001b[0m \u001b[0;34m[\u001b[0m\u001b[0;34m]\u001b[0m\u001b[0;34m\u001b[0m\u001b[0;34m\u001b[0m\u001b[0m\n",
      "\u001b[0;32m/usr/local/lib/python3.7/dist-packages/transformers/models/wav2vec2/modeling_wav2vec2.py\u001b[0m in \u001b[0;36mforward\u001b[0;34m(self, input_values, attention_mask, output_attentions, output_hidden_states, return_dict, labels)\u001b[0m\n\u001b[1;32m   1069\u001b[0m             \u001b[0mlabels_mask\u001b[0m \u001b[0;34m=\u001b[0m \u001b[0mlabels\u001b[0m \u001b[0;34m>=\u001b[0m \u001b[0;36m0\u001b[0m\u001b[0;34m\u001b[0m\u001b[0;34m\u001b[0m\u001b[0m\n\u001b[1;32m   1070\u001b[0m             \u001b[0mtarget_lengths\u001b[0m \u001b[0;34m=\u001b[0m \u001b[0mlabels_mask\u001b[0m\u001b[0;34m.\u001b[0m\u001b[0msum\u001b[0m\u001b[0;34m(\u001b[0m\u001b[0;34m-\u001b[0m\u001b[0;36m1\u001b[0m\u001b[0;34m)\u001b[0m\u001b[0;34m\u001b[0m\u001b[0;34m\u001b[0m\u001b[0m\n\u001b[0;32m-> 1071\u001b[0;31m             \u001b[0mflattened_targets\u001b[0m \u001b[0;34m=\u001b[0m \u001b[0mlabels\u001b[0m\u001b[0;34m.\u001b[0m\u001b[0mmasked_select\u001b[0m\u001b[0;34m(\u001b[0m\u001b[0mlabels_mask\u001b[0m\u001b[0;34m)\u001b[0m\u001b[0;34m\u001b[0m\u001b[0;34m\u001b[0m\u001b[0m\n\u001b[0m\u001b[1;32m   1072\u001b[0m \u001b[0;34m\u001b[0m\u001b[0m\n\u001b[1;32m   1073\u001b[0m             \u001b[0mlog_probs\u001b[0m \u001b[0;34m=\u001b[0m \u001b[0mF\u001b[0m\u001b[0;34m.\u001b[0m\u001b[0mlog_softmax\u001b[0m\u001b[0;34m(\u001b[0m\u001b[0mlogits\u001b[0m\u001b[0;34m,\u001b[0m \u001b[0mdim\u001b[0m\u001b[0;34m=\u001b[0m\u001b[0;34m-\u001b[0m\u001b[0;36m1\u001b[0m\u001b[0;34m)\u001b[0m\u001b[0;34m.\u001b[0m\u001b[0mtranspose\u001b[0m\u001b[0;34m(\u001b[0m\u001b[0;36m0\u001b[0m\u001b[0;34m,\u001b[0m \u001b[0;36m1\u001b[0m\u001b[0;34m)\u001b[0m\u001b[0;34m\u001b[0m\u001b[0;34m\u001b[0m\u001b[0m\n",
      "\u001b[0;31mKeyboardInterrupt\u001b[0m: "
     ]
    }
   ],
   "source": [
    "trainer.train()"
   ]
  },
  {
   "cell_type": "code",
   "execution_count": null,
   "metadata": {
    "id": "XN4Jr88bEoKY"
   },
   "outputs": [],
   "source": [
    "processor = Wav2Vec2Processor.from_pretrained(\"patrickvonplaten/wav2vec2-base-timit-demo\")\n",
    "model = Wav2Vec2ForCTC.from_pretrained(\"patrickvonplaten/wav2vec2-base-timit-demo\")"
   ]
  },
  {
   "cell_type": "code",
   "execution_count": null,
   "metadata": {
    "id": "-HNr6M9aEref"
   },
   "outputs": [],
   "source": [
    "def map_to_result(batch):\n",
    "  model.to(\"cuda\")\n",
    "  input_values = processor(\n",
    "      batch[\"speech\"], \n",
    "      sampling_rate=batch[\"sampling_rate\"], \n",
    "      return_tensors=\"pt\"\n",
    "  ).input_values.to(\"cuda\")\n",
    "\n",
    "  with torch.no_grad():\n",
    "    logits = model(input_values).logits\n",
    "\n",
    "  pred_ids = torch.argmax(logits, dim=-1)\n",
    "  batch[\"pred_str\"] = processor.batch_decode(pred_ids)[0]\n",
    "\n",
    "  return batch\n",
    "\n",
    "results = timit[\"test\"].map(map_to_result)"
   ]
  },
  {
   "cell_type": "code",
   "execution_count": null,
   "metadata": {
    "id": "cO7scSEpEtiP"
   },
   "outputs": [],
   "source": [
    "print(\"Test WER: {:.3f}\".format(wer_metric.compute(predictions=results[\"pred_str\"], references=results[\"target_text\"])))"
   ]
  },
  {
   "cell_type": "code",
   "execution_count": null,
   "metadata": {
    "id": "shWspjeQEwTY"
   },
   "outputs": [],
   "source": [
    "show_random_elements(results.remove_columns([\"speech\", \"sampling_rate\"]))"
   ]
  },
  {
   "cell_type": "code",
   "execution_count": null,
   "metadata": {
    "id": "L9hMI2xyEyd3"
   },
   "outputs": [],
   "source": [
    "model.to(\"cuda\")\n",
    "input_values = processor(timit[\"test\"][0][\"speech\"], sampling_rate=timit[\"test\"][0][\"sampling_rate\"], return_tensors=\"pt\").input_values.to(\"cuda\")\n",
    "\n",
    "with torch.no_grad():\n",
    "  logits = model(input_values).logits\n",
    "\n",
    "pred_ids = torch.argmax(logits, dim=-1)\n",
    "\n",
    "# convert ids to tokens\n",
    "print(\" \".join(processor.tokenizer.convert_ids_to_tokens(pred_ids[0].tolist())))"
   ]
  },
  {
   "cell_type": "code",
   "execution_count": null,
   "metadata": {
    "id": "B9sAv5ULE_c-"
   },
   "outputs": [],
   "source": []
  }
 ],
 "metadata": {
  "accelerator": "GPU",
  "colab": {
   "name": "Fine-tuning Wav2Vec2 for English ASR.ipynb",
   "provenance": []
  },
  "kernelspec": {
   "display_name": "Python 3",
   "language": "python",
   "name": "python3"
  },
  "language_info": {
   "codemirror_mode": {
    "name": "ipython",
    "version": 3
   },
   "file_extension": ".py",
   "mimetype": "text/x-python",
   "name": "python",
   "nbconvert_exporter": "python",
   "pygments_lexer": "ipython3",
   "version": "3.9.5"
  },
  "widgets": {
   "application/vnd.jupyter.widget-state+json": {
    "0185b24a476d407993f52a1941b586d1": {
     "model_module": "@jupyter-widgets/controls",
     "model_module_version": "1.5.0",
     "model_name": "DescriptionStyleModel",
     "state": {
      "_model_module": "@jupyter-widgets/controls",
      "_model_module_version": "1.5.0",
      "_model_name": "DescriptionStyleModel",
      "_view_count": null,
      "_view_module": "@jupyter-widgets/base",
      "_view_module_version": "1.2.0",
      "_view_name": "StyleView",
      "description_width": ""
     }
    },
    "02564341266243b9a21a7def935d8deb": {
     "model_module": "@jupyter-widgets/controls",
     "model_module_version": "1.5.0",
     "model_name": "FloatProgressModel",
     "state": {
      "_dom_classes": [],
      "_model_module": "@jupyter-widgets/controls",
      "_model_module_version": "1.5.0",
      "_model_name": "FloatProgressModel",
      "_view_count": null,
      "_view_module": "@jupyter-widgets/controls",
      "_view_module_version": "1.5.0",
      "_view_name": "ProgressView",
      "bar_style": "success",
      "description": "Downloading: ",
      "description_tooltip": null,
      "layout": "IPY_MODEL_5a1ee1bef4314a84b5cda055c8bf6170",
      "max": 1060,
      "min": 0,
      "orientation": "horizontal",
      "style": "IPY_MODEL_6da8214c91fc494da0f681efa61c4681",
      "value": 1060
     }
    },
    "07d337f6bd28466eb2be73792cf56cab": {
     "model_module": "@jupyter-widgets/base",
     "model_module_version": "1.2.0",
     "model_name": "LayoutModel",
     "state": {
      "_model_module": "@jupyter-widgets/base",
      "_model_module_version": "1.2.0",
      "_model_name": "LayoutModel",
      "_view_count": null,
      "_view_module": "@jupyter-widgets/base",
      "_view_module_version": "1.2.0",
      "_view_name": "LayoutView",
      "align_content": null,
      "align_items": null,
      "align_self": null,
      "border": null,
      "bottom": null,
      "display": null,
      "flex": null,
      "flex_flow": null,
      "grid_area": null,
      "grid_auto_columns": null,
      "grid_auto_flow": null,
      "grid_auto_rows": null,
      "grid_column": null,
      "grid_gap": null,
      "grid_row": null,
      "grid_template_areas": null,
      "grid_template_columns": null,
      "grid_template_rows": null,
      "height": null,
      "justify_content": null,
      "justify_items": null,
      "left": null,
      "margin": null,
      "max_height": null,
      "max_width": null,
      "min_height": null,
      "min_width": null,
      "object_fit": null,
      "object_position": null,
      "order": null,
      "overflow": null,
      "overflow_x": null,
      "overflow_y": null,
      "padding": null,
      "right": null,
      "top": null,
      "visibility": null,
      "width": null
     }
    },
    "0860d9300f044ad0b9ae5c02be6dc7b2": {
     "model_module": "@jupyter-widgets/controls",
     "model_module_version": "1.5.0",
     "model_name": "FloatProgressModel",
     "state": {
      "_dom_classes": [],
      "_model_module": "@jupyter-widgets/controls",
      "_model_module_version": "1.5.0",
      "_model_name": "FloatProgressModel",
      "_view_count": null,
      "_view_module": "@jupyter-widgets/controls",
      "_view_module_version": "1.5.0",
      "_view_name": "ProgressView",
      "bar_style": "info",
      "description": "",
      "description_tooltip": null,
      "layout": "IPY_MODEL_1c8e2db0b6774e0787140cb24280861c",
      "max": 1,
      "min": 0,
      "orientation": "horizontal",
      "style": "IPY_MODEL_c83137079a014e6ea0e430679d9e76d2",
      "value": 1
     }
    },
    "09cd6ea098394eb9bc9d7d2e1c87be7c": {
     "model_module": "@jupyter-widgets/controls",
     "model_module_version": "1.5.0",
     "model_name": "HTMLModel",
     "state": {
      "_dom_classes": [],
      "_model_module": "@jupyter-widgets/controls",
      "_model_module_version": "1.5.0",
      "_model_name": "HTMLModel",
      "_view_count": null,
      "_view_module": "@jupyter-widgets/controls",
      "_view_module_version": "1.5.0",
      "_view_name": "HTMLView",
      "description": "",
      "description_tooltip": null,
      "layout": "IPY_MODEL_71911afc014d467bbbe608a4decaeb64",
      "placeholder": "​",
      "style": "IPY_MODEL_4e12c75f59a84199b79c6c537e7da136",
      "value": " 4620/4620 [04:20&lt;00:00, 17.76ex/s]"
     }
    },
    "0a00cb68ef50452d97b913b3c2abbd80": {
     "model_module": "@jupyter-widgets/controls",
     "model_module_version": "1.5.0",
     "model_name": "DescriptionStyleModel",
     "state": {
      "_model_module": "@jupyter-widgets/controls",
      "_model_module_version": "1.5.0",
      "_model_name": "DescriptionStyleModel",
      "_view_count": null,
      "_view_module": "@jupyter-widgets/base",
      "_view_module_version": "1.2.0",
      "_view_name": "StyleView",
      "description_width": ""
     }
    },
    "0bdd5108820745b5882e583b128d9956": {
     "model_module": "@jupyter-widgets/controls",
     "model_module_version": "1.5.0",
     "model_name": "FloatProgressModel",
     "state": {
      "_dom_classes": [],
      "_model_module": "@jupyter-widgets/controls",
      "_model_module_version": "1.5.0",
      "_model_name": "FloatProgressModel",
      "_view_count": null,
      "_view_module": "@jupyter-widgets/controls",
      "_view_module_version": "1.5.0",
      "_view_name": "ProgressView",
      "bar_style": "success",
      "description": "Downloading: ",
      "description_tooltip": null,
      "layout": "IPY_MODEL_ff876bc849e74606abb5ffa090819e34",
      "max": 1947,
      "min": 0,
      "orientation": "horizontal",
      "style": "IPY_MODEL_26c3979507104f6297938067efcecce0",
      "value": 1947
     }
    },
    "105f6cbdf38c4be79252f93d6be0543d": {
     "model_module": "@jupyter-widgets/controls",
     "model_module_version": "1.5.0",
     "model_name": "HTMLModel",
     "state": {
      "_dom_classes": [],
      "_model_module": "@jupyter-widgets/controls",
      "_model_module_version": "1.5.0",
      "_model_name": "HTMLModel",
      "_view_count": null,
      "_view_module": "@jupyter-widgets/controls",
      "_view_module_version": "1.5.0",
      "_view_name": "HTMLView",
      "description": "",
      "description_tooltip": null,
      "layout": "IPY_MODEL_5a1de8ceb9274d4bba7c0bfe1496077f",
      "placeholder": "​",
      "style": "IPY_MODEL_0185b24a476d407993f52a1941b586d1",
      "value": " 1.84k/1.84k [00:00&lt;00:00, 9.70kB/s]"
     }
    },
    "145ef9aa5ef949069cab4099c9ab1cef": {
     "model_module": "@jupyter-widgets/base",
     "model_module_version": "1.2.0",
     "model_name": "LayoutModel",
     "state": {
      "_model_module": "@jupyter-widgets/base",
      "_model_module_version": "1.2.0",
      "_model_name": "LayoutModel",
      "_view_count": null,
      "_view_module": "@jupyter-widgets/base",
      "_view_module_version": "1.2.0",
      "_view_name": "LayoutView",
      "align_content": null,
      "align_items": null,
      "align_self": null,
      "border": null,
      "bottom": null,
      "display": null,
      "flex": null,
      "flex_flow": null,
      "grid_area": null,
      "grid_auto_columns": null,
      "grid_auto_flow": null,
      "grid_auto_rows": null,
      "grid_column": null,
      "grid_gap": null,
      "grid_row": null,
      "grid_template_areas": null,
      "grid_template_columns": null,
      "grid_template_rows": null,
      "height": null,
      "justify_content": null,
      "justify_items": null,
      "left": null,
      "margin": null,
      "max_height": null,
      "max_width": null,
      "min_height": null,
      "min_width": null,
      "object_fit": null,
      "object_position": null,
      "order": null,
      "overflow": null,
      "overflow_x": null,
      "overflow_y": null,
      "padding": null,
      "right": null,
      "top": null,
      "visibility": null,
      "width": null
     }
    },
    "19a9b2d62f3742f1a2b800027e65b1a3": {
     "model_module": "@jupyter-widgets/controls",
     "model_module_version": "1.5.0",
     "model_name": "HBoxModel",
     "state": {
      "_dom_classes": [],
      "_model_module": "@jupyter-widgets/controls",
      "_model_module_version": "1.5.0",
      "_model_name": "HBoxModel",
      "_view_count": null,
      "_view_module": "@jupyter-widgets/controls",
      "_view_module_version": "1.5.0",
      "_view_name": "HBoxView",
      "box_style": "",
      "children": [
       "IPY_MODEL_1ee4072a9fb148cba207b7a4925b8db1",
       "IPY_MODEL_1c0c3c07d1c14280a19b3e19e526ee0d"
      ],
      "layout": "IPY_MODEL_fc1eb7f99eec416fbab00a82e003a83b"
     }
    },
    "1c0c3c07d1c14280a19b3e19e526ee0d": {
     "model_module": "@jupyter-widgets/controls",
     "model_module_version": "1.5.0",
     "model_name": "HTMLModel",
     "state": {
      "_dom_classes": [],
      "_model_module": "@jupyter-widgets/controls",
      "_model_module_version": "1.5.0",
      "_model_name": "HTMLModel",
      "_view_count": null,
      "_view_module": "@jupyter-widgets/controls",
      "_view_module_version": "1.5.0",
      "_view_name": "HTMLView",
      "description": "",
      "description_tooltip": null,
      "layout": "IPY_MODEL_217075bc4b294a4f90eebea749ace7ae",
      "placeholder": "​",
      "style": "IPY_MODEL_5b43fbf988bf42dcab7ecb79a64ab7df",
      "value": " 6.95k/? [00:03&lt;00:00, 2.00kB/s]"
     }
    },
    "1c8e2db0b6774e0787140cb24280861c": {
     "model_module": "@jupyter-widgets/base",
     "model_module_version": "1.2.0",
     "model_name": "LayoutModel",
     "state": {
      "_model_module": "@jupyter-widgets/base",
      "_model_module_version": "1.2.0",
      "_model_name": "LayoutModel",
      "_view_count": null,
      "_view_module": "@jupyter-widgets/base",
      "_view_module_version": "1.2.0",
      "_view_name": "LayoutView",
      "align_content": null,
      "align_items": null,
      "align_self": null,
      "border": null,
      "bottom": null,
      "display": null,
      "flex": null,
      "flex_flow": null,
      "grid_area": null,
      "grid_auto_columns": null,
      "grid_auto_flow": null,
      "grid_auto_rows": null,
      "grid_column": null,
      "grid_gap": null,
      "grid_row": null,
      "grid_template_areas": null,
      "grid_template_columns": null,
      "grid_template_rows": null,
      "height": null,
      "justify_content": null,
      "justify_items": null,
      "left": null,
      "margin": null,
      "max_height": null,
      "max_width": null,
      "min_height": null,
      "min_width": null,
      "object_fit": null,
      "object_position": null,
      "order": null,
      "overflow": null,
      "overflow_x": null,
      "overflow_y": null,
      "padding": null,
      "right": null,
      "top": null,
      "visibility": null,
      "width": "20px"
     }
    },
    "1ee4072a9fb148cba207b7a4925b8db1": {
     "model_module": "@jupyter-widgets/controls",
     "model_module_version": "1.5.0",
     "model_name": "FloatProgressModel",
     "state": {
      "_dom_classes": [],
      "_model_module": "@jupyter-widgets/controls",
      "_model_module_version": "1.5.0",
      "_model_name": "FloatProgressModel",
      "_view_count": null,
      "_view_module": "@jupyter-widgets/controls",
      "_view_module_version": "1.5.0",
      "_view_name": "ProgressView",
      "bar_style": "success",
      "description": "Downloading: ",
      "description_tooltip": null,
      "layout": "IPY_MODEL_21ba063bb45e4126af4eb9d28e07ccbd",
      "max": 2369,
      "min": 0,
      "orientation": "horizontal",
      "style": "IPY_MODEL_b1775d3b699d4e85a0ba1b50a7bf953f",
      "value": 2369
     }
    },
    "217075bc4b294a4f90eebea749ace7ae": {
     "model_module": "@jupyter-widgets/base",
     "model_module_version": "1.2.0",
     "model_name": "LayoutModel",
     "state": {
      "_model_module": "@jupyter-widgets/base",
      "_model_module_version": "1.2.0",
      "_model_name": "LayoutModel",
      "_view_count": null,
      "_view_module": "@jupyter-widgets/base",
      "_view_module_version": "1.2.0",
      "_view_name": "LayoutView",
      "align_content": null,
      "align_items": null,
      "align_self": null,
      "border": null,
      "bottom": null,
      "display": null,
      "flex": null,
      "flex_flow": null,
      "grid_area": null,
      "grid_auto_columns": null,
      "grid_auto_flow": null,
      "grid_auto_rows": null,
      "grid_column": null,
      "grid_gap": null,
      "grid_row": null,
      "grid_template_areas": null,
      "grid_template_columns": null,
      "grid_template_rows": null,
      "height": null,
      "justify_content": null,
      "justify_items": null,
      "left": null,
      "margin": null,
      "max_height": null,
      "max_width": null,
      "min_height": null,
      "min_width": null,
      "object_fit": null,
      "object_position": null,
      "order": null,
      "overflow": null,
      "overflow_x": null,
      "overflow_y": null,
      "padding": null,
      "right": null,
      "top": null,
      "visibility": null,
      "width": null
     }
    },
    "21ba063bb45e4126af4eb9d28e07ccbd": {
     "model_module": "@jupyter-widgets/base",
     "model_module_version": "1.2.0",
     "model_name": "LayoutModel",
     "state": {
      "_model_module": "@jupyter-widgets/base",
      "_model_module_version": "1.2.0",
      "_model_name": "LayoutModel",
      "_view_count": null,
      "_view_module": "@jupyter-widgets/base",
      "_view_module_version": "1.2.0",
      "_view_name": "LayoutView",
      "align_content": null,
      "align_items": null,
      "align_self": null,
      "border": null,
      "bottom": null,
      "display": null,
      "flex": null,
      "flex_flow": null,
      "grid_area": null,
      "grid_auto_columns": null,
      "grid_auto_flow": null,
      "grid_auto_rows": null,
      "grid_column": null,
      "grid_gap": null,
      "grid_row": null,
      "grid_template_areas": null,
      "grid_template_columns": null,
      "grid_template_rows": null,
      "height": null,
      "justify_content": null,
      "justify_items": null,
      "left": null,
      "margin": null,
      "max_height": null,
      "max_width": null,
      "min_height": null,
      "min_width": null,
      "object_fit": null,
      "object_position": null,
      "order": null,
      "overflow": null,
      "overflow_x": null,
      "overflow_y": null,
      "padding": null,
      "right": null,
      "top": null,
      "visibility": null,
      "width": null
     }
    },
    "229e63e910e04d6b86d4cb2c5665bbb7": {
     "model_module": "@jupyter-widgets/base",
     "model_module_version": "1.2.0",
     "model_name": "LayoutModel",
     "state": {
      "_model_module": "@jupyter-widgets/base",
      "_model_module_version": "1.2.0",
      "_model_name": "LayoutModel",
      "_view_count": null,
      "_view_module": "@jupyter-widgets/base",
      "_view_module_version": "1.2.0",
      "_view_name": "LayoutView",
      "align_content": null,
      "align_items": null,
      "align_self": null,
      "border": null,
      "bottom": null,
      "display": null,
      "flex": null,
      "flex_flow": null,
      "grid_area": null,
      "grid_auto_columns": null,
      "grid_auto_flow": null,
      "grid_auto_rows": null,
      "grid_column": null,
      "grid_gap": null,
      "grid_row": null,
      "grid_template_areas": null,
      "grid_template_columns": null,
      "grid_template_rows": null,
      "height": null,
      "justify_content": null,
      "justify_items": null,
      "left": null,
      "margin": null,
      "max_height": null,
      "max_width": null,
      "min_height": null,
      "min_width": null,
      "object_fit": null,
      "object_position": null,
      "order": null,
      "overflow": null,
      "overflow_x": null,
      "overflow_y": null,
      "padding": null,
      "right": null,
      "top": null,
      "visibility": null,
      "width": null
     }
    },
    "235f56c7b6cf4406bcfd3e421f1dd828": {
     "model_module": "@jupyter-widgets/base",
     "model_module_version": "1.2.0",
     "model_name": "LayoutModel",
     "state": {
      "_model_module": "@jupyter-widgets/base",
      "_model_module_version": "1.2.0",
      "_model_name": "LayoutModel",
      "_view_count": null,
      "_view_module": "@jupyter-widgets/base",
      "_view_module_version": "1.2.0",
      "_view_name": "LayoutView",
      "align_content": null,
      "align_items": null,
      "align_self": null,
      "border": null,
      "bottom": null,
      "display": null,
      "flex": null,
      "flex_flow": null,
      "grid_area": null,
      "grid_auto_columns": null,
      "grid_auto_flow": null,
      "grid_auto_rows": null,
      "grid_column": null,
      "grid_gap": null,
      "grid_row": null,
      "grid_template_areas": null,
      "grid_template_columns": null,
      "grid_template_rows": null,
      "height": null,
      "justify_content": null,
      "justify_items": null,
      "left": null,
      "margin": null,
      "max_height": null,
      "max_width": null,
      "min_height": null,
      "min_width": null,
      "object_fit": null,
      "object_position": null,
      "order": null,
      "overflow": null,
      "overflow_x": null,
      "overflow_y": null,
      "padding": null,
      "right": null,
      "top": null,
      "visibility": null,
      "width": "20px"
     }
    },
    "2379a23951e04c5e83c31496160857d9": {
     "model_module": "@jupyter-widgets/controls",
     "model_module_version": "1.5.0",
     "model_name": "ProgressStyleModel",
     "state": {
      "_model_module": "@jupyter-widgets/controls",
      "_model_module_version": "1.5.0",
      "_model_name": "ProgressStyleModel",
      "_view_count": null,
      "_view_module": "@jupyter-widgets/base",
      "_view_module_version": "1.2.0",
      "_view_name": "StyleView",
      "bar_color": null,
      "description_width": "initial"
     }
    },
    "243102452bd442d5a82ff6873cfdbfa5": {
     "model_module": "@jupyter-widgets/controls",
     "model_module_version": "1.5.0",
     "model_name": "HBoxModel",
     "state": {
      "_dom_classes": [],
      "_model_module": "@jupyter-widgets/controls",
      "_model_module_version": "1.5.0",
      "_model_name": "HBoxModel",
      "_view_count": null,
      "_view_module": "@jupyter-widgets/controls",
      "_view_module_version": "1.5.0",
      "_view_name": "HBoxView",
      "box_style": "",
      "children": [
       "IPY_MODEL_cdc2bb5bec8840f7b51a3f3cf2096ae9",
       "IPY_MODEL_590af8d291aa4d68bd63f4356dcbd85b"
      ],
      "layout": "IPY_MODEL_8289f2561b0e40fa845935c50ff7e6ff"
     }
    },
    "26c3979507104f6297938067efcecce0": {
     "model_module": "@jupyter-widgets/controls",
     "model_module_version": "1.5.0",
     "model_name": "ProgressStyleModel",
     "state": {
      "_model_module": "@jupyter-widgets/controls",
      "_model_module_version": "1.5.0",
      "_model_name": "ProgressStyleModel",
      "_view_count": null,
      "_view_module": "@jupyter-widgets/base",
      "_view_module_version": "1.2.0",
      "_view_name": "StyleView",
      "bar_color": null,
      "description_width": "initial"
     }
    },
    "2e106522da6e4c5cbf1056f7090ba71f": {
     "model_module": "@jupyter-widgets/controls",
     "model_module_version": "1.5.0",
     "model_name": "HTMLModel",
     "state": {
      "_dom_classes": [],
      "_model_module": "@jupyter-widgets/controls",
      "_model_module_version": "1.5.0",
      "_model_name": "HTMLModel",
      "_view_count": null,
      "_view_module": "@jupyter-widgets/controls",
      "_view_module_version": "1.5.0",
      "_view_name": "HTMLView",
      "description": "",
      "description_tooltip": null,
      "layout": "IPY_MODEL_ce9530f8b2b74611bb3a4ac0ed775ce2",
      "placeholder": "​",
      "style": "IPY_MODEL_ecf63f0246bd49229119eaa099f9f606",
      "value": " 2.64k/? [00:00&lt;00:00, 32.3kB/s]"
     }
    },
    "2e9daa0c271249e6b60dd1e99d427cbe": {
     "model_module": "@jupyter-widgets/base",
     "model_module_version": "1.2.0",
     "model_name": "LayoutModel",
     "state": {
      "_model_module": "@jupyter-widgets/base",
      "_model_module_version": "1.2.0",
      "_model_name": "LayoutModel",
      "_view_count": null,
      "_view_module": "@jupyter-widgets/base",
      "_view_module_version": "1.2.0",
      "_view_name": "LayoutView",
      "align_content": null,
      "align_items": null,
      "align_self": null,
      "border": null,
      "bottom": null,
      "display": null,
      "flex": null,
      "flex_flow": null,
      "grid_area": null,
      "grid_auto_columns": null,
      "grid_auto_flow": null,
      "grid_auto_rows": null,
      "grid_column": null,
      "grid_gap": null,
      "grid_row": null,
      "grid_template_areas": null,
      "grid_template_columns": null,
      "grid_template_rows": null,
      "height": null,
      "justify_content": null,
      "justify_items": null,
      "left": null,
      "margin": null,
      "max_height": null,
      "max_width": null,
      "min_height": null,
      "min_width": null,
      "object_fit": null,
      "object_position": null,
      "order": null,
      "overflow": null,
      "overflow_x": null,
      "overflow_y": null,
      "padding": null,
      "right": null,
      "top": null,
      "visibility": null,
      "width": null
     }
    },
    "338f6823511f40f380e8082a65482314": {
     "model_module": "@jupyter-widgets/controls",
     "model_module_version": "1.5.0",
     "model_name": "FloatProgressModel",
     "state": {
      "_dom_classes": [],
      "_model_module": "@jupyter-widgets/controls",
      "_model_module_version": "1.5.0",
      "_model_name": "FloatProgressModel",
      "_view_count": null,
      "_view_module": "@jupyter-widgets/controls",
      "_view_module_version": "1.5.0",
      "_view_name": "ProgressView",
      "bar_style": "info",
      "description": "",
      "description_tooltip": null,
      "layout": "IPY_MODEL_235f56c7b6cf4406bcfd3e421f1dd828",
      "max": 1,
      "min": 0,
      "orientation": "horizontal",
      "style": "IPY_MODEL_6eba878216c14e86ad46f2596717b64b",
      "value": 1
     }
    },
    "34d6f4df0ab34e7ba8bbef07498cb252": {
     "model_module": "@jupyter-widgets/controls",
     "model_module_version": "1.5.0",
     "model_name": "HTMLModel",
     "state": {
      "_dom_classes": [],
      "_model_module": "@jupyter-widgets/controls",
      "_model_module_version": "1.5.0",
      "_model_name": "HTMLModel",
      "_view_count": null,
      "_view_module": "@jupyter-widgets/controls",
      "_view_module_version": "1.5.0",
      "_view_name": "HTMLView",
      "description": "",
      "description_tooltip": null,
      "layout": "IPY_MODEL_e03b518b4d484fc7a3ad3b9bf6441df7",
      "placeholder": "​",
      "style": "IPY_MODEL_e052f35dc7d24d9dbb8dbe96796a93b4",
      "value": "1680 examples [00:01, 730.98 examples/s]"
     }
    },
    "3ddd7573a9754283abc02566ebd6eb46": {
     "model_module": "@jupyter-widgets/controls",
     "model_module_version": "1.5.0",
     "model_name": "FloatProgressModel",
     "state": {
      "_dom_classes": [],
      "_model_module": "@jupyter-widgets/controls",
      "_model_module_version": "1.5.0",
      "_model_name": "FloatProgressModel",
      "_view_count": null,
      "_view_module": "@jupyter-widgets/controls",
      "_view_module_version": "1.5.0",
      "_view_name": "ProgressView",
      "bar_style": "success",
      "description": "Downloading: 100%",
      "description_tooltip": null,
      "layout": "IPY_MODEL_6f88ae7d73754bdbb26f97881de0316a",
      "max": 1843,
      "min": 0,
      "orientation": "horizontal",
      "style": "IPY_MODEL_c23ac7ca7ebf46dda72519b297b674ed",
      "value": 1843
     }
    },
    "40f31ceb0e7242eeac858953dfb655da": {
     "model_module": "@jupyter-widgets/controls",
     "model_module_version": "1.5.0",
     "model_name": "FloatProgressModel",
     "state": {
      "_dom_classes": [],
      "_model_module": "@jupyter-widgets/controls",
      "_model_module_version": "1.5.0",
      "_model_name": "FloatProgressModel",
      "_view_count": null,
      "_view_module": "@jupyter-widgets/controls",
      "_view_module_version": "1.5.0",
      "_view_name": "ProgressView",
      "bar_style": "success",
      "description": "100%",
      "description_tooltip": null,
      "layout": "IPY_MODEL_a0a66b38a7f244eba650205c593dba9b",
      "max": 4620,
      "min": 0,
      "orientation": "horizontal",
      "style": "IPY_MODEL_e85f2fac7545406d83393213e7020370",
      "value": 4620
     }
    },
    "4476317b0cef4a16b275a8b3903a8924": {
     "model_module": "@jupyter-widgets/controls",
     "model_module_version": "1.5.0",
     "model_name": "FloatProgressModel",
     "state": {
      "_dom_classes": [],
      "_model_module": "@jupyter-widgets/controls",
      "_model_module_version": "1.5.0",
      "_model_name": "FloatProgressModel",
      "_view_count": null,
      "_view_module": "@jupyter-widgets/controls",
      "_view_module_version": "1.5.0",
      "_view_name": "ProgressView",
      "bar_style": "success",
      "description": "100%",
      "description_tooltip": null,
      "layout": "IPY_MODEL_696c6ea90993421d9a2ea808da9c1573",
      "max": 1680,
      "min": 0,
      "orientation": "horizontal",
      "style": "IPY_MODEL_c02f6e2cca9045e1985a97bf7b46f7fc",
      "value": 1680
     }
    },
    "45cf8afac16944a58d06c19f99fe4476": {
     "model_module": "@jupyter-widgets/base",
     "model_module_version": "1.2.0",
     "model_name": "LayoutModel",
     "state": {
      "_model_module": "@jupyter-widgets/base",
      "_model_module_version": "1.2.0",
      "_model_name": "LayoutModel",
      "_view_count": null,
      "_view_module": "@jupyter-widgets/base",
      "_view_module_version": "1.2.0",
      "_view_name": "LayoutView",
      "align_content": null,
      "align_items": null,
      "align_self": null,
      "border": null,
      "bottom": null,
      "display": null,
      "flex": null,
      "flex_flow": null,
      "grid_area": null,
      "grid_auto_columns": null,
      "grid_auto_flow": null,
      "grid_auto_rows": null,
      "grid_column": null,
      "grid_gap": null,
      "grid_row": null,
      "grid_template_areas": null,
      "grid_template_columns": null,
      "grid_template_rows": null,
      "height": null,
      "justify_content": null,
      "justify_items": null,
      "left": null,
      "margin": null,
      "max_height": null,
      "max_width": null,
      "min_height": null,
      "min_width": null,
      "object_fit": null,
      "object_position": null,
      "order": null,
      "overflow": null,
      "overflow_x": null,
      "overflow_y": null,
      "padding": null,
      "right": null,
      "top": null,
      "visibility": null,
      "width": null
     }
    },
    "474bdf11c56940ed9025450d257fabdd": {
     "model_module": "@jupyter-widgets/controls",
     "model_module_version": "1.5.0",
     "model_name": "DescriptionStyleModel",
     "state": {
      "_model_module": "@jupyter-widgets/controls",
      "_model_module_version": "1.5.0",
      "_model_name": "DescriptionStyleModel",
      "_view_count": null,
      "_view_module": "@jupyter-widgets/base",
      "_view_module_version": "1.2.0",
      "_view_name": "StyleView",
      "description_width": ""
     }
    },
    "499481df0ecd41108f36f87cf4f435e0": {
     "model_module": "@jupyter-widgets/base",
     "model_module_version": "1.2.0",
     "model_name": "LayoutModel",
     "state": {
      "_model_module": "@jupyter-widgets/base",
      "_model_module_version": "1.2.0",
      "_model_name": "LayoutModel",
      "_view_count": null,
      "_view_module": "@jupyter-widgets/base",
      "_view_module_version": "1.2.0",
      "_view_name": "LayoutView",
      "align_content": null,
      "align_items": null,
      "align_self": null,
      "border": null,
      "bottom": null,
      "display": null,
      "flex": null,
      "flex_flow": null,
      "grid_area": null,
      "grid_auto_columns": null,
      "grid_auto_flow": null,
      "grid_auto_rows": null,
      "grid_column": null,
      "grid_gap": null,
      "grid_row": null,
      "grid_template_areas": null,
      "grid_template_columns": null,
      "grid_template_rows": null,
      "height": null,
      "justify_content": null,
      "justify_items": null,
      "left": null,
      "margin": null,
      "max_height": null,
      "max_width": null,
      "min_height": null,
      "min_width": null,
      "object_fit": null,
      "object_position": null,
      "order": null,
      "overflow": null,
      "overflow_x": null,
      "overflow_y": null,
      "padding": null,
      "right": null,
      "top": null,
      "visibility": null,
      "width": null
     }
    },
    "4e12c75f59a84199b79c6c537e7da136": {
     "model_module": "@jupyter-widgets/controls",
     "model_module_version": "1.5.0",
     "model_name": "DescriptionStyleModel",
     "state": {
      "_model_module": "@jupyter-widgets/controls",
      "_model_module_version": "1.5.0",
      "_model_name": "DescriptionStyleModel",
      "_view_count": null,
      "_view_module": "@jupyter-widgets/base",
      "_view_module_version": "1.2.0",
      "_view_name": "StyleView",
      "description_width": ""
     }
    },
    "4efc9961d10141b899b2f4c66c59e6b8": {
     "model_module": "@jupyter-widgets/base",
     "model_module_version": "1.2.0",
     "model_name": "LayoutModel",
     "state": {
      "_model_module": "@jupyter-widgets/base",
      "_model_module_version": "1.2.0",
      "_model_name": "LayoutModel",
      "_view_count": null,
      "_view_module": "@jupyter-widgets/base",
      "_view_module_version": "1.2.0",
      "_view_name": "LayoutView",
      "align_content": null,
      "align_items": null,
      "align_self": null,
      "border": null,
      "bottom": null,
      "display": null,
      "flex": null,
      "flex_flow": null,
      "grid_area": null,
      "grid_auto_columns": null,
      "grid_auto_flow": null,
      "grid_auto_rows": null,
      "grid_column": null,
      "grid_gap": null,
      "grid_row": null,
      "grid_template_areas": null,
      "grid_template_columns": null,
      "grid_template_rows": null,
      "height": null,
      "justify_content": null,
      "justify_items": null,
      "left": null,
      "margin": null,
      "max_height": null,
      "max_width": null,
      "min_height": null,
      "min_width": null,
      "object_fit": null,
      "object_position": null,
      "order": null,
      "overflow": null,
      "overflow_x": null,
      "overflow_y": null,
      "padding": null,
      "right": null,
      "top": null,
      "visibility": null,
      "width": null
     }
    },
    "52137dc0a9ff4a39a2cee3cb6207c0c3": {
     "model_module": "@jupyter-widgets/controls",
     "model_module_version": "1.5.0",
     "model_name": "DescriptionStyleModel",
     "state": {
      "_model_module": "@jupyter-widgets/controls",
      "_model_module_version": "1.5.0",
      "_model_name": "DescriptionStyleModel",
      "_view_count": null,
      "_view_module": "@jupyter-widgets/base",
      "_view_module_version": "1.2.0",
      "_view_name": "StyleView",
      "description_width": ""
     }
    },
    "5644a9c7f52f4abab7ff9c51118e083a": {
     "model_module": "@jupyter-widgets/controls",
     "model_module_version": "1.5.0",
     "model_name": "FloatProgressModel",
     "state": {
      "_dom_classes": [],
      "_model_module": "@jupyter-widgets/controls",
      "_model_module_version": "1.5.0",
      "_model_name": "FloatProgressModel",
      "_view_count": null,
      "_view_module": "@jupyter-widgets/controls",
      "_view_module_version": "1.5.0",
      "_view_name": "ProgressView",
      "bar_style": "success",
      "description": "100%",
      "description_tooltip": null,
      "layout": "IPY_MODEL_717805756a1d45bb97f35550ce640b50",
      "max": 1,
      "min": 0,
      "orientation": "horizontal",
      "style": "IPY_MODEL_2379a23951e04c5e83c31496160857d9",
      "value": 1
     }
    },
    "56cc1d358e894cb6b614bea3ae906f3e": {
     "model_module": "@jupyter-widgets/controls",
     "model_module_version": "1.5.0",
     "model_name": "HBoxModel",
     "state": {
      "_dom_classes": [],
      "_model_module": "@jupyter-widgets/controls",
      "_model_module_version": "1.5.0",
      "_model_name": "HBoxModel",
      "_view_count": null,
      "_view_module": "@jupyter-widgets/controls",
      "_view_module_version": "1.5.0",
      "_view_name": "HBoxView",
      "box_style": "",
      "children": [
       "IPY_MODEL_0bdd5108820745b5882e583b128d9956",
       "IPY_MODEL_c5001101b14341bbb171eaf2529ee8e2"
      ],
      "layout": "IPY_MODEL_145ef9aa5ef949069cab4099c9ab1cef"
     }
    },
    "5807cddb736f4dea8fa5ff5ab8872124": {
     "model_module": "@jupyter-widgets/base",
     "model_module_version": "1.2.0",
     "model_name": "LayoutModel",
     "state": {
      "_model_module": "@jupyter-widgets/base",
      "_model_module_version": "1.2.0",
      "_model_name": "LayoutModel",
      "_view_count": null,
      "_view_module": "@jupyter-widgets/base",
      "_view_module_version": "1.2.0",
      "_view_name": "LayoutView",
      "align_content": null,
      "align_items": null,
      "align_self": null,
      "border": null,
      "bottom": null,
      "display": null,
      "flex": null,
      "flex_flow": null,
      "grid_area": null,
      "grid_auto_columns": null,
      "grid_auto_flow": null,
      "grid_auto_rows": null,
      "grid_column": null,
      "grid_gap": null,
      "grid_row": null,
      "grid_template_areas": null,
      "grid_template_columns": null,
      "grid_template_rows": null,
      "height": null,
      "justify_content": null,
      "justify_items": null,
      "left": null,
      "margin": null,
      "max_height": null,
      "max_width": null,
      "min_height": null,
      "min_width": null,
      "object_fit": null,
      "object_position": null,
      "order": null,
      "overflow": null,
      "overflow_x": null,
      "overflow_y": null,
      "padding": null,
      "right": null,
      "top": null,
      "visibility": null,
      "width": null
     }
    },
    "590af8d291aa4d68bd63f4356dcbd85b": {
     "model_module": "@jupyter-widgets/controls",
     "model_module_version": "1.5.0",
     "model_name": "HTMLModel",
     "state": {
      "_dom_classes": [],
      "_model_module": "@jupyter-widgets/controls",
      "_model_module_version": "1.5.0",
      "_model_name": "HTMLModel",
      "_view_count": null,
      "_view_module": "@jupyter-widgets/controls",
      "_view_module_version": "1.5.0",
      "_view_name": "HTMLView",
      "description": "",
      "description_tooltip": null,
      "layout": "IPY_MODEL_9257ffc744044fb99f7a6e2a70bef6a5",
      "placeholder": "​",
      "style": "IPY_MODEL_0a00cb68ef50452d97b913b3c2abbd80",
      "value": " 1/1 [00:05&lt;00:00,  5.12s/ba]"
     }
    },
    "5a1de8ceb9274d4bba7c0bfe1496077f": {
     "model_module": "@jupyter-widgets/base",
     "model_module_version": "1.2.0",
     "model_name": "LayoutModel",
     "state": {
      "_model_module": "@jupyter-widgets/base",
      "_model_module_version": "1.2.0",
      "_model_name": "LayoutModel",
      "_view_count": null,
      "_view_module": "@jupyter-widgets/base",
      "_view_module_version": "1.2.0",
      "_view_name": "LayoutView",
      "align_content": null,
      "align_items": null,
      "align_self": null,
      "border": null,
      "bottom": null,
      "display": null,
      "flex": null,
      "flex_flow": null,
      "grid_area": null,
      "grid_auto_columns": null,
      "grid_auto_flow": null,
      "grid_auto_rows": null,
      "grid_column": null,
      "grid_gap": null,
      "grid_row": null,
      "grid_template_areas": null,
      "grid_template_columns": null,
      "grid_template_rows": null,
      "height": null,
      "justify_content": null,
      "justify_items": null,
      "left": null,
      "margin": null,
      "max_height": null,
      "max_width": null,
      "min_height": null,
      "min_width": null,
      "object_fit": null,
      "object_position": null,
      "order": null,
      "overflow": null,
      "overflow_x": null,
      "overflow_y": null,
      "padding": null,
      "right": null,
      "top": null,
      "visibility": null,
      "width": null
     }
    },
    "5a1ee1bef4314a84b5cda055c8bf6170": {
     "model_module": "@jupyter-widgets/base",
     "model_module_version": "1.2.0",
     "model_name": "LayoutModel",
     "state": {
      "_model_module": "@jupyter-widgets/base",
      "_model_module_version": "1.2.0",
      "_model_name": "LayoutModel",
      "_view_count": null,
      "_view_module": "@jupyter-widgets/base",
      "_view_module_version": "1.2.0",
      "_view_name": "LayoutView",
      "align_content": null,
      "align_items": null,
      "align_self": null,
      "border": null,
      "bottom": null,
      "display": null,
      "flex": null,
      "flex_flow": null,
      "grid_area": null,
      "grid_auto_columns": null,
      "grid_auto_flow": null,
      "grid_auto_rows": null,
      "grid_column": null,
      "grid_gap": null,
      "grid_row": null,
      "grid_template_areas": null,
      "grid_template_columns": null,
      "grid_template_rows": null,
      "height": null,
      "justify_content": null,
      "justify_items": null,
      "left": null,
      "margin": null,
      "max_height": null,
      "max_width": null,
      "min_height": null,
      "min_width": null,
      "object_fit": null,
      "object_position": null,
      "order": null,
      "overflow": null,
      "overflow_x": null,
      "overflow_y": null,
      "padding": null,
      "right": null,
      "top": null,
      "visibility": null,
      "width": null
     }
    },
    "5b43fbf988bf42dcab7ecb79a64ab7df": {
     "model_module": "@jupyter-widgets/controls",
     "model_module_version": "1.5.0",
     "model_name": "DescriptionStyleModel",
     "state": {
      "_model_module": "@jupyter-widgets/controls",
      "_model_module_version": "1.5.0",
      "_model_name": "DescriptionStyleModel",
      "_view_count": null,
      "_view_module": "@jupyter-widgets/base",
      "_view_module_version": "1.2.0",
      "_view_name": "StyleView",
      "description_width": ""
     }
    },
    "66b8702bf84f4077a80c9fd35875873b": {
     "model_module": "@jupyter-widgets/controls",
     "model_module_version": "1.5.0",
     "model_name": "HBoxModel",
     "state": {
      "_dom_classes": [],
      "_model_module": "@jupyter-widgets/controls",
      "_model_module_version": "1.5.0",
      "_model_name": "HBoxModel",
      "_view_count": null,
      "_view_module": "@jupyter-widgets/controls",
      "_view_module_version": "1.5.0",
      "_view_name": "HBoxView",
      "box_style": "",
      "children": [
       "IPY_MODEL_5644a9c7f52f4abab7ff9c51118e083a",
       "IPY_MODEL_b8bf59ae3c1047d3b35d1644a4e4be80"
      ],
      "layout": "IPY_MODEL_45cf8afac16944a58d06c19f99fe4476"
     }
    },
    "68c9cbcbd50a422f9bf80346d1d881d4": {
     "model_module": "@jupyter-widgets/controls",
     "model_module_version": "1.5.0",
     "model_name": "HBoxModel",
     "state": {
      "_dom_classes": [],
      "_model_module": "@jupyter-widgets/controls",
      "_model_module_version": "1.5.0",
      "_model_name": "HBoxModel",
      "_view_count": null,
      "_view_module": "@jupyter-widgets/controls",
      "_view_module_version": "1.5.0",
      "_view_name": "HBoxView",
      "box_style": "",
      "children": [
       "IPY_MODEL_4476317b0cef4a16b275a8b3903a8924",
       "IPY_MODEL_f6baf7dff073439aa4d44fed75ed923e"
      ],
      "layout": "IPY_MODEL_e0ef7e5bb3084a0b93a13c60d224fd53"
     }
    },
    "696c6ea90993421d9a2ea808da9c1573": {
     "model_module": "@jupyter-widgets/base",
     "model_module_version": "1.2.0",
     "model_name": "LayoutModel",
     "state": {
      "_model_module": "@jupyter-widgets/base",
      "_model_module_version": "1.2.0",
      "_model_name": "LayoutModel",
      "_view_count": null,
      "_view_module": "@jupyter-widgets/base",
      "_view_module_version": "1.2.0",
      "_view_name": "LayoutView",
      "align_content": null,
      "align_items": null,
      "align_self": null,
      "border": null,
      "bottom": null,
      "display": null,
      "flex": null,
      "flex_flow": null,
      "grid_area": null,
      "grid_auto_columns": null,
      "grid_auto_flow": null,
      "grid_auto_rows": null,
      "grid_column": null,
      "grid_gap": null,
      "grid_row": null,
      "grid_template_areas": null,
      "grid_template_columns": null,
      "grid_template_rows": null,
      "height": null,
      "justify_content": null,
      "justify_items": null,
      "left": null,
      "margin": null,
      "max_height": null,
      "max_width": null,
      "min_height": null,
      "min_width": null,
      "object_fit": null,
      "object_position": null,
      "order": null,
      "overflow": null,
      "overflow_x": null,
      "overflow_y": null,
      "padding": null,
      "right": null,
      "top": null,
      "visibility": null,
      "width": null
     }
    },
    "6da8214c91fc494da0f681efa61c4681": {
     "model_module": "@jupyter-widgets/controls",
     "model_module_version": "1.5.0",
     "model_name": "ProgressStyleModel",
     "state": {
      "_model_module": "@jupyter-widgets/controls",
      "_model_module_version": "1.5.0",
      "_model_name": "ProgressStyleModel",
      "_view_count": null,
      "_view_module": "@jupyter-widgets/base",
      "_view_module_version": "1.2.0",
      "_view_name": "StyleView",
      "bar_color": null,
      "description_width": "initial"
     }
    },
    "6eba878216c14e86ad46f2596717b64b": {
     "model_module": "@jupyter-widgets/controls",
     "model_module_version": "1.5.0",
     "model_name": "ProgressStyleModel",
     "state": {
      "_model_module": "@jupyter-widgets/controls",
      "_model_module_version": "1.5.0",
      "_model_name": "ProgressStyleModel",
      "_view_count": null,
      "_view_module": "@jupyter-widgets/base",
      "_view_module_version": "1.2.0",
      "_view_name": "StyleView",
      "bar_color": null,
      "description_width": "initial"
     }
    },
    "6f88ae7d73754bdbb26f97881de0316a": {
     "model_module": "@jupyter-widgets/base",
     "model_module_version": "1.2.0",
     "model_name": "LayoutModel",
     "state": {
      "_model_module": "@jupyter-widgets/base",
      "_model_module_version": "1.2.0",
      "_model_name": "LayoutModel",
      "_view_count": null,
      "_view_module": "@jupyter-widgets/base",
      "_view_module_version": "1.2.0",
      "_view_name": "LayoutView",
      "align_content": null,
      "align_items": null,
      "align_self": null,
      "border": null,
      "bottom": null,
      "display": null,
      "flex": null,
      "flex_flow": null,
      "grid_area": null,
      "grid_auto_columns": null,
      "grid_auto_flow": null,
      "grid_auto_rows": null,
      "grid_column": null,
      "grid_gap": null,
      "grid_row": null,
      "grid_template_areas": null,
      "grid_template_columns": null,
      "grid_template_rows": null,
      "height": null,
      "justify_content": null,
      "justify_items": null,
      "left": null,
      "margin": null,
      "max_height": null,
      "max_width": null,
      "min_height": null,
      "min_width": null,
      "object_fit": null,
      "object_position": null,
      "order": null,
      "overflow": null,
      "overflow_x": null,
      "overflow_y": null,
      "padding": null,
      "right": null,
      "top": null,
      "visibility": null,
      "width": null
     }
    },
    "6fc3bcd76162428bb5b09bd8fab8fdbb": {
     "model_module": "@jupyter-widgets/base",
     "model_module_version": "1.2.0",
     "model_name": "LayoutModel",
     "state": {
      "_model_module": "@jupyter-widgets/base",
      "_model_module_version": "1.2.0",
      "_model_name": "LayoutModel",
      "_view_count": null,
      "_view_module": "@jupyter-widgets/base",
      "_view_module_version": "1.2.0",
      "_view_name": "LayoutView",
      "align_content": null,
      "align_items": null,
      "align_self": null,
      "border": null,
      "bottom": null,
      "display": null,
      "flex": null,
      "flex_flow": null,
      "grid_area": null,
      "grid_auto_columns": null,
      "grid_auto_flow": null,
      "grid_auto_rows": null,
      "grid_column": null,
      "grid_gap": null,
      "grid_row": null,
      "grid_template_areas": null,
      "grid_template_columns": null,
      "grid_template_rows": null,
      "height": null,
      "justify_content": null,
      "justify_items": null,
      "left": null,
      "margin": null,
      "max_height": null,
      "max_width": null,
      "min_height": null,
      "min_width": null,
      "object_fit": null,
      "object_position": null,
      "order": null,
      "overflow": null,
      "overflow_x": null,
      "overflow_y": null,
      "padding": null,
      "right": null,
      "top": null,
      "visibility": null,
      "width": null
     }
    },
    "6fe248aa323647caa2e0884c6e359daf": {
     "model_module": "@jupyter-widgets/base",
     "model_module_version": "1.2.0",
     "model_name": "LayoutModel",
     "state": {
      "_model_module": "@jupyter-widgets/base",
      "_model_module_version": "1.2.0",
      "_model_name": "LayoutModel",
      "_view_count": null,
      "_view_module": "@jupyter-widgets/base",
      "_view_module_version": "1.2.0",
      "_view_name": "LayoutView",
      "align_content": null,
      "align_items": null,
      "align_self": null,
      "border": null,
      "bottom": null,
      "display": null,
      "flex": null,
      "flex_flow": null,
      "grid_area": null,
      "grid_auto_columns": null,
      "grid_auto_flow": null,
      "grid_auto_rows": null,
      "grid_column": null,
      "grid_gap": null,
      "grid_row": null,
      "grid_template_areas": null,
      "grid_template_columns": null,
      "grid_template_rows": null,
      "height": null,
      "justify_content": null,
      "justify_items": null,
      "left": null,
      "margin": null,
      "max_height": null,
      "max_width": null,
      "min_height": null,
      "min_width": null,
      "object_fit": null,
      "object_position": null,
      "order": null,
      "overflow": null,
      "overflow_x": null,
      "overflow_y": null,
      "padding": null,
      "right": null,
      "top": null,
      "visibility": null,
      "width": null
     }
    },
    "717805756a1d45bb97f35550ce640b50": {
     "model_module": "@jupyter-widgets/base",
     "model_module_version": "1.2.0",
     "model_name": "LayoutModel",
     "state": {
      "_model_module": "@jupyter-widgets/base",
      "_model_module_version": "1.2.0",
      "_model_name": "LayoutModel",
      "_view_count": null,
      "_view_module": "@jupyter-widgets/base",
      "_view_module_version": "1.2.0",
      "_view_name": "LayoutView",
      "align_content": null,
      "align_items": null,
      "align_self": null,
      "border": null,
      "bottom": null,
      "display": null,
      "flex": null,
      "flex_flow": null,
      "grid_area": null,
      "grid_auto_columns": null,
      "grid_auto_flow": null,
      "grid_auto_rows": null,
      "grid_column": null,
      "grid_gap": null,
      "grid_row": null,
      "grid_template_areas": null,
      "grid_template_columns": null,
      "grid_template_rows": null,
      "height": null,
      "justify_content": null,
      "justify_items": null,
      "left": null,
      "margin": null,
      "max_height": null,
      "max_width": null,
      "min_height": null,
      "min_width": null,
      "object_fit": null,
      "object_position": null,
      "order": null,
      "overflow": null,
      "overflow_x": null,
      "overflow_y": null,
      "padding": null,
      "right": null,
      "top": null,
      "visibility": null,
      "width": null
     }
    },
    "71911afc014d467bbbe608a4decaeb64": {
     "model_module": "@jupyter-widgets/base",
     "model_module_version": "1.2.0",
     "model_name": "LayoutModel",
     "state": {
      "_model_module": "@jupyter-widgets/base",
      "_model_module_version": "1.2.0",
      "_model_name": "LayoutModel",
      "_view_count": null,
      "_view_module": "@jupyter-widgets/base",
      "_view_module_version": "1.2.0",
      "_view_name": "LayoutView",
      "align_content": null,
      "align_items": null,
      "align_self": null,
      "border": null,
      "bottom": null,
      "display": null,
      "flex": null,
      "flex_flow": null,
      "grid_area": null,
      "grid_auto_columns": null,
      "grid_auto_flow": null,
      "grid_auto_rows": null,
      "grid_column": null,
      "grid_gap": null,
      "grid_row": null,
      "grid_template_areas": null,
      "grid_template_columns": null,
      "grid_template_rows": null,
      "height": null,
      "justify_content": null,
      "justify_items": null,
      "left": null,
      "margin": null,
      "max_height": null,
      "max_width": null,
      "min_height": null,
      "min_width": null,
      "object_fit": null,
      "object_position": null,
      "order": null,
      "overflow": null,
      "overflow_x": null,
      "overflow_y": null,
      "padding": null,
      "right": null,
      "top": null,
      "visibility": null,
      "width": null
     }
    },
    "74a85bcedf3340d9920b025ceb4ed13f": {
     "model_module": "@jupyter-widgets/base",
     "model_module_version": "1.2.0",
     "model_name": "LayoutModel",
     "state": {
      "_model_module": "@jupyter-widgets/base",
      "_model_module_version": "1.2.0",
      "_model_name": "LayoutModel",
      "_view_count": null,
      "_view_module": "@jupyter-widgets/base",
      "_view_module_version": "1.2.0",
      "_view_name": "LayoutView",
      "align_content": null,
      "align_items": null,
      "align_self": null,
      "border": null,
      "bottom": null,
      "display": null,
      "flex": null,
      "flex_flow": null,
      "grid_area": null,
      "grid_auto_columns": null,
      "grid_auto_flow": null,
      "grid_auto_rows": null,
      "grid_column": null,
      "grid_gap": null,
      "grid_row": null,
      "grid_template_areas": null,
      "grid_template_columns": null,
      "grid_template_rows": null,
      "height": null,
      "justify_content": null,
      "justify_items": null,
      "left": null,
      "margin": null,
      "max_height": null,
      "max_width": null,
      "min_height": null,
      "min_width": null,
      "object_fit": null,
      "object_position": null,
      "order": null,
      "overflow": null,
      "overflow_x": null,
      "overflow_y": null,
      "padding": null,
      "right": null,
      "top": null,
      "visibility": null,
      "width": null
     }
    },
    "77999e854dbd43da94cc56854758f334": {
     "model_module": "@jupyter-widgets/controls",
     "model_module_version": "1.5.0",
     "model_name": "FloatProgressModel",
     "state": {
      "_dom_classes": [],
      "_model_module": "@jupyter-widgets/controls",
      "_model_module_version": "1.5.0",
      "_model_name": "FloatProgressModel",
      "_view_count": null,
      "_view_module": "@jupyter-widgets/controls",
      "_view_module_version": "1.5.0",
      "_view_name": "ProgressView",
      "bar_style": "success",
      "description": "Downloading: 100%",
      "description_tooltip": null,
      "layout": "IPY_MODEL_6fe248aa323647caa2e0884c6e359daf",
      "max": 380267417,
      "min": 0,
      "orientation": "horizontal",
      "style": "IPY_MODEL_b76f7d5eb66f4779bcec5e805fc6876c",
      "value": 380267417
     }
    },
    "7dda26aec18340329c3bdf916f820439": {
     "model_module": "@jupyter-widgets/controls",
     "model_module_version": "1.5.0",
     "model_name": "DescriptionStyleModel",
     "state": {
      "_model_module": "@jupyter-widgets/controls",
      "_model_module_version": "1.5.0",
      "_model_name": "DescriptionStyleModel",
      "_view_count": null,
      "_view_module": "@jupyter-widgets/base",
      "_view_module_version": "1.2.0",
      "_view_name": "StyleView",
      "description_width": ""
     }
    },
    "7fcc976fe61148c0a2b4f97fb6709d1a": {
     "model_module": "@jupyter-widgets/controls",
     "model_module_version": "1.5.0",
     "model_name": "HBoxModel",
     "state": {
      "_dom_classes": [],
      "_model_module": "@jupyter-widgets/controls",
      "_model_module_version": "1.5.0",
      "_model_name": "HBoxModel",
      "_view_count": null,
      "_view_module": "@jupyter-widgets/controls",
      "_view_module_version": "1.5.0",
      "_view_name": "HBoxView",
      "box_style": "",
      "children": [
       "IPY_MODEL_3ddd7573a9754283abc02566ebd6eb46",
       "IPY_MODEL_105f6cbdf38c4be79252f93d6be0543d"
      ],
      "layout": "IPY_MODEL_2e9daa0c271249e6b60dd1e99d427cbe"
     }
    },
    "8289f2561b0e40fa845935c50ff7e6ff": {
     "model_module": "@jupyter-widgets/base",
     "model_module_version": "1.2.0",
     "model_name": "LayoutModel",
     "state": {
      "_model_module": "@jupyter-widgets/base",
      "_model_module_version": "1.2.0",
      "_model_name": "LayoutModel",
      "_view_count": null,
      "_view_module": "@jupyter-widgets/base",
      "_view_module_version": "1.2.0",
      "_view_name": "LayoutView",
      "align_content": null,
      "align_items": null,
      "align_self": null,
      "border": null,
      "bottom": null,
      "display": null,
      "flex": null,
      "flex_flow": null,
      "grid_area": null,
      "grid_auto_columns": null,
      "grid_auto_flow": null,
      "grid_auto_rows": null,
      "grid_column": null,
      "grid_gap": null,
      "grid_row": null,
      "grid_template_areas": null,
      "grid_template_columns": null,
      "grid_template_rows": null,
      "height": null,
      "justify_content": null,
      "justify_items": null,
      "left": null,
      "margin": null,
      "max_height": null,
      "max_width": null,
      "min_height": null,
      "min_width": null,
      "object_fit": null,
      "object_position": null,
      "order": null,
      "overflow": null,
      "overflow_x": null,
      "overflow_y": null,
      "padding": null,
      "right": null,
      "top": null,
      "visibility": null,
      "width": null
     }
    },
    "838e20b0fe914168beaa39f8bf52f33a": {
     "model_module": "@jupyter-widgets/base",
     "model_module_version": "1.2.0",
     "model_name": "LayoutModel",
     "state": {
      "_model_module": "@jupyter-widgets/base",
      "_model_module_version": "1.2.0",
      "_model_name": "LayoutModel",
      "_view_count": null,
      "_view_module": "@jupyter-widgets/base",
      "_view_module_version": "1.2.0",
      "_view_name": "LayoutView",
      "align_content": null,
      "align_items": null,
      "align_self": null,
      "border": null,
      "bottom": null,
      "display": null,
      "flex": null,
      "flex_flow": null,
      "grid_area": null,
      "grid_auto_columns": null,
      "grid_auto_flow": null,
      "grid_auto_rows": null,
      "grid_column": null,
      "grid_gap": null,
      "grid_row": null,
      "grid_template_areas": null,
      "grid_template_columns": null,
      "grid_template_rows": null,
      "height": null,
      "justify_content": null,
      "justify_items": null,
      "left": null,
      "margin": null,
      "max_height": null,
      "max_width": null,
      "min_height": null,
      "min_width": null,
      "object_fit": null,
      "object_position": null,
      "order": null,
      "overflow": null,
      "overflow_x": null,
      "overflow_y": null,
      "padding": null,
      "right": null,
      "top": null,
      "visibility": null,
      "width": null
     }
    },
    "8a34732a484c4db1a14d31e489006924": {
     "model_module": "@jupyter-widgets/controls",
     "model_module_version": "1.5.0",
     "model_name": "DescriptionStyleModel",
     "state": {
      "_model_module": "@jupyter-widgets/controls",
      "_model_module_version": "1.5.0",
      "_model_name": "DescriptionStyleModel",
      "_view_count": null,
      "_view_module": "@jupyter-widgets/base",
      "_view_module_version": "1.2.0",
      "_view_name": "StyleView",
      "description_width": ""
     }
    },
    "90e6805dcc624aa2a5bc5f78c105b6da": {
     "model_module": "@jupyter-widgets/controls",
     "model_module_version": "1.5.0",
     "model_name": "ProgressStyleModel",
     "state": {
      "_model_module": "@jupyter-widgets/controls",
      "_model_module_version": "1.5.0",
      "_model_name": "ProgressStyleModel",
      "_view_count": null,
      "_view_module": "@jupyter-widgets/base",
      "_view_module_version": "1.2.0",
      "_view_name": "StyleView",
      "bar_color": null,
      "description_width": "initial"
     }
    },
    "9257ffc744044fb99f7a6e2a70bef6a5": {
     "model_module": "@jupyter-widgets/base",
     "model_module_version": "1.2.0",
     "model_name": "LayoutModel",
     "state": {
      "_model_module": "@jupyter-widgets/base",
      "_model_module_version": "1.2.0",
      "_model_name": "LayoutModel",
      "_view_count": null,
      "_view_module": "@jupyter-widgets/base",
      "_view_module_version": "1.2.0",
      "_view_name": "LayoutView",
      "align_content": null,
      "align_items": null,
      "align_self": null,
      "border": null,
      "bottom": null,
      "display": null,
      "flex": null,
      "flex_flow": null,
      "grid_area": null,
      "grid_auto_columns": null,
      "grid_auto_flow": null,
      "grid_auto_rows": null,
      "grid_column": null,
      "grid_gap": null,
      "grid_row": null,
      "grid_template_areas": null,
      "grid_template_columns": null,
      "grid_template_rows": null,
      "height": null,
      "justify_content": null,
      "justify_items": null,
      "left": null,
      "margin": null,
      "max_height": null,
      "max_width": null,
      "min_height": null,
      "min_width": null,
      "object_fit": null,
      "object_position": null,
      "order": null,
      "overflow": null,
      "overflow_x": null,
      "overflow_y": null,
      "padding": null,
      "right": null,
      "top": null,
      "visibility": null,
      "width": null
     }
    },
    "95ee7967976d4787bdae3d512611c55f": {
     "model_module": "@jupyter-widgets/controls",
     "model_module_version": "1.5.0",
     "model_name": "HBoxModel",
     "state": {
      "_dom_classes": [],
      "_model_module": "@jupyter-widgets/controls",
      "_model_module_version": "1.5.0",
      "_model_name": "HBoxModel",
      "_view_count": null,
      "_view_module": "@jupyter-widgets/controls",
      "_view_module_version": "1.5.0",
      "_view_name": "HBoxView",
      "box_style": "",
      "children": [
       "IPY_MODEL_0860d9300f044ad0b9ae5c02be6dc7b2",
       "IPY_MODEL_bfd7e6c7dab348128ff1252f4c4343ae"
      ],
      "layout": "IPY_MODEL_4efc9961d10141b899b2f4c66c59e6b8"
     }
    },
    "961a16f4b3294dbe81e830416b9c39c4": {
     "model_module": "@jupyter-widgets/controls",
     "model_module_version": "1.5.0",
     "model_name": "HTMLModel",
     "state": {
      "_dom_classes": [],
      "_model_module": "@jupyter-widgets/controls",
      "_model_module_version": "1.5.0",
      "_model_name": "HTMLModel",
      "_view_count": null,
      "_view_module": "@jupyter-widgets/controls",
      "_view_module_version": "1.5.0",
      "_view_name": "HTMLView",
      "description": "",
      "description_tooltip": null,
      "layout": "IPY_MODEL_d9fa815c1e6647eea1826bc178f2b696",
      "placeholder": "​",
      "style": "IPY_MODEL_a570c49c442041619c5a5756fdd3d064",
      "value": " 380M/380M [00:13&lt;00:00, 27.8MB/s]"
     }
    },
    "a0a66b38a7f244eba650205c593dba9b": {
     "model_module": "@jupyter-widgets/base",
     "model_module_version": "1.2.0",
     "model_name": "LayoutModel",
     "state": {
      "_model_module": "@jupyter-widgets/base",
      "_model_module_version": "1.2.0",
      "_model_name": "LayoutModel",
      "_view_count": null,
      "_view_module": "@jupyter-widgets/base",
      "_view_module_version": "1.2.0",
      "_view_name": "LayoutView",
      "align_content": null,
      "align_items": null,
      "align_self": null,
      "border": null,
      "bottom": null,
      "display": null,
      "flex": null,
      "flex_flow": null,
      "grid_area": null,
      "grid_auto_columns": null,
      "grid_auto_flow": null,
      "grid_auto_rows": null,
      "grid_column": null,
      "grid_gap": null,
      "grid_row": null,
      "grid_template_areas": null,
      "grid_template_columns": null,
      "grid_template_rows": null,
      "height": null,
      "justify_content": null,
      "justify_items": null,
      "left": null,
      "margin": null,
      "max_height": null,
      "max_width": null,
      "min_height": null,
      "min_width": null,
      "object_fit": null,
      "object_position": null,
      "order": null,
      "overflow": null,
      "overflow_x": null,
      "overflow_y": null,
      "padding": null,
      "right": null,
      "top": null,
      "visibility": null,
      "width": null
     }
    },
    "a570c49c442041619c5a5756fdd3d064": {
     "model_module": "@jupyter-widgets/controls",
     "model_module_version": "1.5.0",
     "model_name": "DescriptionStyleModel",
     "state": {
      "_model_module": "@jupyter-widgets/controls",
      "_model_module_version": "1.5.0",
      "_model_name": "DescriptionStyleModel",
      "_view_count": null,
      "_view_module": "@jupyter-widgets/base",
      "_view_module_version": "1.2.0",
      "_view_name": "StyleView",
      "description_width": ""
     }
    },
    "ab4723b68cb14912959fbab1ee21a634": {
     "model_module": "@jupyter-widgets/base",
     "model_module_version": "1.2.0",
     "model_name": "LayoutModel",
     "state": {
      "_model_module": "@jupyter-widgets/base",
      "_model_module_version": "1.2.0",
      "_model_name": "LayoutModel",
      "_view_count": null,
      "_view_module": "@jupyter-widgets/base",
      "_view_module_version": "1.2.0",
      "_view_name": "LayoutView",
      "align_content": null,
      "align_items": null,
      "align_self": null,
      "border": null,
      "bottom": null,
      "display": null,
      "flex": null,
      "flex_flow": null,
      "grid_area": null,
      "grid_auto_columns": null,
      "grid_auto_flow": null,
      "grid_auto_rows": null,
      "grid_column": null,
      "grid_gap": null,
      "grid_row": null,
      "grid_template_areas": null,
      "grid_template_columns": null,
      "grid_template_rows": null,
      "height": null,
      "justify_content": null,
      "justify_items": null,
      "left": null,
      "margin": null,
      "max_height": null,
      "max_width": null,
      "min_height": null,
      "min_width": null,
      "object_fit": null,
      "object_position": null,
      "order": null,
      "overflow": null,
      "overflow_x": null,
      "overflow_y": null,
      "padding": null,
      "right": null,
      "top": null,
      "visibility": null,
      "width": null
     }
    },
    "af602d53ae2d447fa690281c04d766bb": {
     "model_module": "@jupyter-widgets/controls",
     "model_module_version": "1.5.0",
     "model_name": "HBoxModel",
     "state": {
      "_dom_classes": [],
      "_model_module": "@jupyter-widgets/controls",
      "_model_module_version": "1.5.0",
      "_model_name": "HBoxModel",
      "_view_count": null,
      "_view_module": "@jupyter-widgets/controls",
      "_view_module_version": "1.5.0",
      "_view_name": "HBoxView",
      "box_style": "",
      "children": [
       "IPY_MODEL_338f6823511f40f380e8082a65482314",
       "IPY_MODEL_34d6f4df0ab34e7ba8bbef07498cb252"
      ],
      "layout": "IPY_MODEL_5807cddb736f4dea8fa5ff5ab8872124"
     }
    },
    "b1775d3b699d4e85a0ba1b50a7bf953f": {
     "model_module": "@jupyter-widgets/controls",
     "model_module_version": "1.5.0",
     "model_name": "ProgressStyleModel",
     "state": {
      "_model_module": "@jupyter-widgets/controls",
      "_model_module_version": "1.5.0",
      "_model_name": "ProgressStyleModel",
      "_view_count": null,
      "_view_module": "@jupyter-widgets/base",
      "_view_module_version": "1.2.0",
      "_view_name": "StyleView",
      "bar_color": null,
      "description_width": "initial"
     }
    },
    "b2529cc554da477ba7f6739e3c119413": {
     "model_module": "@jupyter-widgets/controls",
     "model_module_version": "1.5.0",
     "model_name": "HBoxModel",
     "state": {
      "_dom_classes": [],
      "_model_module": "@jupyter-widgets/controls",
      "_model_module_version": "1.5.0",
      "_model_name": "HBoxModel",
      "_view_count": null,
      "_view_module": "@jupyter-widgets/controls",
      "_view_module_version": "1.5.0",
      "_view_name": "HBoxView",
      "box_style": "",
      "children": [
       "IPY_MODEL_77999e854dbd43da94cc56854758f334",
       "IPY_MODEL_961a16f4b3294dbe81e830416b9c39c4"
      ],
      "layout": "IPY_MODEL_07d337f6bd28466eb2be73792cf56cab"
     }
    },
    "b76f7d5eb66f4779bcec5e805fc6876c": {
     "model_module": "@jupyter-widgets/controls",
     "model_module_version": "1.5.0",
     "model_name": "ProgressStyleModel",
     "state": {
      "_model_module": "@jupyter-widgets/controls",
      "_model_module_version": "1.5.0",
      "_model_name": "ProgressStyleModel",
      "_view_count": null,
      "_view_module": "@jupyter-widgets/base",
      "_view_module_version": "1.2.0",
      "_view_name": "StyleView",
      "bar_color": null,
      "description_width": "initial"
     }
    },
    "b8bf59ae3c1047d3b35d1644a4e4be80": {
     "model_module": "@jupyter-widgets/controls",
     "model_module_version": "1.5.0",
     "model_name": "HTMLModel",
     "state": {
      "_dom_classes": [],
      "_model_module": "@jupyter-widgets/controls",
      "_model_module_version": "1.5.0",
      "_model_name": "HTMLModel",
      "_view_count": null,
      "_view_module": "@jupyter-widgets/controls",
      "_view_module_version": "1.5.0",
      "_view_name": "HTMLView",
      "description": "",
      "description_tooltip": null,
      "layout": "IPY_MODEL_229e63e910e04d6b86d4cb2c5665bbb7",
      "placeholder": "​",
      "style": "IPY_MODEL_52137dc0a9ff4a39a2cee3cb6207c0c3",
      "value": " 1/1 [01:01&lt;00:00, 61.31s/ba]"
     }
    },
    "bfd7e6c7dab348128ff1252f4c4343ae": {
     "model_module": "@jupyter-widgets/controls",
     "model_module_version": "1.5.0",
     "model_name": "HTMLModel",
     "state": {
      "_dom_classes": [],
      "_model_module": "@jupyter-widgets/controls",
      "_model_module_version": "1.5.0",
      "_model_name": "HTMLModel",
      "_view_count": null,
      "_view_module": "@jupyter-widgets/controls",
      "_view_module_version": "1.5.0",
      "_view_name": "HTMLView",
      "description": "",
      "description_tooltip": null,
      "layout": "IPY_MODEL_499481df0ecd41108f36f87cf4f435e0",
      "placeholder": "​",
      "style": "IPY_MODEL_8a34732a484c4db1a14d31e489006924",
      "value": "4620 examples [00:05, 921.13 examples/s]"
     }
    },
    "c02f6e2cca9045e1985a97bf7b46f7fc": {
     "model_module": "@jupyter-widgets/controls",
     "model_module_version": "1.5.0",
     "model_name": "ProgressStyleModel",
     "state": {
      "_model_module": "@jupyter-widgets/controls",
      "_model_module_version": "1.5.0",
      "_model_name": "ProgressStyleModel",
      "_view_count": null,
      "_view_module": "@jupyter-widgets/base",
      "_view_module_version": "1.2.0",
      "_view_name": "StyleView",
      "bar_color": null,
      "description_width": "initial"
     }
    },
    "c23ac7ca7ebf46dda72519b297b674ed": {
     "model_module": "@jupyter-widgets/controls",
     "model_module_version": "1.5.0",
     "model_name": "ProgressStyleModel",
     "state": {
      "_model_module": "@jupyter-widgets/controls",
      "_model_module_version": "1.5.0",
      "_model_name": "ProgressStyleModel",
      "_view_count": null,
      "_view_module": "@jupyter-widgets/base",
      "_view_module_version": "1.2.0",
      "_view_name": "StyleView",
      "bar_color": null,
      "description_width": "initial"
     }
    },
    "c5001101b14341bbb171eaf2529ee8e2": {
     "model_module": "@jupyter-widgets/controls",
     "model_module_version": "1.5.0",
     "model_name": "HTMLModel",
     "state": {
      "_dom_classes": [],
      "_model_module": "@jupyter-widgets/controls",
      "_model_module_version": "1.5.0",
      "_model_name": "HTMLModel",
      "_view_count": null,
      "_view_module": "@jupyter-widgets/controls",
      "_view_module_version": "1.5.0",
      "_view_name": "HTMLView",
      "description": "",
      "description_tooltip": null,
      "layout": "IPY_MODEL_d00030e7b51e490da2b9f6396b13ce72",
      "placeholder": "​",
      "style": "IPY_MODEL_474bdf11c56940ed9025450d257fabdd",
      "value": " 4.55k/? [00:14&lt;00:00, 312B/s]"
     }
    },
    "c83137079a014e6ea0e430679d9e76d2": {
     "model_module": "@jupyter-widgets/controls",
     "model_module_version": "1.5.0",
     "model_name": "ProgressStyleModel",
     "state": {
      "_model_module": "@jupyter-widgets/controls",
      "_model_module_version": "1.5.0",
      "_model_name": "ProgressStyleModel",
      "_view_count": null,
      "_view_module": "@jupyter-widgets/base",
      "_view_module_version": "1.2.0",
      "_view_name": "StyleView",
      "bar_color": null,
      "description_width": "initial"
     }
    },
    "cdc2bb5bec8840f7b51a3f3cf2096ae9": {
     "model_module": "@jupyter-widgets/controls",
     "model_module_version": "1.5.0",
     "model_name": "FloatProgressModel",
     "state": {
      "_dom_classes": [],
      "_model_module": "@jupyter-widgets/controls",
      "_model_module_version": "1.5.0",
      "_model_name": "FloatProgressModel",
      "_view_count": null,
      "_view_module": "@jupyter-widgets/controls",
      "_view_module_version": "1.5.0",
      "_view_name": "ProgressView",
      "bar_style": "success",
      "description": "100%",
      "description_tooltip": null,
      "layout": "IPY_MODEL_ab4723b68cb14912959fbab1ee21a634",
      "max": 1,
      "min": 0,
      "orientation": "horizontal",
      "style": "IPY_MODEL_90e6805dcc624aa2a5bc5f78c105b6da",
      "value": 1
     }
    },
    "ce9530f8b2b74611bb3a4ac0ed775ce2": {
     "model_module": "@jupyter-widgets/base",
     "model_module_version": "1.2.0",
     "model_name": "LayoutModel",
     "state": {
      "_model_module": "@jupyter-widgets/base",
      "_model_module_version": "1.2.0",
      "_model_name": "LayoutModel",
      "_view_count": null,
      "_view_module": "@jupyter-widgets/base",
      "_view_module_version": "1.2.0",
      "_view_name": "LayoutView",
      "align_content": null,
      "align_items": null,
      "align_self": null,
      "border": null,
      "bottom": null,
      "display": null,
      "flex": null,
      "flex_flow": null,
      "grid_area": null,
      "grid_auto_columns": null,
      "grid_auto_flow": null,
      "grid_auto_rows": null,
      "grid_column": null,
      "grid_gap": null,
      "grid_row": null,
      "grid_template_areas": null,
      "grid_template_columns": null,
      "grid_template_rows": null,
      "height": null,
      "justify_content": null,
      "justify_items": null,
      "left": null,
      "margin": null,
      "max_height": null,
      "max_width": null,
      "min_height": null,
      "min_width": null,
      "object_fit": null,
      "object_position": null,
      "order": null,
      "overflow": null,
      "overflow_x": null,
      "overflow_y": null,
      "padding": null,
      "right": null,
      "top": null,
      "visibility": null,
      "width": null
     }
    },
    "d00030e7b51e490da2b9f6396b13ce72": {
     "model_module": "@jupyter-widgets/base",
     "model_module_version": "1.2.0",
     "model_name": "LayoutModel",
     "state": {
      "_model_module": "@jupyter-widgets/base",
      "_model_module_version": "1.2.0",
      "_model_name": "LayoutModel",
      "_view_count": null,
      "_view_module": "@jupyter-widgets/base",
      "_view_module_version": "1.2.0",
      "_view_name": "LayoutView",
      "align_content": null,
      "align_items": null,
      "align_self": null,
      "border": null,
      "bottom": null,
      "display": null,
      "flex": null,
      "flex_flow": null,
      "grid_area": null,
      "grid_auto_columns": null,
      "grid_auto_flow": null,
      "grid_auto_rows": null,
      "grid_column": null,
      "grid_gap": null,
      "grid_row": null,
      "grid_template_areas": null,
      "grid_template_columns": null,
      "grid_template_rows": null,
      "height": null,
      "justify_content": null,
      "justify_items": null,
      "left": null,
      "margin": null,
      "max_height": null,
      "max_width": null,
      "min_height": null,
      "min_width": null,
      "object_fit": null,
      "object_position": null,
      "order": null,
      "overflow": null,
      "overflow_x": null,
      "overflow_y": null,
      "padding": null,
      "right": null,
      "top": null,
      "visibility": null,
      "width": null
     }
    },
    "d9fa815c1e6647eea1826bc178f2b696": {
     "model_module": "@jupyter-widgets/base",
     "model_module_version": "1.2.0",
     "model_name": "LayoutModel",
     "state": {
      "_model_module": "@jupyter-widgets/base",
      "_model_module_version": "1.2.0",
      "_model_name": "LayoutModel",
      "_view_count": null,
      "_view_module": "@jupyter-widgets/base",
      "_view_module_version": "1.2.0",
      "_view_name": "LayoutView",
      "align_content": null,
      "align_items": null,
      "align_self": null,
      "border": null,
      "bottom": null,
      "display": null,
      "flex": null,
      "flex_flow": null,
      "grid_area": null,
      "grid_auto_columns": null,
      "grid_auto_flow": null,
      "grid_auto_rows": null,
      "grid_column": null,
      "grid_gap": null,
      "grid_row": null,
      "grid_template_areas": null,
      "grid_template_columns": null,
      "grid_template_rows": null,
      "height": null,
      "justify_content": null,
      "justify_items": null,
      "left": null,
      "margin": null,
      "max_height": null,
      "max_width": null,
      "min_height": null,
      "min_width": null,
      "object_fit": null,
      "object_position": null,
      "order": null,
      "overflow": null,
      "overflow_x": null,
      "overflow_y": null,
      "padding": null,
      "right": null,
      "top": null,
      "visibility": null,
      "width": null
     }
    },
    "e03b518b4d484fc7a3ad3b9bf6441df7": {
     "model_module": "@jupyter-widgets/base",
     "model_module_version": "1.2.0",
     "model_name": "LayoutModel",
     "state": {
      "_model_module": "@jupyter-widgets/base",
      "_model_module_version": "1.2.0",
      "_model_name": "LayoutModel",
      "_view_count": null,
      "_view_module": "@jupyter-widgets/base",
      "_view_module_version": "1.2.0",
      "_view_name": "LayoutView",
      "align_content": null,
      "align_items": null,
      "align_self": null,
      "border": null,
      "bottom": null,
      "display": null,
      "flex": null,
      "flex_flow": null,
      "grid_area": null,
      "grid_auto_columns": null,
      "grid_auto_flow": null,
      "grid_auto_rows": null,
      "grid_column": null,
      "grid_gap": null,
      "grid_row": null,
      "grid_template_areas": null,
      "grid_template_columns": null,
      "grid_template_rows": null,
      "height": null,
      "justify_content": null,
      "justify_items": null,
      "left": null,
      "margin": null,
      "max_height": null,
      "max_width": null,
      "min_height": null,
      "min_width": null,
      "object_fit": null,
      "object_position": null,
      "order": null,
      "overflow": null,
      "overflow_x": null,
      "overflow_y": null,
      "padding": null,
      "right": null,
      "top": null,
      "visibility": null,
      "width": null
     }
    },
    "e052f35dc7d24d9dbb8dbe96796a93b4": {
     "model_module": "@jupyter-widgets/controls",
     "model_module_version": "1.5.0",
     "model_name": "DescriptionStyleModel",
     "state": {
      "_model_module": "@jupyter-widgets/controls",
      "_model_module_version": "1.5.0",
      "_model_name": "DescriptionStyleModel",
      "_view_count": null,
      "_view_module": "@jupyter-widgets/base",
      "_view_module_version": "1.2.0",
      "_view_name": "StyleView",
      "description_width": ""
     }
    },
    "e08826ac67af4587b94faa02a55aa7c4": {
     "model_module": "@jupyter-widgets/controls",
     "model_module_version": "1.5.0",
     "model_name": "HBoxModel",
     "state": {
      "_dom_classes": [],
      "_model_module": "@jupyter-widgets/controls",
      "_model_module_version": "1.5.0",
      "_model_name": "HBoxModel",
      "_view_count": null,
      "_view_module": "@jupyter-widgets/controls",
      "_view_module_version": "1.5.0",
      "_view_name": "HBoxView",
      "box_style": "",
      "children": [
       "IPY_MODEL_40f31ceb0e7242eeac858953dfb655da",
       "IPY_MODEL_09cd6ea098394eb9bc9d7d2e1c87be7c"
      ],
      "layout": "IPY_MODEL_74a85bcedf3340d9920b025ceb4ed13f"
     }
    },
    "e0ef7e5bb3084a0b93a13c60d224fd53": {
     "model_module": "@jupyter-widgets/base",
     "model_module_version": "1.2.0",
     "model_name": "LayoutModel",
     "state": {
      "_model_module": "@jupyter-widgets/base",
      "_model_module_version": "1.2.0",
      "_model_name": "LayoutModel",
      "_view_count": null,
      "_view_module": "@jupyter-widgets/base",
      "_view_module_version": "1.2.0",
      "_view_name": "LayoutView",
      "align_content": null,
      "align_items": null,
      "align_self": null,
      "border": null,
      "bottom": null,
      "display": null,
      "flex": null,
      "flex_flow": null,
      "grid_area": null,
      "grid_auto_columns": null,
      "grid_auto_flow": null,
      "grid_auto_rows": null,
      "grid_column": null,
      "grid_gap": null,
      "grid_row": null,
      "grid_template_areas": null,
      "grid_template_columns": null,
      "grid_template_rows": null,
      "height": null,
      "justify_content": null,
      "justify_items": null,
      "left": null,
      "margin": null,
      "max_height": null,
      "max_width": null,
      "min_height": null,
      "min_width": null,
      "object_fit": null,
      "object_position": null,
      "order": null,
      "overflow": null,
      "overflow_x": null,
      "overflow_y": null,
      "padding": null,
      "right": null,
      "top": null,
      "visibility": null,
      "width": null
     }
    },
    "e85f2fac7545406d83393213e7020370": {
     "model_module": "@jupyter-widgets/controls",
     "model_module_version": "1.5.0",
     "model_name": "ProgressStyleModel",
     "state": {
      "_model_module": "@jupyter-widgets/controls",
      "_model_module_version": "1.5.0",
      "_model_name": "ProgressStyleModel",
      "_view_count": null,
      "_view_module": "@jupyter-widgets/base",
      "_view_module_version": "1.2.0",
      "_view_name": "StyleView",
      "bar_color": null,
      "description_width": "initial"
     }
    },
    "ecf63f0246bd49229119eaa099f9f606": {
     "model_module": "@jupyter-widgets/controls",
     "model_module_version": "1.5.0",
     "model_name": "DescriptionStyleModel",
     "state": {
      "_model_module": "@jupyter-widgets/controls",
      "_model_module_version": "1.5.0",
      "_model_name": "DescriptionStyleModel",
      "_view_count": null,
      "_view_module": "@jupyter-widgets/base",
      "_view_module_version": "1.2.0",
      "_view_name": "StyleView",
      "description_width": ""
     }
    },
    "f6baf7dff073439aa4d44fed75ed923e": {
     "model_module": "@jupyter-widgets/controls",
     "model_module_version": "1.5.0",
     "model_name": "HTMLModel",
     "state": {
      "_dom_classes": [],
      "_model_module": "@jupyter-widgets/controls",
      "_model_module_version": "1.5.0",
      "_model_name": "HTMLModel",
      "_view_count": null,
      "_view_module": "@jupyter-widgets/controls",
      "_view_module_version": "1.5.0",
      "_view_name": "HTMLView",
      "description": "",
      "description_tooltip": null,
      "layout": "IPY_MODEL_6fc3bcd76162428bb5b09bd8fab8fdbb",
      "placeholder": "​",
      "style": "IPY_MODEL_7dda26aec18340329c3bdf916f820439",
      "value": " 1680/1680 [04:19&lt;00:00,  6.48ex/s]"
     }
    },
    "f8349118aed141578c37ae550f07e067": {
     "model_module": "@jupyter-widgets/controls",
     "model_module_version": "1.5.0",
     "model_name": "HBoxModel",
     "state": {
      "_dom_classes": [],
      "_model_module": "@jupyter-widgets/controls",
      "_model_module_version": "1.5.0",
      "_model_name": "HBoxModel",
      "_view_count": null,
      "_view_module": "@jupyter-widgets/controls",
      "_view_module_version": "1.5.0",
      "_view_name": "HBoxView",
      "box_style": "",
      "children": [
       "IPY_MODEL_02564341266243b9a21a7def935d8deb",
       "IPY_MODEL_2e106522da6e4c5cbf1056f7090ba71f"
      ],
      "layout": "IPY_MODEL_838e20b0fe914168beaa39f8bf52f33a"
     }
    },
    "fc1eb7f99eec416fbab00a82e003a83b": {
     "model_module": "@jupyter-widgets/base",
     "model_module_version": "1.2.0",
     "model_name": "LayoutModel",
     "state": {
      "_model_module": "@jupyter-widgets/base",
      "_model_module_version": "1.2.0",
      "_model_name": "LayoutModel",
      "_view_count": null,
      "_view_module": "@jupyter-widgets/base",
      "_view_module_version": "1.2.0",
      "_view_name": "LayoutView",
      "align_content": null,
      "align_items": null,
      "align_self": null,
      "border": null,
      "bottom": null,
      "display": null,
      "flex": null,
      "flex_flow": null,
      "grid_area": null,
      "grid_auto_columns": null,
      "grid_auto_flow": null,
      "grid_auto_rows": null,
      "grid_column": null,
      "grid_gap": null,
      "grid_row": null,
      "grid_template_areas": null,
      "grid_template_columns": null,
      "grid_template_rows": null,
      "height": null,
      "justify_content": null,
      "justify_items": null,
      "left": null,
      "margin": null,
      "max_height": null,
      "max_width": null,
      "min_height": null,
      "min_width": null,
      "object_fit": null,
      "object_position": null,
      "order": null,
      "overflow": null,
      "overflow_x": null,
      "overflow_y": null,
      "padding": null,
      "right": null,
      "top": null,
      "visibility": null,
      "width": null
     }
    },
    "ff876bc849e74606abb5ffa090819e34": {
     "model_module": "@jupyter-widgets/base",
     "model_module_version": "1.2.0",
     "model_name": "LayoutModel",
     "state": {
      "_model_module": "@jupyter-widgets/base",
      "_model_module_version": "1.2.0",
      "_model_name": "LayoutModel",
      "_view_count": null,
      "_view_module": "@jupyter-widgets/base",
      "_view_module_version": "1.2.0",
      "_view_name": "LayoutView",
      "align_content": null,
      "align_items": null,
      "align_self": null,
      "border": null,
      "bottom": null,
      "display": null,
      "flex": null,
      "flex_flow": null,
      "grid_area": null,
      "grid_auto_columns": null,
      "grid_auto_flow": null,
      "grid_auto_rows": null,
      "grid_column": null,
      "grid_gap": null,
      "grid_row": null,
      "grid_template_areas": null,
      "grid_template_columns": null,
      "grid_template_rows": null,
      "height": null,
      "justify_content": null,
      "justify_items": null,
      "left": null,
      "margin": null,
      "max_height": null,
      "max_width": null,
      "min_height": null,
      "min_width": null,
      "object_fit": null,
      "object_position": null,
      "order": null,
      "overflow": null,
      "overflow_x": null,
      "overflow_y": null,
      "padding": null,
      "right": null,
      "top": null,
      "visibility": null,
      "width": null
     }
    }
   }
  }
 },
 "nbformat": 4,
 "nbformat_minor": 1
}
