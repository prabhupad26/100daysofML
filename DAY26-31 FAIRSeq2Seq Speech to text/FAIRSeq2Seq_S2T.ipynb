{
 "cells": [
  {
   "cell_type": "code",
   "execution_count": 1,
   "id": "3f769a46",
   "metadata": {},
   "outputs": [],
   "source": [
    "import torch\n",
    "from torchaudio.datasets import LIBRISPEECH\n",
    "from pathlib import Path\n",
    "import torchaudio.sox_effects as ta_sox\n",
    "from tqdm import tqdm\n",
    "import torchaudio.compliance.kaldi as ta_kaldi"
   ]
  },
  {
   "cell_type": "code",
   "execution_count": 2,
   "id": "3439e354",
   "metadata": {},
   "outputs": [
    {
     "ename": "ModuleNotFoundError",
     "evalue": "No module named 'kaldi'",
     "output_type": "error",
     "traceback": [
      "\u001b[1;31m---------------------------------------------------------------------------\u001b[0m",
      "\u001b[1;31mModuleNotFoundError\u001b[0m                       Traceback (most recent call last)",
      "\u001b[1;32m<ipython-input-2-2ad3bed79d74>\u001b[0m in \u001b[0;36m<module>\u001b[1;34m\u001b[0m\n\u001b[1;32m----> 1\u001b[1;33m \u001b[1;32mfrom\u001b[0m \u001b[0mkaldi\u001b[0m\u001b[1;33m.\u001b[0m\u001b[0mfeat\u001b[0m\u001b[1;33m.\u001b[0m\u001b[0mfbank\u001b[0m \u001b[1;32mimport\u001b[0m \u001b[0mFbankOptions\u001b[0m\u001b[1;33m,\u001b[0m \u001b[0mFbank\u001b[0m\u001b[1;33m\u001b[0m\u001b[1;33m\u001b[0m\u001b[0m\n\u001b[0m\u001b[0;32m      2\u001b[0m \u001b[1;32mfrom\u001b[0m \u001b[0mkaldi\u001b[0m\u001b[1;33m.\u001b[0m\u001b[0mfeat\u001b[0m\u001b[1;33m.\u001b[0m\u001b[0mmel\u001b[0m \u001b[1;32mimport\u001b[0m \u001b[0mMelBanksOptions\u001b[0m\u001b[1;33m\u001b[0m\u001b[1;33m\u001b[0m\u001b[0m\n\u001b[0;32m      3\u001b[0m \u001b[1;32mfrom\u001b[0m \u001b[0mkaldi\u001b[0m\u001b[1;33m.\u001b[0m\u001b[0mfeat\u001b[0m\u001b[1;33m.\u001b[0m\u001b[0mwindow\u001b[0m \u001b[1;32mimport\u001b[0m \u001b[0mFrameExtractionOptions\u001b[0m\u001b[1;33m\u001b[0m\u001b[1;33m\u001b[0m\u001b[0m\n\u001b[0;32m      4\u001b[0m \u001b[1;32mfrom\u001b[0m \u001b[0mkaldi\u001b[0m\u001b[1;33m.\u001b[0m\u001b[0mmatrix\u001b[0m \u001b[1;32mimport\u001b[0m \u001b[0mVector\u001b[0m\u001b[1;33m\u001b[0m\u001b[1;33m\u001b[0m\u001b[0m\n",
      "\u001b[1;31mModuleNotFoundError\u001b[0m: No module named 'kaldi'"
     ]
    }
   ],
   "source": [
    "from kaldi.feat.fbank import FbankOptions, Fbank\n",
    "from kaldi.feat.mel import MelBanksOptions\n",
    "from kaldi.feat.window import FrameExtractionOptions\n",
    "from kaldi.matrix import Vector"
   ]
  },
  {
   "cell_type": "code",
   "execution_count": 4,
   "id": "3fdeb051",
   "metadata": {},
   "outputs": [],
   "source": [
    "dataset = LIBRISPEECH(root='data', url='test-clean', download=True)"
   ]
  },
  {
   "cell_type": "code",
   "execution_count": 7,
   "id": "3a3547e5",
   "metadata": {},
   "outputs": [],
   "source": [
    "def _sox_convert(waveform,sample_rate,effects):\n",
    "    try:\n",
    "        import torchaudio.sox_effects as ta_sox\n",
    "    except ImportError:\n",
    "        raise ImportError(\"Please install torchaudio to convert audios\")\n",
    "    return ta_sox.apply_effects_tensor(waveform, sample_rate, effects)[0]\n",
    "\n",
    "\n",
    "def _convert_to_mono(waveform, sample_rate):\n",
    "    if waveform.shape[0] > 1:\n",
    "        _waveform = torch.from_numpy(waveform)\n",
    "        effects = [[\"channels\", \"1\"]]\n",
    "        return _sox_convert(_waveform, sample_rate, effects).numpy()\n",
    "    return waveform\n",
    "\n",
    "def _get_kaldi_fbank(_waveform, sample_rate, n_bins):\n",
    "    mel_opts = MelBanksOptions()\n",
    "    mel_opts.num_bins = n_bins\n",
    "    frame_opts = FrameExtractionOptions()\n",
    "    frame_opts.samp_freq = sample_rate\n",
    "    opts = FbankOptions()\n",
    "    opts.mel_opts = mel_opts\n",
    "    opts.frame_opts = frame_opts\n",
    "    fbank = Fbank(opts=opts)\n",
    "    features = fbank.compute(Vector(waveform.squeeze()), 1.0).numpy()\n",
    "    return features\n",
    "\n",
    "def _get_torchaudio_fbank(_waveform, sample_rate, n_mel_bins):\n",
    "    waveform = torch.from_numpy(waveform)\n",
    "    features = ta_kaldi.fbank(\n",
    "        waveform, num_mel_bins=n_bins, sample_frequency=sample_rate\n",
    "    )\n",
    "    return features.numpy()\n",
    "\n",
    "def extract_fbank_features(wav, sample_rate, output_path, n_mel_bins=80):\n",
    "    _waveform = _convert_to_mono(wav, sample_rate)\n",
    "    _waveform = _waveform * (2 ** 15)  # Kaldi compliance: 16-bit signed integers\n",
    "    _waveform = _waveform.numpy()\n",
    "    features = _get_kaldi_fbank(_waveform, sample_rate, n_mel_bins)\n",
    "    if features is None:\n",
    "        features = _get_torchaudio_fbank(_waveform, sample_rate, n_mel_bins)\n",
    "        \n",
    "    if output_path is not None:\n",
    "        np.save(output_path.as_posix(), features)\n",
    "    "
   ]
  },
  {
   "cell_type": "code",
   "execution_count": 8,
   "id": "50409069",
   "metadata": {},
   "outputs": [
    {
     "name": "stderr",
     "output_type": "stream",
     "text": [
      "  0%|                                                                                         | 0/2620 [00:00<?, ?it/s]\n"
     ]
    },
    {
     "ename": "NameError",
     "evalue": "name 'MelBanksOptions' is not defined",
     "output_type": "error",
     "traceback": [
      "\u001b[1;31m---------------------------------------------------------------------------\u001b[0m",
      "\u001b[1;31mNameError\u001b[0m                                 Traceback (most recent call last)",
      "\u001b[1;32m<ipython-input-8-ebd2a0b8356f>\u001b[0m in \u001b[0;36m<module>\u001b[1;34m\u001b[0m\n\u001b[0;32m      2\u001b[0m \u001b[1;32mfor\u001b[0m \u001b[0mwav\u001b[0m\u001b[1;33m,\u001b[0m \u001b[0msample_rate\u001b[0m\u001b[1;33m,\u001b[0m \u001b[0m_\u001b[0m\u001b[1;33m,\u001b[0m \u001b[0mspk_id\u001b[0m\u001b[1;33m,\u001b[0m \u001b[0mchapter_no\u001b[0m\u001b[1;33m,\u001b[0m \u001b[0mutt_no\u001b[0m \u001b[1;32min\u001b[0m \u001b[0mtqdm\u001b[0m\u001b[1;33m(\u001b[0m\u001b[0mdataset\u001b[0m\u001b[1;33m)\u001b[0m\u001b[1;33m:\u001b[0m\u001b[1;33m\u001b[0m\u001b[1;33m\u001b[0m\u001b[0m\n\u001b[0;32m      3\u001b[0m     \u001b[0msample_id\u001b[0m \u001b[1;33m=\u001b[0m \u001b[1;34mf\"{spk_id}-{chapter_no}-{utt_no}\"\u001b[0m\u001b[1;33m\u001b[0m\u001b[1;33m\u001b[0m\u001b[0m\n\u001b[1;32m----> 4\u001b[1;33m     extract_fbank_features(\n\u001b[0m\u001b[0;32m      5\u001b[0m         \u001b[0mwav\u001b[0m\u001b[1;33m,\u001b[0m \u001b[0msample_rate\u001b[0m\u001b[1;33m,\u001b[0m \u001b[0mfeature_root\u001b[0m \u001b[1;33m/\u001b[0m \u001b[1;34mf\"{sample_id}.npy\"\u001b[0m\u001b[1;33m\u001b[0m\u001b[1;33m\u001b[0m\u001b[0m\n\u001b[0;32m      6\u001b[0m     )\n",
      "\u001b[1;32m<ipython-input-7-77bd2a8de79a>\u001b[0m in \u001b[0;36mextract_fbank_features\u001b[1;34m(wav, sample_rate, output_path, n_mel_bins)\u001b[0m\n\u001b[0;32m     37\u001b[0m     \u001b[0m_waveform\u001b[0m \u001b[1;33m=\u001b[0m \u001b[0m_waveform\u001b[0m \u001b[1;33m*\u001b[0m \u001b[1;33m(\u001b[0m\u001b[1;36m2\u001b[0m \u001b[1;33m**\u001b[0m \u001b[1;36m15\u001b[0m\u001b[1;33m)\u001b[0m  \u001b[1;31m# Kaldi compliance: 16-bit signed integers\u001b[0m\u001b[1;33m\u001b[0m\u001b[1;33m\u001b[0m\u001b[0m\n\u001b[0;32m     38\u001b[0m     \u001b[0m_waveform\u001b[0m \u001b[1;33m=\u001b[0m \u001b[0m_waveform\u001b[0m\u001b[1;33m.\u001b[0m\u001b[0mnumpy\u001b[0m\u001b[1;33m(\u001b[0m\u001b[1;33m)\u001b[0m\u001b[1;33m\u001b[0m\u001b[1;33m\u001b[0m\u001b[0m\n\u001b[1;32m---> 39\u001b[1;33m     \u001b[0mfeatures\u001b[0m \u001b[1;33m=\u001b[0m \u001b[0m_get_kaldi_fbank\u001b[0m\u001b[1;33m(\u001b[0m\u001b[0m_waveform\u001b[0m\u001b[1;33m,\u001b[0m \u001b[0msample_rate\u001b[0m\u001b[1;33m,\u001b[0m \u001b[0mn_mel_bins\u001b[0m\u001b[1;33m)\u001b[0m\u001b[1;33m\u001b[0m\u001b[1;33m\u001b[0m\u001b[0m\n\u001b[0m\u001b[0;32m     40\u001b[0m     \u001b[1;32mif\u001b[0m \u001b[0mfeatures\u001b[0m \u001b[1;32mis\u001b[0m \u001b[1;32mNone\u001b[0m\u001b[1;33m:\u001b[0m\u001b[1;33m\u001b[0m\u001b[1;33m\u001b[0m\u001b[0m\n\u001b[0;32m     41\u001b[0m         \u001b[0mfeatures\u001b[0m \u001b[1;33m=\u001b[0m \u001b[0m_get_torchaudio_fbank\u001b[0m\u001b[1;33m(\u001b[0m\u001b[0m_waveform\u001b[0m\u001b[1;33m,\u001b[0m \u001b[0msample_rate\u001b[0m\u001b[1;33m,\u001b[0m \u001b[0mn_mel_bins\u001b[0m\u001b[1;33m)\u001b[0m\u001b[1;33m\u001b[0m\u001b[1;33m\u001b[0m\u001b[0m\n",
      "\u001b[1;32m<ipython-input-7-77bd2a8de79a>\u001b[0m in \u001b[0;36m_get_kaldi_fbank\u001b[1;34m(_waveform, sample_rate, n_bins)\u001b[0m\n\u001b[0;32m     15\u001b[0m \u001b[1;33m\u001b[0m\u001b[0m\n\u001b[0;32m     16\u001b[0m \u001b[1;32mdef\u001b[0m \u001b[0m_get_kaldi_fbank\u001b[0m\u001b[1;33m(\u001b[0m\u001b[0m_waveform\u001b[0m\u001b[1;33m,\u001b[0m \u001b[0msample_rate\u001b[0m\u001b[1;33m,\u001b[0m \u001b[0mn_bins\u001b[0m\u001b[1;33m)\u001b[0m\u001b[1;33m:\u001b[0m\u001b[1;33m\u001b[0m\u001b[1;33m\u001b[0m\u001b[0m\n\u001b[1;32m---> 17\u001b[1;33m     \u001b[0mmel_opts\u001b[0m \u001b[1;33m=\u001b[0m \u001b[0mMelBanksOptions\u001b[0m\u001b[1;33m(\u001b[0m\u001b[1;33m)\u001b[0m\u001b[1;33m\u001b[0m\u001b[1;33m\u001b[0m\u001b[0m\n\u001b[0m\u001b[0;32m     18\u001b[0m     \u001b[0mmel_opts\u001b[0m\u001b[1;33m.\u001b[0m\u001b[0mnum_bins\u001b[0m \u001b[1;33m=\u001b[0m \u001b[0mn_bins\u001b[0m\u001b[1;33m\u001b[0m\u001b[1;33m\u001b[0m\u001b[0m\n\u001b[0;32m     19\u001b[0m     \u001b[0mframe_opts\u001b[0m \u001b[1;33m=\u001b[0m \u001b[0mFrameExtractionOptions\u001b[0m\u001b[1;33m(\u001b[0m\u001b[1;33m)\u001b[0m\u001b[1;33m\u001b[0m\u001b[1;33m\u001b[0m\u001b[0m\n",
      "\u001b[1;31mNameError\u001b[0m: name 'MelBanksOptions' is not defined"
     ]
    }
   ],
   "source": [
    "feature_root = Path('data').absolute() / 'fbank80'\n",
    "for wav, sample_rate, _, spk_id, chapter_no, utt_no in tqdm(dataset):\n",
    "    sample_id = f\"{spk_id}-{chapter_no}-{utt_no}\"\n",
    "    extract_fbank_features(\n",
    "        wav, sample_rate, feature_root / f\"{sample_id}.npy\"\n",
    "    )"
   ]
  },
  {
   "cell_type": "code",
   "execution_count": 2,
   "id": "379d83a7",
   "metadata": {},
   "outputs": [
    {
     "data": {
      "text/plain": [
       "'soundfile'"
      ]
     },
     "execution_count": 2,
     "metadata": {},
     "output_type": "execute_result"
    }
   ],
   "source": [
    "import torchaudio\n",
    "str(torchaudio.get_audio_backend())"
   ]
  },
  {
   "cell_type": "code",
   "execution_count": null,
   "id": "154823ef",
   "metadata": {},
   "outputs": [],
   "source": []
  },
  {
   "cell_type": "code",
   "execution_count": null,
   "id": "11bff08b",
   "metadata": {},
   "outputs": [],
   "source": []
  },
  {
   "cell_type": "code",
   "execution_count": null,
   "id": "1d3796af",
   "metadata": {},
   "outputs": [],
   "source": []
  },
  {
   "cell_type": "code",
   "execution_count": null,
   "id": "d432ea64",
   "metadata": {},
   "outputs": [],
   "source": []
  },
  {
   "cell_type": "code",
   "execution_count": null,
   "id": "2901272d",
   "metadata": {},
   "outputs": [],
   "source": [
    "state_dict = torch.load('librispeech_transformer_s.pt')"
   ]
  },
  {
   "cell_type": "code",
   "execution_count": null,
   "id": "eabdb6bc",
   "metadata": {},
   "outputs": [],
   "source": [
    "state_dict['last_optimizer_state']"
   ]
  },
  {
   "cell_type": "code",
   "execution_count": null,
   "id": "446049b6",
   "metadata": {},
   "outputs": [],
   "source": [
    "model = state_dict['model']"
   ]
  },
  {
   "cell_type": "code",
   "execution_count": null,
   "id": "3a3a588f",
   "metadata": {},
   "outputs": [],
   "source": []
  },
  {
   "cell_type": "code",
   "execution_count": null,
   "id": "649a96ca",
   "metadata": {},
   "outputs": [],
   "source": []
  }
 ],
 "metadata": {
  "kernelspec": {
   "display_name": "Python 3",
   "language": "python",
   "name": "python3"
  },
  "language_info": {
   "codemirror_mode": {
    "name": "ipython",
    "version": 3
   },
   "file_extension": ".py",
   "mimetype": "text/x-python",
   "name": "python",
   "nbconvert_exporter": "python",
   "pygments_lexer": "ipython3",
   "version": "3.9.5"
  }
 },
 "nbformat": 4,
 "nbformat_minor": 5
}
