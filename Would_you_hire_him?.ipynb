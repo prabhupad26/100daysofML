{
  "nbformat": 4,
  "nbformat_minor": 0,
  "metadata": {
    "colab": {
      "provenance": [],
      "include_colab_link": true
    },
    "kernelspec": {
      "name": "python3",
      "display_name": "Python 3"
    },
    "language_info": {
      "name": "python"
    }
  },
  "cells": [
    {
      "cell_type": "markdown",
      "metadata": {
        "id": "view-in-github",
        "colab_type": "text"
      },
      "source": [
        "<a href=\"https://colab.research.google.com/github/prabhupad26/100daysofML/blob/main/Would_you_hire_him%3F.ipynb\" target=\"_parent\"><img src=\"https://colab.research.google.com/assets/colab-badge.svg\" alt=\"Open In Colab\"/></a>"
      ]
    },
    {
      "cell_type": "markdown",
      "source": [
        "# Evaluate the performance of a binary classification model"
      ],
      "metadata": {
        "id": "2X9Ys1_2s6KR"
      }
    },
    {
      "cell_type": "markdown",
      "source": [
        "A data science job candidate trained a model to predict a binary classification. The ground truth and predicted values for the test split can be found at the end of this section.\n",
        "\n",
        "Please analyze the accuracy of the model and decide whether you would consider hiring this candidate. How did you come to your conclusion?\n",
        "## Data\n"
      ],
      "metadata": {
        "id": "oJF-1tzku8YZ"
      }
    },
    {
      "cell_type": "markdown",
      "source": [
        "ground_truth,prediction  \n",
        "0,1  \n",
        "0,1  \n",
        "0,0  \n",
        "0,1  \n",
        "1,0  \n",
        "0,1  \n",
        "1,0  \n",
        "1,0  \n",
        "0,1  \n",
        "1,0  \n",
        "1,0  \n",
        "0,1  \n",
        "0,1  \n",
        "0,1  \n",
        "0,1  \n",
        "0,1  \n",
        "0,1  \n",
        "0,1  \n",
        "0,1  \n",
        "0,1  \n",
        "0,1  \n",
        "1,0  \n",
        "0,1  \n",
        "0,0  \n",
        "0,1  \n",
        "1,0  \n",
        "1,0  \n",
        "0,1  \n",
        "0,1  \n",
        "1,0  \n",
        "0,1  \n",
        "1,0  \n",
        "1,0  \n",
        "0,0  \n",
        "1,0  \n",
        "1,0  \n",
        "1,1  \n",
        "1,0  \n",
        "1,0  \n",
        "0,1  \n",
        "1,0  \n",
        "0,1  \n",
        "0,1  \n",
        "1,0  \n",
        "0,1  \n",
        "0,1  \n",
        "1,1  \n",
        "1,0  \n",
        "0,1  \n",
        "0,1  \n",
        "0,1  \n",
        "0,1  \n",
        "1,0  \n",
        "0,1  \n",
        "0,1  \n",
        "1,0  \n",
        "0,1  \n",
        "0,1  \n",
        "0,1  \n",
        "0,1  \n",
        "1,0  \n",
        "1,1  \n",
        "0,1  \n",
        "1,0  \n",
        "0,1  \n",
        "1,0  \n",
        "1,0  \n",
        "0,1  \n",
        "0,1  \n",
        "0,1  \n",
        "0,1  \n",
        "0,1  \n",
        "1,0  \n",
        "1,0  \n",
        "1,0  \n",
        "0,1  \n",
        "0,1  \n",
        "0,1  \n",
        "1,0  \n",
        "1,0  \n",
        "0,1  \n",
        "0,1  \n",
        "1,0  \n",
        "1,0  \n",
        "0,1  \n",
        "1,0  \n",
        "0,1  \n",
        "1,0  \n",
        "1,0  \n",
        "1,0  \n",
        "0,1  \n",
        "0,1  \n",
        "1,0  \n",
        "0,1  \n",
        "1,0  \n",
        "1,0  \n",
        "1,0  \n",
        "0,1  \n",
        "0,1  \n",
        "0,1  "
      ],
      "metadata": {
        "id": "odpCHBuFvPsF"
      }
    },
    {
      "cell_type": "markdown",
      "source": [
        "# Your solution"
      ],
      "metadata": {
        "id": "xSuOfOIVvXWn"
      }
    },
    {
      "cell_type": "code",
      "execution_count": null,
      "metadata": {
        "id": "RWr19mpnpE6f"
      },
      "outputs": [],
      "source": [
        "import pandas as pd"
      ]
    }
  ]
}