{
 "cells": [
  {
   "cell_type": "code",
   "execution_count": 21,
   "metadata": {
    "colab": {},
    "colab_type": "code",
    "id": "D7Knnk1YRVdR"
   },
   "outputs": [],
   "source": [
    "import torch\n",
    "from torchvision import datasets\n",
    "import torchvision.transforms as transforms\n",
    "import matplotlib.pyplot as plt\n",
    "import numpy as np\n",
    "import torch.nn as nn\n",
    "import torch.nn.functional as F\n",
    "import torch.optim\n",
    "from torch.utils.data import random_split\n",
    "from torch.utils.data.sampler import SubsetRandomSampler\n",
    "from torch.optim.lr_scheduler import StepLR\n",
    "from torch.utils.tensorboard import SummaryWriter\n",
    "from sklearn.metrics import confusion_matrix\n",
    "import torchvision"
   ]
  },
  {
   "cell_type": "code",
   "execution_count": 3,
   "metadata": {
    "colab": {
     "base_uri": "https://localhost:8080/",
     "height": 252
    },
    "colab_type": "code",
    "id": "aNxnzUiMRofx",
    "outputId": "7d2a2d6c-a0ce-4d8a-d939-7fe2954e5542"
   },
   "outputs": [
    {
     "name": "stderr",
     "output_type": "stream",
     "text": [
      "C:\\Users\\prabh\\anaconda3\\envs\\boston_house_prices_prediction\\lib\\site-packages\\torchvision\\datasets\\mnist.py:498: UserWarning: The given NumPy array is not writeable, and PyTorch does not support non-writeable tensors. This means you can write to the underlying (supposedly non-writeable) NumPy array using the tensor. You may want to copy the array to protect its data or make it writeable before converting it to a tensor. This type of warning will be suppressed for the rest of this program. (Triggered internally at  ..\\torch\\csrc\\utils\\tensor_numpy.cpp:180.)\n",
      "  return torch.from_numpy(parsed.astype(m[2], copy=False)).view(*s)\n"
     ]
    }
   ],
   "source": [
    "train_transform = [transforms.ToTensor(), transforms.Normalize((0.1307,), (0.3081,))]\n",
    "train_transform = transforms.Compose(train_transform)\n",
    "num_workers = 0\n",
    "batch_size = 40\n",
    "train_data = datasets.MNIST(root='../data', train= True, download=False, transform=train_transform)\n",
    "valid_data = datasets.MNIST(root='../data', train= True, download=False, transform=train_transform)\n",
    "test_data = datasets.MNIST(root='../data', train= False, download=False, transform=train_transform)"
   ]
  },
  {
   "cell_type": "code",
   "execution_count": 4,
   "metadata": {},
   "outputs": [],
   "source": [
    "num_train = len(train_data)\n",
    "data_idx = list(range(num_train))\n",
    "split_idx = int(num_train * 0.05)\n",
    "train_idx, valid_idx = data_idx[split_idx:], data_idx[:split_idx]"
   ]
  },
  {
   "cell_type": "code",
   "execution_count": 5,
   "metadata": {},
   "outputs": [],
   "source": [
    "train_sampler = SubsetRandomSampler(train_idx)\n",
    "valid_sampler = SubsetRandomSampler(valid_idx)"
   ]
  },
  {
   "cell_type": "code",
   "execution_count": 6,
   "metadata": {
    "colab": {},
    "colab_type": "code",
    "id": "7i_XM3daRpEH"
   },
   "outputs": [],
   "source": [
    "train_loader = torch.utils.data.DataLoader(train_data,\n",
    "                                           batch_size= batch_size,\n",
    "                                           sampler = train_sampler,\n",
    "                                           num_workers= num_workers)\n",
    "valid_loader = torch.utils.data.DataLoader(valid_data,\n",
    "                                           batch_size= batch_size,\n",
    "                                           sampler = valid_sampler,\n",
    "                                           num_workers= num_workers)\n",
    "\n",
    "test_loader = torch.utils.data.DataLoader(test_data, \n",
    "                                          batch_size = batch_size, \n",
    "                                          num_workers = num_workers)"
   ]
  },
  {
   "cell_type": "code",
   "execution_count": 7,
   "metadata": {},
   "outputs": [
    {
     "data": {
      "text/plain": [
       "torch.Size([40, 1, 28, 28])"
      ]
     },
     "execution_count": 7,
     "metadata": {},
     "output_type": "execute_result"
    }
   ],
   "source": [
    "dataiter = iter(train_loader)\n",
    "img, lbl = dataiter.next()\n",
    "img.shape"
   ]
  },
  {
   "cell_type": "code",
   "execution_count": 9,
   "metadata": {},
   "outputs": [],
   "source": [
    "learning_rate = 0.01"
   ]
  },
  {
   "cell_type": "code",
   "execution_count": 10,
   "metadata": {},
   "outputs": [],
   "source": [
    "writer = SummaryWriter(f\"runs/MNIST/MiniBatchSize {batch_size} LR {learning_rate}\")"
   ]
  },
  {
   "cell_type": "code",
   "execution_count": 11,
   "metadata": {
    "colab": {
     "base_uri": "https://localhost:8080/",
     "height": 101
    },
    "colab_type": "code",
    "id": "2YoAz8ccUV7O",
    "outputId": "f9ea46d8-82e1-40db-cc06-04e470c06b60"
   },
   "outputs": [
    {
     "name": "stdout",
     "output_type": "stream",
     "text": [
      "Total elements in the network : 407050\n"
     ]
    }
   ],
   "source": [
    "# Declaring a neural network\n",
    "\n",
    "class Net(nn.Module):\n",
    "    def __init__(self):\n",
    "        super(Net, self).__init__()\n",
    "        self.fc1 = nn.Linear(28*28, 512)\n",
    "        self.fc2 = nn.Linear(512, 10)\n",
    "        self.dropout = nn.Dropout(0.2)\n",
    "    def forward(self, x):\n",
    "        x = F.relu(self.fc1(x.view(batch_size,28*28)))\n",
    "        x = self.dropout(x)\n",
    "        x = F.relu(self.fc2(x))\n",
    "        return x\n",
    "model = Net()\n",
    "print(f'Total elements in the network : {sum([p.numel() for p in model.parameters()])}')"
   ]
  },
  {
   "cell_type": "code",
   "execution_count": 17,
   "metadata": {},
   "outputs": [],
   "source": [
    "writer.add_graph(model, img)\n",
    "writer.close()"
   ]
  },
  {
   "cell_type": "code",
   "execution_count": 18,
   "metadata": {
    "colab": {},
    "colab_type": "code",
    "id": "FInO8u6gUZ7s"
   },
   "outputs": [],
   "source": [
    "criterion = nn.CrossEntropyLoss()\n",
    "optimizer = torch.optim.SGD(model.parameters(), lr=0.001)"
   ]
  },
  {
   "cell_type": "code",
   "execution_count": 19,
   "metadata": {},
   "outputs": [],
   "source": [
    "def validate_training():\n",
    "    model.eval()\n",
    "    valid_loss = 0.0    \n",
    "    for data, target in valid_loader:\n",
    "        output = model(data)\n",
    "        loss = criterion(output, target)\n",
    "        valid_loss += loss.item() * data.size(0)\n",
    "    valid_loss = valid_loss / (len(valid_loader) * batch_size)\n",
    "    print(\"Epoch {} : Validation loss : {:.6f}\".format(epoch+1, valid_loss))\n",
    "    return valid_loss"
   ]
  },
  {
   "cell_type": "code",
   "execution_count": 23,
   "metadata": {
    "colab": {
     "base_uri": "https://localhost:8080/",
     "height": 353
    },
    "colab_type": "code",
    "id": "NzN1xDEIUbgR",
    "outputId": "420af5c8-e769-4d4b-8e2e-ac09463afbe1"
   },
   "outputs": [
    {
     "name": "stdout",
     "output_type": "stream",
     "text": [
      "Epoch 1 : Training loss : 0.329719\n",
      "Epoch 1 : Validation loss : 0.310650\n",
      "Epoch 2 : Training loss : 0.315984\n",
      "Epoch 2 : Validation loss : 0.298213\n",
      "Epoch 3 : Training loss : 0.302014\n",
      "Epoch 3 : Validation loss : 0.286786\n",
      "Epoch 4 : Training loss : 0.292121\n",
      "Epoch 4 : Validation loss : 0.278030\n",
      "Epoch 5 : Training loss : 0.282941\n",
      "Epoch 5 : Validation loss : 0.269129\n",
      "Epoch 6 : Training loss : 0.272911\n",
      "Epoch 6 : Validation loss : 0.261510\n",
      "Epoch 7 : Training loss : 0.265181\n",
      "Epoch 7 : Validation loss : 0.254637\n",
      "Epoch 8 : Training loss : 0.258033\n",
      "Epoch 8 : Validation loss : 0.247925\n",
      "Epoch 9 : Training loss : 0.251624\n",
      "Epoch 9 : Validation loss : 0.241587\n",
      "Epoch 10 : Training loss : 0.245690\n",
      "Epoch 10 : Validation loss : 0.235725\n",
      "Epoch 11 : Training loss : 0.238299\n",
      "Epoch 11 : Validation loss : 0.230548\n",
      "Epoch 12 : Training loss : 0.233146\n",
      "Epoch 12 : Validation loss : 0.225519\n",
      "Epoch 13 : Training loss : 0.227616\n",
      "Epoch 13 : Validation loss : 0.220770\n",
      "Epoch 14 : Training loss : 0.221466\n",
      "Epoch 14 : Validation loss : 0.216163\n",
      "Epoch 15 : Training loss : 0.217747\n",
      "Epoch 15 : Validation loss : 0.211800\n",
      "Epoch 16 : Training loss : 0.211977\n",
      "Epoch 16 : Validation loss : 0.207495\n",
      "Epoch 17 : Training loss : 0.208633\n",
      "Epoch 17 : Validation loss : 0.203944\n",
      "Epoch 18 : Training loss : 0.203568\n",
      "Epoch 18 : Validation loss : 0.200095\n",
      "Epoch 19 : Training loss : 0.199840\n",
      "Epoch 19 : Validation loss : 0.196396\n",
      "Epoch 20 : Training loss : 0.195269\n",
      "Epoch 20 : Validation loss : 0.192974\n"
     ]
    }
   ],
   "source": [
    "step = 0\n",
    "per_epoch_loss = []\n",
    "validation_error = []\n",
    "accuracies = []\n",
    "epochs = 20\n",
    "for epoch in range(epochs):\n",
    "    model.train()\n",
    "    train_loss = 0.0\n",
    "    losses = []\n",
    "    for data, target in train_loader:\n",
    "        optimizer.zero_grad()\n",
    "        output = model(data)\n",
    "        loss = criterion(output, target)\n",
    "        loss.backward()\n",
    "        optimizer.step()\n",
    "        \n",
    "        _, predictions = output.max(1)\n",
    "        num_correct = (predictions == target).sum()\n",
    "        running_train_acc = float(num_correct) / float(data.shape[0])\n",
    "        accuracies.append(running_train_acc)\n",
    "        losses.append(loss.item())\n",
    "        train_loss += loss.item() * data.size(0)\n",
    "        features = data.reshape(data.shape[0], -1)\n",
    "        img_grid = torchvision.utils.make_grid(data)\n",
    "        writer.add_image(\"mnist_images\", img_grid)\n",
    "        writer.add_histogram(\"fc1\", model.fc1.weight)\n",
    "        writer.add_scalar(\"Training loss\", loss, global_step=step)\n",
    "        writer.add_scalar(\n",
    "            \"Training Accuracy\", running_train_acc, global_step=step\n",
    "        )\n",
    "    train_loss = train_loss / len(train_loader.dataset)\n",
    "    print(\"Epoch {} : Training loss : {:.6f}\".format(epoch+1, train_loss))\n",
    "    per_epoch_loss.append(train_loss)\n",
    "    validation_error.append(validate_training())\n",
    "    step += 1"
   ]
  },
  {
   "cell_type": "code",
   "execution_count": 24,
   "metadata": {},
   "outputs": [],
   "source": [
    "writer.add_hparams(\n",
    "                {\"lr\": learning_rate, \"bsize\": batch_size},\n",
    "                {\n",
    "                    \"accuracy\": sum(accuracies) / len(accuracies),\n",
    "                    \"loss\": sum(losses) / len(losses),\n",
    "                },\n",
    "            )\n",
    "writer.close()"
   ]
  },
  {
   "cell_type": "code",
   "execution_count": 25,
   "metadata": {
    "scrolled": true
   },
   "outputs": [
    {
     "data": {
      "image/png": "[encoded data removed]",
      "text/plain": [
       "<Figure size 432x288 with 1 Axes>"
      ]
     },
     "metadata": {
      "needs_background": "light"
     },
     "output_type": "display_data"
    }
   ],
   "source": [
    "plt.plot(np.arange(20), per_epoch_loss, label='Training Loss')\n",
    "plt.plot(np.arange(20), validation_error, label='Validation Loss')\n",
    "plt.xlabel('Epoch')\n",
    "plt.ylabel('Error')\n",
    "plt.legend()\n",
    "plt.show()"
   ]
  },
  {
   "cell_type": "code",
   "execution_count": null,
   "metadata": {},
   "outputs": [],
   "source": []
  }
 ],
 "metadata": {
  "accelerator": "GPU",
  "colab": {
   "collapsed_sections": [],
   "include_colab_link": true,
   "name": "EMNIST DATA pytorch.ipynb",
   "provenance": [],
   "version": "0.3.2"
  },
  "kernelspec": {
   "display_name": "Python 3",
   "language": "python",
   "name": "python3"
  },
  "language_info": {
   "codemirror_mode": {
    "name": "ipython",
    "version": 3
   },
   "file_extension": ".py",
   "mimetype": "text/x-python",
   "name": "python",
   "nbconvert_exporter": "python",
   "pygments_lexer": "ipython3",
   "version": "3.9.5"
  }
 },
 "nbformat": 4,
 "nbformat_minor": 1
}
