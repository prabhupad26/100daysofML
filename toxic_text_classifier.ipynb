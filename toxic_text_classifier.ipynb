{
 "cells": [
  {
   "cell_type": "code",
   "execution_count": 89,
   "id": "46e0a923",
   "metadata": {},
   "outputs": [],
   "source": [
    "import pandas as pd\n",
    "import numpy as np\n",
    "from matplotlib import pyplot as plt\n",
    "import seaborn as sns\n",
    "from sklearn.feature_extraction.text import TfidfVectorizer\n",
    "from xgboost import XGBClassifier\n",
    "from lightgbm import LGBMClassifier\n",
    "from sklearn.metrics import accuracy_score"
   ]
  },
  {
   "cell_type": "code",
   "execution_count": 82,
   "id": "57a476d2",
   "metadata": {},
   "outputs": [],
   "source": [
    "train_df = pd.read_csv(\"train.csv\")\n",
    "test_df = pd.read_csv(\"test.csv\")\n",
    "test_labels = pd.read_csv(\"test_labels.csv\")\n",
    "sample_submissions_df = pd.read_csv(\"sample_submission.csv\")"
   ]
  },
  {
   "cell_type": "code",
   "execution_count": 83,
   "id": "5e9b03a6",
   "metadata": {},
   "outputs": [
    {
     "data": {
      "text/plain": [
       "(array([[144277.,      0.,      0.,      0.,      0.,      0.,      0.,\n",
       "              0.,      0.,  15294.],\n",
       "        [157976.,      0.,      0.,      0.,      0.,      0.,      0.,\n",
       "              0.,      0.,   1595.],\n",
       "        [151122.,      0.,      0.,      0.,      0.,      0.,      0.,\n",
       "              0.,      0.,   8449.],\n",
       "        [159093.,      0.,      0.,      0.,      0.,      0.,      0.,\n",
       "              0.,      0.,    478.],\n",
       "        [151694.,      0.,      0.,      0.,      0.,      0.,      0.,\n",
       "              0.,      0.,   7877.],\n",
       "        [158166.,      0.,      0.,      0.,      0.,      0.,      0.,\n",
       "              0.,      0.,   1405.]]),\n",
       " array([0. , 0.1, 0.2, 0.3, 0.4, 0.5, 0.6, 0.7, 0.8, 0.9, 1. ]),\n",
       " <a list of 6 BarContainer objects>)"
      ]
     },
     "execution_count": 83,
     "metadata": {},
     "output_type": "execute_result"
    },
    {
     "data": {
      "image/png": "[encoded data removed]",
      "text/plain": [
       "<Figure size 432x288 with 1 Axes>"
      ]
     },
     "metadata": {
      "needs_background": "light"
     },
     "output_type": "display_data"
    }
   ],
   "source": [
    "plt.hist([train_df.toxic, train_df.severe_toxic, train_df.obscene, train_df.threat, train_df.insult, train_df.identity_hate])"
   ]
  },
  {
   "cell_type": "code",
   "execution_count": 84,
   "id": "4a4036a2",
   "metadata": {},
   "outputs": [
    {
     "data": {
      "text/plain": [
       "TfidfVectorizer(max_features=5000, stop_words='english')"
      ]
     },
     "execution_count": 84,
     "metadata": {},
     "output_type": "execute_result"
    }
   ],
   "source": [
    "vect = TfidfVectorizer(max_features=5000,stop_words='english')\n",
    "vect"
   ]
  },
  {
   "cell_type": "code",
   "execution_count": 85,
   "id": "68655c22",
   "metadata": {
    "scrolled": false
   },
   "outputs": [
    {
     "data": {
      "text/plain": [
       "<159571x5000 sparse matrix of type '<class 'numpy.float64'>'\n",
       "\twith 3228494 stored elements in Compressed Sparse Row format>"
      ]
     },
     "execution_count": 85,
     "metadata": {},
     "output_type": "execute_result"
    }
   ],
   "source": [
    "X_dtm = vect.fit_transform(train_df.comment_text.values.astype('U'))\n",
    "X_dtm"
   ]
  },
  {
   "cell_type": "code",
   "execution_count": 86,
   "id": "c1166373",
   "metadata": {},
   "outputs": [
    {
     "data": {
      "text/plain": [
       "<153164x5000 sparse matrix of type '<class 'numpy.float64'>'\n",
       "\twith 2668361 stored elements in Compressed Sparse Row format>"
      ]
     },
     "execution_count": 86,
     "metadata": {},
     "output_type": "execute_result"
    }
   ],
   "source": [
    "test_x_dtm = vect.fit_transform(test_df.comment_text.values.astype('U'))\n",
    "test_x_dtm"
   ]
  },
  {
   "cell_type": "code",
   "execution_count": 87,
   "id": "6fa11035",
   "metadata": {},
   "outputs": [],
   "source": [
    "clf1 = XGBClassifier(use_label_encoder= False, eval_metric='logloss', objective= 'binary:logistic')\n",
    "clf2 = LGBMClassifier()"
   ]
  },
  {
   "cell_type": "code",
   "execution_count": 88,
   "id": "a17d4963",
   "metadata": {},
   "outputs": [],
   "source": [
    "cols_target = ['toxic', 'severe_toxic', 'obscene', 'threat', 'insult', 'identity_hate']"
   ]
  },
  {
   "cell_type": "code",
   "execution_count": 94,
   "id": "299c29ac",
   "metadata": {},
   "outputs": [],
   "source": [
    "test_df_lgbm = test_df\n",
    "test_df_xgb = test_df"
   ]
  },
  {
   "cell_type": "code",
   "execution_count": 95,
   "id": "080be0e9",
   "metadata": {},
   "outputs": [
    {
     "name": "stdout",
     "output_type": "stream",
     "text": [
      "Training accuracy is : 0.9605128751464865\n",
      "Training accuracy is : 0.9941718733353805\n",
      "Training accuracy is : 0.9848656710805849\n",
      "Training accuracy is : 0.9986275701725251\n",
      "Training accuracy is : 0.9772891064165794\n",
      "Training accuracy is : 0.9949238896792023\n"
     ]
    }
   ],
   "source": [
    "for label in cols_target:\n",
    "    clf1.fit(X_dtm, train_df[label])\n",
    "    train_pred = clf1.predict(X_dtm)\n",
    "    test_acc = accuracy_score(train_df[label], train_pred)\n",
    "    print(f\"Training accuracy is : {test_acc}\")\n",
    "    test_pred = clf1.predict(test_x_dtm)\n",
    "    test_df_xgb[label] = test_pred"
   ]
  },
  {
   "cell_type": "code",
   "execution_count": 105,
   "id": "2539c2ae",
   "metadata": {},
   "outputs": [],
   "source": [
    "test_df_xgb.drop(columns=['comment_text']).to_csv('result_xgb.csv')"
   ]
  },
  {
   "cell_type": "code",
   "execution_count": 106,
   "id": "adf93bb9",
   "metadata": {},
   "outputs": [
    {
     "name": "stdout",
     "output_type": "stream",
     "text": [
      "Training accuracy is : 0.9949238896792023\n",
      "Training accuracy is : 0.9949238896792023\n",
      "Training accuracy is : 0.9949238896792023\n",
      "Training accuracy is : 0.9949238896792023\n",
      "Training accuracy is : 0.9949238896792023\n",
      "Training accuracy is : 0.9949238896792023\n"
     ]
    }
   ],
   "source": [
    "for label in cols_target:\n",
    "    clf2.fit(X_dtm, train_df[label])\n",
    "    train_pred = clf2.predict(X_dtm)\n",
    "    train_acc = accuracy_score(train_df[label], train_pred)\n",
    "    print(f\"Training accuracy is : {test_acc}\")\n",
    "    test_pred = clf2.predict(test_x_dtm)\n",
    "    test_df_lgbm[label] = test_pred"
   ]
  },
  {
   "cell_type": "code",
   "execution_count": 107,
   "id": "bf843e8e",
   "metadata": {},
   "outputs": [],
   "source": [
    "test_df_lgbm.drop(columns=['comment_text']).to_csv('result_lgbm.csv')"
   ]
  },
  {
   "cell_type": "code",
   "execution_count": null,
   "id": "3cc5ddb3",
   "metadata": {},
   "outputs": [],
   "source": []
  }
 ],
 "metadata": {
  "kernelspec": {
   "display_name": "Python 3",
   "language": "python",
   "name": "python3"
  },
  "language_info": {
   "codemirror_mode": {
    "name": "ipython",
    "version": 3
   },
   "file_extension": ".py",
   "mimetype": "text/x-python",
   "name": "python",
   "nbconvert_exporter": "python",
   "pygments_lexer": "ipython3",
   "version": "3.9.5"
  }
 },
 "nbformat": 4,
 "nbformat_minor": 5
}
