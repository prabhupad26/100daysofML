{
 "cells": [
  {
   "cell_type": "code",
   "execution_count": 21,
   "id": "0b4b7943",
   "metadata": {},
   "outputs": [],
   "source": [
    "import torch\n",
    "from torchvision import transforms, datasets, models\n",
    "import os\n",
    "import matplotlib.pyplot as plt\n",
    "import numpy as np\n",
    "import torch.nn as nn\n",
    "import torch.optim as optim\n",
    "from PIL import Image\n",
    "from torchvision.utils import save_image"
   ]
  },
  {
   "cell_type": "code",
   "execution_count": 2,
   "id": "e1595345",
   "metadata": {},
   "outputs": [],
   "source": [
    "device = \"gpu\" if torch.cuda.is_available() else \"cpu\""
   ]
  },
  {
   "cell_type": "code",
   "execution_count": 3,
   "id": "8da05f8f",
   "metadata": {},
   "outputs": [
    {
     "data": {
      "text/plain": [
       "'cpu'"
      ]
     },
     "execution_count": 3,
     "metadata": {},
     "output_type": "execute_result"
    }
   ],
   "source": [
    "device"
   ]
  },
  {
   "cell_type": "code",
   "execution_count": 10,
   "id": "12e657a5",
   "metadata": {
    "scrolled": true
   },
   "outputs": [],
   "source": [
    "def load_image(path):\n",
    "    image = Image.open(path)\n",
    "    image = loader(image).unsqueeze(0)\n",
    "    return image.to(device)"
   ]
  },
  {
   "cell_type": "code",
   "execution_count": 12,
   "id": "c5bf0fd9",
   "metadata": {},
   "outputs": [],
   "source": [
    "imsize = 356\n",
    "loader = transforms.Compose([transforms.Resize((imsize, imsize)), transforms.ToTensor(),\n",
    "                             transforms.Normalize(mean=[0.485, 0.456, 0.406], std=[0.229, 0.224, 0.225])])"
   ]
  },
  {
   "cell_type": "code",
   "execution_count": 17,
   "id": "e5bff536",
   "metadata": {},
   "outputs": [],
   "source": [
    "original = load_image('target.png')\n",
    "style = load_image('style.jpg')\n",
    "generated = original.clone().requires_grad_(True)"
   ]
  },
  {
   "cell_type": "code",
   "execution_count": 16,
   "id": "d6c734b0",
   "metadata": {},
   "outputs": [],
   "source": [
    "class VGG(nn.Module):\n",
    "    def __init__(self):\n",
    "        super(VGG, self).__init__()\n",
    "        # chosen layers : conv1_1, conv2_1, conv3_1, conv4_1, conv5_1\n",
    "        self.chosen_features = [\"0\", \"5\", \"10\", \"19\", \"28\"]\n",
    "        self.model = models.vgg19(pretrained=True).features[:29]\n",
    "        \n",
    "    def forward(self, x):\n",
    "        features = []\n",
    "        for layer_num, layer in enumerate(self.model):\n",
    "            x = layer(x)\n",
    "            if str(layer_num) in self.chosen_features:\n",
    "                features.append(x)\n",
    "        return features"
   ]
  },
  {
   "cell_type": "code",
   "execution_count": 18,
   "id": "ac4c6422",
   "metadata": {},
   "outputs": [
    {
     "name": "stderr",
     "output_type": "stream",
     "text": [
      "Downloading: \"https://download.pytorch.org/models/vgg19-dcbb9e9d.pth\" to C:\\Users\\prabh/.cache\\torch\\hub\\checkpoints\\vgg19-dcbb9e9d.pth\n"
     ]
    },
    {
     "data": {
      "application/vnd.jupyter.widget-view+json": {
       "model_id": "03fb9b768c1b40f48bac0b1dece6ffa9",
       "version_major": 2,
       "version_minor": 0
      },
      "text/plain": [
       "  0%|          | 0.00/548M [00:00<?, ?B/s]"
      ]
     },
     "metadata": {},
     "output_type": "display_data"
    }
   ],
   "source": [
    "model = VGG().to(device).eval()"
   ]
  },
  {
   "cell_type": "code",
   "execution_count": 20,
   "id": "b912ad55",
   "metadata": {},
   "outputs": [],
   "source": [
    "total_steps = 6000\n",
    "learning_rate = 0.001\n",
    "alpha = 1\n",
    "beta = 0.01\n",
    "optimizer = optim.Adam([generated], lr=learning_rate)"
   ]
  },
  {
   "cell_type": "code",
   "execution_count": null,
   "id": "9362fc70",
   "metadata": {},
   "outputs": [
    {
     "name": "stdout",
     "output_type": "stream",
     "text": [
      "tensor(60728180., grad_fn=<AddBackward0>)\n"
     ]
    }
   ],
   "source": [
    "for step in range(total_steps):\n",
    "    generated_features = model(generated)\n",
    "    original_img_features = model(original)\n",
    "    style_features = model(style)\n",
    "    style_loss, target_loss = 0, 0\n",
    "    for gen_feature, orig_feature, sty_feature in zip(generated_features, original_img_features, style_features):\n",
    "        batch_size, channel, height, width = gen_feature.shape\n",
    "        target_loss += torch.mean((gen_feature - orig_feature) ** 2)\n",
    "        G = gen_feature.view(channel, height * width).mm(gen_feature.view(channel, height * width).t())\n",
    "        A = sty_feature.view(channel, height * width).mm(sty_feature.view(channel, height * width).t())\n",
    "        style_loss += torch.mean((G - A) ** 2)\n",
    "    \n",
    "    total_loss = alpha * target_loss + beta * style_loss\n",
    "    optimizer.zero_grad()\n",
    "    total_loss.backward()\n",
    "    optimizer.step()\n",
    "    \n",
    "    if step % 200 == 0:\n",
    "        print(total_loss)\n",
    "        save_image(generated, 'generated.png' )"
   ]
  },
  {
   "cell_type": "code",
   "execution_count": 27,
   "id": "36993f40",
   "metadata": {},
   "outputs": [
    {
     "data": {
      "text/plain": [
       "tensor(60936712., grad_fn=<AddBackward0>)"
      ]
     },
     "execution_count": 27,
     "metadata": {},
     "output_type": "execute_result"
    }
   ],
   "source": [
    "total_loss"
   ]
  }
 ],
 "metadata": {
  "kernelspec": {
   "display_name": "Python 3",
   "language": "python",
   "name": "python3"
  },
  "language_info": {
   "codemirror_mode": {
    "name": "ipython",
    "version": 3
   },
   "file_extension": ".py",
   "mimetype": "text/x-python",
   "name": "python",
   "nbconvert_exporter": "python",
   "pygments_lexer": "ipython3",
   "version": "3.9.5"
  }
 },
 "nbformat": 4,
 "nbformat_minor": 5
}
